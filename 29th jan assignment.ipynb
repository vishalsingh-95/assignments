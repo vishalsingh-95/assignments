{
 "cells": [
  {
   "cell_type": "code",
   "execution_count": 1,
   "id": "435edf58-2195-476e-bfb3-3c95e95de734",
   "metadata": {},
   "outputs": [],
   "source": [
    "##Q1) Guido van Rossum"
   ]
  },
  {
   "cell_type": "code",
   "execution_count": 2,
   "id": "d698702c-5edb-4492-877e-564c25229d67",
   "metadata": {},
   "outputs": [],
   "source": [
    "##Q2) python supports object oriented, functional and structured programming"
   ]
  },
  {
   "cell_type": "code",
   "execution_count": 3,
   "id": "8ff1bdec-e346-486d-be45-0e629650932b",
   "metadata": {},
   "outputs": [],
   "source": [
    "##Q3) yes python is case sensitive language"
   ]
  },
  {
   "cell_type": "code",
   "execution_count": 4,
   "id": "208e8cae-105e-4377-9a57-7c3369763845",
   "metadata": {},
   "outputs": [],
   "source": [
    "##Q4) when we save a python file on jupyter notebook, the file is saved with .jpynb extension"
   ]
  },
  {
   "cell_type": "code",
   "execution_count": 5,
   "id": "9edac4fe-8ea0-44e1-b20f-525563f2f376",
   "metadata": {},
   "outputs": [],
   "source": [
    "##Q5) python code is always interpreted"
   ]
  },
  {
   "cell_type": "code",
   "execution_count": 6,
   "id": "dded14e3-4b72-4d53-b897-37d8c753cbf0",
   "metadata": {},
   "outputs": [],
   "source": [
    "##Q6) indentation is used to define a block of codes in python"
   ]
  },
  {
   "cell_type": "code",
   "execution_count": 7,
   "id": "a0fb974d-f0bd-4612-a705-ff04ec129fc1",
   "metadata": {},
   "outputs": [],
   "source": [
    "##Q7) ##  is used to give a single line comment in python"
   ]
  },
  {
   "cell_type": "code",
   "execution_count": 8,
   "id": "b558b4b2-80d8-436f-a9d7-8fc9fa7ce591",
   "metadata": {},
   "outputs": [],
   "source": [
    "##Q8) sys.version, python_version(), python-v command"
   ]
  },
  {
   "cell_type": "code",
   "execution_count": 9,
   "id": "ce4e72af-f93e-46d4-b34f-9437ddbce797",
   "metadata": {},
   "outputs": [],
   "source": [
    "##Q9) lambda"
   ]
  },
  {
   "cell_type": "code",
   "execution_count": 10,
   "id": "0b167621-facf-48dd-8867-71d85c1c2102",
   "metadata": {},
   "outputs": [],
   "source": [
    "##Q10) PIP:- preferred installer program"
   ]
  },
  {
   "cell_type": "code",
   "execution_count": 11,
   "id": "1f22575f-31f5-4877-8368-a98b8ba8a596",
   "metadata": {},
   "outputs": [],
   "source": [
    "##Q11) few built in functions in python are:_\n",
    "## 1) sum(), count(), append(), count(), sort(), etc"
   ]
  },
  {
   "cell_type": "code",
   "execution_count": 12,
   "id": "b106d6fc-ade8-4971-915f-08257cc753b7",
   "metadata": {},
   "outputs": [],
   "source": [
    "##Q12) maximum possible length of identifier is 79 characters"
   ]
  },
  {
   "cell_type": "code",
   "execution_count": 13,
   "id": "e8bfe0a1-5d2d-4c3f-95ae-9802262fc839",
   "metadata": {},
   "outputs": [
    {
     "data": {
      "text/plain": [
       "'Q13) benefits of using pythons are\\n1) its simple and easy to understand\\n2) it is free and is an open source language.\\n3)it is an interpreted language.\\n4) it has an extensive library.\\n5) it is a dynamically typed language.\\n6) its files are portable.'"
      ]
     },
     "execution_count": 13,
     "metadata": {},
     "output_type": "execute_result"
    }
   ],
   "source": [
    "\"\"\"Q13) benefits of using pythons are\n",
    "1) its simple and easy to understand\n",
    "2) it is free and is an open source language.\n",
    "3)it is an interpreted language.\n",
    "4) it has an extensive library.\n",
    "5) it is a dynamically typed language.\n",
    "6) its files are portable.\"\"\""
   ]
  },
  {
   "cell_type": "code",
   "execution_count": 14,
   "id": "9b31c77f-f56e-4236-b496-8f035d8dea89",
   "metadata": {},
   "outputs": [
    {
     "data": {
      "text/plain": [
       "'Q14) memory management in python involves the management of a private heap.\\nthis heap is exclusive to the python process'"
      ]
     },
     "execution_count": 14,
     "metadata": {},
     "output_type": "execute_result"
    }
   ],
   "source": [
    "\"\"\"Q14) memory management in python involves the management of a private heap.\n",
    "this heap is exclusive to the python process\"\"\""
   ]
  },
  {
   "cell_type": "code",
   "execution_count": 15,
   "id": "9fb2282e-cd0b-447d-91fe-1b3ce486552a",
   "metadata": {},
   "outputs": [],
   "source": [
    "# Q15) Download the latest version of Python from the official website (https://www.python.org/downloads/windows/) and run the installer.\n",
    "\n",
    "# In the installer, select the \"Customize installation\" option and make sure to select the \"Add Python to PATH\" option.\n",
    "\n",
    "# Follow the prompts and complete the installation.\n",
    "\n",
    "# To check if Python is installed properly, open the Command Prompt and type \"python\" and press enter. If the installation is successful, the Python version number and the Python prompt (>>>) should be displayed.\n",
    "\n",
    "# To set the path variables, right-click on \"This PC\" and select \"Properties\".\n",
    "\n",
    "# Click on \"Advanced system settings\" on the left-hand side.\n",
    "\n",
    "# In the \"System Properties\" window, click on the \"Environment Variables\" button.\n",
    "\n",
    "# In the \"Environment Variables\" window, scroll down to the \"System Variables\" section and find the \"Path\" variable. Click on \"Edit\".\n",
    "\n",
    "# Add the path to the Python installation directory (e.g. C:\\Python39) to the list of paths.\n",
    "\n",
    "# Click \"OK\" to save the changes and close all windows.\n",
    "\n",
    "# To confirm that the path variable is set correctly, open a new Command Prompt window and type \"python\" and press enter. If Python opens without any errors, then the path variable has been set correctly."
   ]
  },
  {
   "cell_type": "code",
   "execution_count": null,
   "id": "5ec5c752-904d-413b-98bc-d207c94bc3f5",
   "metadata": {},
   "outputs": [],
   "source": []
  }
 ],
 "metadata": {
  "kernelspec": {
   "display_name": "Python 3 (ipykernel)",
   "language": "python",
   "name": "python3"
  },
  "language_info": {
   "codemirror_mode": {
    "name": "ipython",
    "version": 3
   },
   "file_extension": ".py",
   "mimetype": "text/x-python",
   "name": "python",
   "nbconvert_exporter": "python",
   "pygments_lexer": "ipython3",
   "version": "3.10.8"
  }
 },
 "nbformat": 4,
 "nbformat_minor": 5
}
