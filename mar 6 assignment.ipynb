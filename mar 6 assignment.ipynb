{
 "cells": [
  {
   "cell_type": "markdown",
   "id": "c319a308-0c37-42ae-b90b-febc1e2d7e32",
   "metadata": {},
   "source": [
    "# Q1"
   ]
  },
  {
   "cell_type": "markdown",
   "id": "bcb48c8c-a41f-4fbd-ad6a-9cd180f5478e",
   "metadata": {},
   "source": [
    "#  It is the science of collecting, organising and analysing data, wheras data is the facts or pieces of information that we get from a certain source wether in raw or organised format"
   ]
  },
  {
   "cell_type": "markdown",
   "id": "51b3b3b2-5153-4d56-845a-ec254acb1639",
   "metadata": {},
   "source": [
    "# Q2"
   ]
  },
  {
   "cell_type": "markdown",
   "id": "c4fa5739-f598-4192-a1b7-2920cdfdcf63",
   "metadata": {},
   "source": [
    "# There are 2 different types of statistics:-\n",
    "\n",
    "# 1) Descriptive statistics:\n",
    "Descriptive statistics is used for organising and analysing the given data by calculating its central tendencies and measure of dispersion, etc.\n",
    "\n",
    "# 2) Inferential statistics:\n",
    "Inferential statistics involves using that data to perform certain tests (Z test, T test Chi Square test) and forming a conclusion."
   ]
  },
  {
   "cell_type": "markdown",
   "id": "b0db25f5-1d3e-4c1a-a8bf-45736840d152",
   "metadata": {},
   "source": [
    "# Q3"
   ]
  },
  {
   "cell_type": "markdown",
   "id": "575c91bf-fb84-4f51-a3b8-23239f4f4682",
   "metadata": {},
   "source": [
    "# Data is basically divided into two broad categories and that categories are further broken down into two more sub categories:\n",
    "\n",
    "# 1) Quantitative Data:\n",
    "#     i) Discreet: Discreet means it has to be an integeral value like whole numbers or natural numbers but it can not be a fractional value. For example:- Bank account number\n",
    "#     ii) Continuous: This means the value can be any real number. For example:- Height, weight,speed, etc.\n",
    "# 2) Qualitative Data:\n",
    "#     i) Nominal: Where there is no rank in the categories, for example gender, blood group, etc.\n",
    "#     ii) Ordinal: Where rank has to be taken into consideration. For example:- Customer feedback report where there are separate categories like ,good,bad,satisfactory."
   ]
  },
  {
   "cell_type": "markdown",
   "id": "7081ff60-763f-4b26-987c-7457c823295b",
   "metadata": {},
   "source": [
    "# Q4"
   ]
  },
  {
   "cell_type": "markdown",
   "id": "0693f602-8992-46a7-b1c3-777c1e183c9e",
   "metadata": {},
   "source": [
    "# (i) Grading in exam: A+, A, B+, B, C+, C, D, E :- This is qualitative ordinal data\n",
    "# (ii) Colour of mangoes: yellow, green, orange, red:- This is Qualitative nominal data\n",
    "# (iii) Height data of a class: [178.9, 179, 179.5, 176, 177.2, 178.3, 175.8,...]:- This is quantitative continuous data\n",
    "# (iv) Number of mangoes exported by a farm: [500, 600, 478, 672, …]:- This is Quantitative discreet data"
   ]
  },
  {
   "cell_type": "markdown",
   "id": "f5952985-8d11-4999-aa5d-d9a4fa7a9ae5",
   "metadata": {},
   "source": [
    "# Q5"
   ]
  },
  {
   "cell_type": "markdown",
   "id": "a9e9ef6a-9957-4b19-97a4-aca6275f865a",
   "metadata": {},
   "source": [
    "# There are 4 level of measurements:-\n",
    "\n",
    "# 1) Nominal scale:\n",
    "This scale of measurement is qualitative or categorical\n",
    "For example:- genders, colours and label\n",
    "Here order does not matter\n",
    "\n",
    "# 2) Ordinal scale:\n",
    "Here rank and order are important but we can not measure the difference between the data.\n",
    "for example: 1) good, 2) bad 3) satisfactory\n",
    "these are the data recieved through feedback from the customers but we can not measure the difference between good and bad.\n",
    "\n",
    "# 3) Interval scale:\n",
    "Here order matters also difference can be measured but the ratiocan not be taken or even if it does the ratio does not serve any purpose.\n",
    "It also has no true \"zero\" starting point.\n",
    "For example:- Temperature:- [30,60,90,120] here temperature is in F. here the difference in temperature can be taken but the ratio of temperature will not give any significant value.\n",
    "\n",
    "# 4) Ratio scale:\n",
    "Here order matters, also the difference and ratios are measurable and it contains a zero starting point.\n",
    "For example:- Marks obtained by the student in a test."
   ]
  },
  {
   "cell_type": "markdown",
   "id": "105952ea-772b-44e4-834f-9c257df25add",
   "metadata": {},
   "source": [
    "# Q6"
   ]
  },
  {
   "cell_type": "markdown",
   "id": "3ce7a462-3f3a-420d-b6fa-28a2e7455688",
   "metadata": {},
   "source": [
    "# Understanding the level of measurement is crucial when analyzing data because it determines the type of statistical analysis that can be applied, the appropriate measures of central tendency and dispersion, and the interpretation of the results. The level of measurement refers to the mathematical properties and characteristics of the data."
   ]
  },
  {
   "cell_type": "markdown",
   "id": "ebd00e1f-6d9f-4602-b014-ba9c62ee7ca7",
   "metadata": {},
   "source": [
    "# For example:- if marks obtained by the student out of 100 is taken as a nominal or ordinal data, we will not be able to apply any sort of basic operation to get the central tendencies of the marks and any information provided by this data will be useless."
   ]
  },
  {
   "cell_type": "markdown",
   "id": "d4c271ac-6ee2-49e7-b95c-a3a95ab22fbc",
   "metadata": {},
   "source": [
    "# Q7"
   ]
  },
  {
   "cell_type": "markdown",
   "id": "04719841-49b2-4004-ac5c-af0c0fa22fca",
   "metadata": {},
   "source": [
    "# Nominal: Where there is no rank in the categories, for example gender, blood group, etc.\n",
    "# Ordinal: Where rank has to be taken into consideration. For example:- Customer feedback report where there are separate categories like ,good,bad,satisfactory."
   ]
  },
  {
   "cell_type": "markdown",
   "id": "b4dbbb55-04a8-4bb8-82ea-89d7a6e468b0",
   "metadata": {},
   "source": [
    "# Q8"
   ]
  },
  {
   "cell_type": "markdown",
   "id": "3db7cfe8-bc8b-4ca5-84a8-a7a6a0622b54",
   "metadata": {},
   "source": [
    "# Plot used to display data in terms of range is Boxplot."
   ]
  },
  {
   "cell_type": "markdown",
   "id": "6d0d2015-b60c-471b-ac78-bb2af7a2727b",
   "metadata": {},
   "source": [
    "# Q9"
   ]
  },
  {
   "cell_type": "markdown",
   "id": "f895f658-d830-4cb6-88da-9b7f8ca9544b",
   "metadata": {},
   "source": [
    "# 1) Descriptive statistics:\n",
    "Descriptive statistics is used for organising and analysing the given data by calculating its central tendencies and measure of dispersion, etc.\n",
    "\n",
    "# 2) Inferential statistics:\n",
    "Inferential statistics involves using that data to perform certain tests (Z test, T test Chi Square test) and forming a conclusion."
   ]
  },
  {
   "cell_type": "markdown",
   "id": "995090cb-e2c8-41b2-a6c9-8bf5e4fb6096",
   "metadata": {},
   "source": [
    "# Q10"
   ]
  },
  {
   "cell_type": "markdown",
   "id": "0a3d69a6-baca-4852-863e-f1d8aa402d16",
   "metadata": {},
   "source": [
    "# Common measures of central tendency used in statistics include the mean, median, and mode.\n",
    "\n",
    "# 1) Mean:\n",
    "The mean is calculated by summing up all the values in the dataset and dividing the sum by the total number of observations. It represents the arithmetic average of the data. The mean is sensitive to extreme values, as it takes into account all the values in the dataset. It is commonly used when the data is normally distributed or symmetrical.\n",
    "\n",
    "# 2) Median:\n",
    "The median is the middle value in an ordered dataset, separating the higher half from the lower half. If the dataset has an odd number of observations, the median is the middle value. If the dataset has an even number of observations, the median is the average of the two middle values. The median is robust to extreme values, making it suitable for skewed or non-normal distributions. It represents the value that divides the dataset into two equal parts.\n",
    "\n",
    "# 3) Mode: \n",
    "The mode represents the most frequently occurring value or values in a dataset. It is useful for categorical or discrete data, as it provides insight into the most common category or value. \n",
    "\n",
    "# Measures of variability describe the spread or dispersion of the data. Common measures of variability include the range, variance, and standard deviation.\n",
    "\n",
    "# 1) Range:\n",
    "The range is the simplest measure of variability and is calculated by subtracting the minimum value from the maximum value in a dataset. \n",
    "\n",
    "# 2) Variance:\n",
    "The variance measures the average squared deviation from the mean. It calculates the average of the squared differences between each data point and the mean. Variance provides a more comprehensive measure of dispersion, taking into account the entire dataset. \n",
    "\n",
    "# 3) Standard Deviation: \n",
    "The standard deviation is the square root of the variance. It measures the average deviation from the mean in the original units of the data. Standard deviation provides a widely used and easily interpretable measure of dispersion. It is particularly useful when comparing variability across different datasets or when assessing the spread of data around the mean."
   ]
  },
  {
   "cell_type": "code",
   "execution_count": null,
   "id": "1c388a2e-b91f-4d8a-ba80-5e28765a1a15",
   "metadata": {},
   "outputs": [],
   "source": []
  }
 ],
 "metadata": {
  "kernelspec": {
   "display_name": "Python 3 (ipykernel)",
   "language": "python",
   "name": "python3"
  },
  "language_info": {
   "codemirror_mode": {
    "name": "ipython",
    "version": 3
   },
   "file_extension": ".py",
   "mimetype": "text/x-python",
   "name": "python",
   "nbconvert_exporter": "python",
   "pygments_lexer": "ipython3",
   "version": "3.10.8"
  }
 },
 "nbformat": 4,
 "nbformat_minor": 5
}
