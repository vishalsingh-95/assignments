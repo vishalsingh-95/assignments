{
 "cells": [
  {
   "cell_type": "markdown",
   "id": "71ddbe41-d95c-49e2-9604-9621be0f3317",
   "metadata": {},
   "source": [
    "# Q1"
   ]
  },
  {
   "cell_type": "markdown",
   "id": "f1244a2c-6cfe-4ebc-acf7-2d2bdf7662f1",
   "metadata": {},
   "source": [
    "# Multithreading in Python refers to the capability of executing multiple threads (smaller units of a program) concurrently within a single process.\n",
    "\n",
    "# Multithreading is used in Python to achieve concurrent execution of multiple tasks or processes. It is particularly useful when certain operations, like I/O operations or waiting for external resources, can cause a program to stall. By using threads, these blocking operations can be performed concurrently, allowing other parts of the program to continue execution, thus improving overall efficiency.\n",
    "\n",
    "# The \"threading\" module is used to handle threads in python"
   ]
  },
  {
   "cell_type": "markdown",
   "id": "59c0bac3-c4b8-4bc0-a284-3d9e60975d13",
   "metadata": {},
   "source": [
    "# Q2"
   ]
  },
  {
   "cell_type": "markdown",
   "id": "89fe913e-81c5-4249-8ba4-ea03bd8b75fb",
   "metadata": {},
   "source": [
    "# The threading module in Python is used to handle threads and provides a high-level interface for creating and managing threads within a Python program.\n",
    "1) active_count(): This function is used to obtain the number of currently active Thread objects in the program. It returns an integer representing the count of active threads.\n",
    "2) current_thread(): This function returns the current Thread object corresponding to the caller's thread of execution. It can be used to obtain information about the currently executing thread.\n",
    "3) enumerate(): The enumerate() function returns a list of all currently active Thread objects. "
   ]
  },
  {
   "cell_type": "markdown",
   "id": "1e2bd3a8-fc1f-4848-85f4-6d354bdf77c0",
   "metadata": {},
   "source": [
    "# Q3"
   ]
  },
  {
   "cell_type": "markdown",
   "id": "810311ae-397a-4111-b5ab-a74deb95a403",
   "metadata": {},
   "source": [
    "# run() : When a custom class inherits from Thread and overrides the run() method, the run() method defines the behavior that will be executed in the thread. This method contains the code that the thread will execute when it is started.\n",
    "# start() : This method is called on a Thread object to start the execution of the thread. It initiates the concurrent execution of the target function.\n",
    "# join() : The join() method is used to wait for the thread to complete its execution. It blocks the calling thread until the target thread finishes its execution or until the specified timeout (in seconds) expires.\n",
    "# is_alive() : This method returns a boolean value indicating whether the thread is currently alive (actively executing) or not."
   ]
  },
  {
   "cell_type": "markdown",
   "id": "9421e68a-f68b-42f4-b862-adac78923daf",
   "metadata": {},
   "source": [
    "# Q4"
   ]
  },
  {
   "cell_type": "markdown",
   "id": "7a31cace-90c4-4c48-9e6b-4c403fc2d66f",
   "metadata": {},
   "source": [
    "# Write a python program to create two threads. Thread one must print the list of squares and thread\n",
    "two must print the list of cubes.\n"
   ]
  },
  {
   "cell_type": "code",
   "execution_count": 1,
   "id": "2b5434d9-1ee8-46e9-aa24-0fc2abbf5464",
   "metadata": {},
   "outputs": [
    {
     "name": "stdout",
     "output_type": "stream",
     "text": [
      "the square of 0 is 0\n",
      "the square of 1 is 1\n",
      "the square of 2 is 4\n",
      "the square of 3 is 9\n",
      "the square of 4 is 16\n",
      "the square of 5 is 25\n",
      "the square of 6 is 36\n",
      "the square of 7 is 49\n",
      "the square of 8 is 64\n",
      "the square of 9 is 81\n",
      "the cube of 0 is 0\n",
      "the cube of 1 is 1\n",
      "the cube of 2 is 8\n",
      "the cube of 3 is 27\n",
      "the cube of 4 is 64\n",
      "the cube of 5 is 125\n",
      "the cube of 6 is 216\n",
      "the cube of 7 is 343\n",
      "the cube of 8 is 512\n",
      "the cube of 9 is 729\n"
     ]
    }
   ],
   "source": [
    "import threading\n",
    "def square(x):\n",
    "    print(\"the square of %d is %d\"%(x,x*x))\n",
    "def cube(x):\n",
    "    print(\"the cube of %d is %d\"%(x,x**3))\n",
    "\n",
    "thread1=[threading.Thread(target=square,args=(i,)) for i in range(10)]\n",
    "thread2=[threading.Thread(target=cube,args=(i,)) for i in range(10)]\n",
    "for t1 in thread1:\n",
    "    t1.start()\n",
    "for t2 in thread2:\n",
    "    t2.start()"
   ]
  },
  {
   "cell_type": "markdown",
   "id": "36108505-8e1a-4c8e-8441-b1b8065e8638",
   "metadata": {},
   "source": [
    "# Q5"
   ]
  },
  {
   "cell_type": "markdown",
   "id": "15dcd30d-71ff-4ae4-99b1-398a1994c883",
   "metadata": {},
   "source": [
    "# Advantages of multi threading are as follows:\n",
    "1) Improved Performance: Multithreading allows for concurrent execution of multiple threads, enabling the program to utilize multiple CPU cores efficiently. This can lead to improved performance and faster execution times, especially when dealing with tasks that can be executed in parallel.\n",
    "2) Responsiveness and Enhanced User Experience: Multithreading helps in maintaining program responsiveness by keeping the user interface responsive while performing lengthy operations in the background. It prevents the program from becoming unresponsive or \"freezing\" during resource-intensive tasks.\n",
    "3) Resource Sharing: Threads within the same process can share data and resources more easily compared to multiple processes. This enables efficient communication and sharing of information between threads, reducing the need for complex inter-process communication mechanisms.\n",
    "4) Concurrency and Asynchronous Operations: Multithreading allows for concurrent execution of different tasks or operations within a program. It facilitates the implementation of asynchronous operations, where multiple tasks can proceed independently, enhancing overall program efficiency and responsiveness.\n",
    "\n",
    "# Disadvantage of multithreading are as follows:\n",
    "1) Complexity and Difficulty of Debugging: Multithreaded programs can be more complex to design, implement, and debug compared to single-threaded programs. Issues such as race conditions, deadlocks, and synchronization errors can arise, making it challenging to identify and fix such problems.\n",
    "2) Potential for Deadlocks and Synchronization Issues: If not handled properly, multithreaded programs can suffer from deadlocks, where threads become stuck waiting for each other, resulting in program halts. Managing synchronization and avoiding deadlocks require careful consideration and design.\n",
    "3) Increased Memory Overhead: Each thread in a program requires additional memory for its stack and other thread-specific data structures. Creating too many threads or using excessively large stacks can lead to increased memory usage and potentially impact overall performance."
   ]
  },
  {
   "cell_type": "markdown",
   "id": "a3d8e1ce-90a3-4576-8b4d-ce2423ad6777",
   "metadata": {},
   "source": [
    "# Q6"
   ]
  },
  {
   "cell_type": "markdown",
   "id": "68108c93-084f-4af2-867d-a7899ebbfa6d",
   "metadata": {},
   "source": [
    "# Deadlock:\n",
    "Deadlock:\n",
    "Deadlock refers to a situation in concurrent programming where two or more threads or processes are unable to proceed because each is waiting for the other to release a resource or take some action. It occurs when there is a circular dependency between multiple threads or processes, and none of them can make progress. Deadlocks can lead to programs becoming unresponsive or freezing indefinitely.\n",
    "\n",
    "# Race condition:\n",
    "A race condition occurs when the behavior of a program depends on the interleaving or timing of multiple threads' execution. It arises when two or more threads access shared resources concurrently, and the final outcome of the program depends on the particular order in which the threads execute. The result of a race condition is typically inconsistent or incorrect data.\n",
    "For example if Thread X and Thread Y, both attempt to update a shared variable. If the threads execute concurrently without proper synchronization mechanisms in place, the final value of the shared variable can be unpredictable. The outcome depends on the relative timing and interleaving of the threads' execution, which will lead to a race condition. The result may vary each time the program runs, causing incorrect calculations, data corruption, or unexpected program behavior."
   ]
  },
  {
   "cell_type": "code",
   "execution_count": null,
   "id": "0a157c06-3080-4533-b486-634a7126f2b0",
   "metadata": {},
   "outputs": [],
   "source": []
  }
 ],
 "metadata": {
  "kernelspec": {
   "display_name": "Python 3 (ipykernel)",
   "language": "python",
   "name": "python3"
  },
  "language_info": {
   "codemirror_mode": {
    "name": "ipython",
    "version": 3
   },
   "file_extension": ".py",
   "mimetype": "text/x-python",
   "name": "python",
   "nbconvert_exporter": "python",
   "pygments_lexer": "ipython3",
   "version": "3.10.8"
  }
 },
 "nbformat": 4,
 "nbformat_minor": 5
}
