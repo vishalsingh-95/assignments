{
 "cells": [
  {
   "cell_type": "markdown",
   "id": "a923a607-d7aa-450f-88fb-f4792227d364",
   "metadata": {},
   "source": [
    "#Q1"
   ]
  },
  {
   "cell_type": "markdown",
   "id": "d1067925-dcd6-4dce-a969-9bebfaa7af56",
   "metadata": {},
   "source": [
    "#For loop is used when we know how many iterations we have to perform or we know the starting and end point,for ex:-"
   ]
  },
  {
   "cell_type": "code",
   "execution_count": 1,
   "id": "1709f00e-b36a-4ea5-a1d0-150a58d81b73",
   "metadata": {},
   "outputs": [
    {
     "name": "stdin",
     "output_type": "stream",
     "text": [
      "Enter a number: 7\n"
     ]
    },
    {
     "name": "stdout",
     "output_type": "stream",
     "text": [
      "7\n",
      "14\n",
      "21\n",
      "28\n",
      "35\n",
      "42\n",
      "49\n",
      "56\n",
      "63\n",
      "70\n"
     ]
    }
   ],
   "source": [
    "#to print 1st 10 factors of a given number\n",
    "n=int(input(\"Enter a number:\"))\n",
    "for i in range(1,11):\n",
    "    print(i*n)"
   ]
  },
  {
   "cell_type": "markdown",
   "id": "8a267fd2-0325-4287-86e4-3de1cb974752",
   "metadata": {},
   "source": [
    "#While loop is used when only the condition is known but the number of iterations is unknown,for ex:-"
   ]
  },
  {
   "cell_type": "code",
   "execution_count": 4,
   "id": "bad70314-0edf-4377-8013-fef7efbf6871",
   "metadata": {},
   "outputs": [
    {
     "name": "stdin",
     "output_type": "stream",
     "text": [
      "Enter the number: 667\n"
     ]
    },
    {
     "name": "stdout",
     "output_type": "stream",
     "text": [
      "number of times the number 667 can be divided by 3 before it gets less than or equal to 10 is: 3\n"
     ]
    }
   ],
   "source": [
    "#to find how many times a number has to be divided by 3 till it is greater than or equal to 10\n",
    "m=int(input(\"Enter the number:\"))\n",
    "count=0\n",
    "n=m\n",
    "while n>=10:\n",
    "    count+=1\n",
    "    n=n/3\n",
    "print(\"number of times the number\",m,\"can be divided by 3 before it gets less than or equal to 10 is:\",count-1)"
   ]
  },
  {
   "cell_type": "markdown",
   "id": "9495eb8d-a7ce-4ee3-bdbb-ee8c498288f1",
   "metadata": {},
   "source": [
    "#Q2"
   ]
  },
  {
   "cell_type": "markdown",
   "id": "3add4503-7a8e-456a-8481-9195287de403",
   "metadata": {},
   "source": [
    "#sum using for loop"
   ]
  },
  {
   "cell_type": "code",
   "execution_count": 5,
   "id": "cd1e2a2d-ff30-4057-85fc-9760eb8df02d",
   "metadata": {},
   "outputs": [
    {
     "name": "stdout",
     "output_type": "stream",
     "text": [
      "The sum of 1st 10 natural number is: 55\n"
     ]
    }
   ],
   "source": [
    "result_sum=0\n",
    "for i in range(1,11):\n",
    "    result_sum+=i\n",
    "print(\"The sum of 1st 10 natural number is:\",result_sum)"
   ]
  },
  {
   "cell_type": "markdown",
   "id": "e6c3a2a5-4e66-4b7f-928b-4ec46dc4b65e",
   "metadata": {},
   "source": [
    "#Sum using while loop"
   ]
  },
  {
   "cell_type": "code",
   "execution_count": 6,
   "id": "b61c94c5-4994-42c9-84cc-f9913b0337bf",
   "metadata": {},
   "outputs": [
    {
     "name": "stdout",
     "output_type": "stream",
     "text": [
      "The sum of 1st 10 natural number is: 55\n"
     ]
    }
   ],
   "source": [
    "result=0\n",
    "i=1\n",
    "while i<=10:\n",
    "    result+=i\n",
    "    i=i+1\n",
    "print(\"The sum of 1st 10 natural number is:\",result)"
   ]
  },
  {
   "cell_type": "markdown",
   "id": "9979298e-f8b6-41d5-8da4-af0ed17d4ee9",
   "metadata": {},
   "source": [
    "#product using for loop"
   ]
  },
  {
   "cell_type": "code",
   "execution_count": 7,
   "id": "15cd0ca4-0d81-401f-9416-a5868e164be8",
   "metadata": {},
   "outputs": [
    {
     "name": "stdout",
     "output_type": "stream",
     "text": [
      "The product of 1st 10 natural number is: 3628800\n"
     ]
    }
   ],
   "source": [
    "result_product=1\n",
    "for i in range(1,11):\n",
    "    result_product*=i\n",
    "print(\"The product of 1st 10 natural number is:\",result_product)"
   ]
  },
  {
   "cell_type": "markdown",
   "id": "09e58a99-da31-49de-8afe-7fceb4af6b5e",
   "metadata": {},
   "source": [
    "#product using while loop"
   ]
  },
  {
   "cell_type": "code",
   "execution_count": 8,
   "id": "85606b34-35b6-457c-aecf-0b889c425f0e",
   "metadata": {},
   "outputs": [
    {
     "name": "stdout",
     "output_type": "stream",
     "text": [
      "The product of 1st 10 natural number is: 3628800\n"
     ]
    }
   ],
   "source": [
    "result1=1\n",
    "i=1\n",
    "while i<=10:\n",
    "    result1*=i\n",
    "    i=i+1\n",
    "print(\"The product of 1st 10 natural number is:\",result1)"
   ]
  },
  {
   "cell_type": "markdown",
   "id": "1caf1d55-1e4f-4058-bd9e-999bcaa9f0c0",
   "metadata": {},
   "source": [
    "#Q3"
   ]
  },
  {
   "cell_type": "code",
   "execution_count": 2,
   "id": "82c82422-b641-4557-9783-e27d5881efc7",
   "metadata": {},
   "outputs": [
    {
     "name": "stdin",
     "output_type": "stream",
     "text": [
      "Enter the units consumed: 216\n"
     ]
    },
    {
     "name": "stdout",
     "output_type": "stream",
     "text": [
      "The bill for  216 units is: 1210.0\n"
     ]
    }
   ],
   "source": [
    "units=int(input(\"Enter the units consumed:\"))\n",
    "if units<=100:\n",
    "    bill=units*4.5\n",
    "    print(\"The bill for \",units,\"units is:\",bill)\n",
    "elif units>100 and units<=200:\n",
    "    bill=100*4.5+(units-100)*6\n",
    "    print(\"The bill for \",units,\"units is:\",bill)\n",
    "elif units>200 and units<=300:\n",
    "    bill=100*4.5+100*6+(units-200)*10\n",
    "    print(\"The bill for \",units,\"units is:\",bill)\n",
    "else:\n",
    "    bill=100*4.5+100*6+100*10+(units-300)*20\n",
    "    print(\"The bill for \",units,\"units is:\",bill)"
   ]
  },
  {
   "cell_type": "markdown",
   "id": "90515869-9648-4192-87a8-dbf6559c0b01",
   "metadata": {},
   "source": [
    "#Q4"
   ]
  },
  {
   "cell_type": "code",
   "execution_count": 16,
   "id": "d86740fb-9eab-407f-94cb-5c4c2692b337",
   "metadata": {},
   "outputs": [
    {
     "data": {
      "text/plain": [
       "[2.0,\n",
       " 3.9999999999999996,\n",
       " 4.999999999999999,\n",
       " 5.999999999999999,\n",
       " 7.999999999999999,\n",
       " 9.999999999999998,\n",
       " 11.999999999999998,\n",
       " 13.999999999999998,\n",
       " 14.999999999999998,\n",
       " 15.999999999999998,\n",
       " 17.999999999999996,\n",
       " 19.999999999999996,\n",
       " 21.999999999999996,\n",
       " 23.999999999999996,\n",
       " 24.999999999999996,\n",
       " 25.999999999999996,\n",
       " 27.999999999999996,\n",
       " 29.999999999999993,\n",
       " 31.999999999999993,\n",
       " 33.99999999999999,\n",
       " 34.99999999999999,\n",
       " 35.99999999999999,\n",
       " 37.99999999999999,\n",
       " 39.99999999999999,\n",
       " 41.99999999999999,\n",
       " 43.99999999999999,\n",
       " 44.99999999999999,\n",
       " 45.99999999999999,\n",
       " 47.99999999999999,\n",
       " 49.999999999999986,\n",
       " 51.999999999999986,\n",
       " 53.999999999999986,\n",
       " 54.999999999999986,\n",
       " 55.999999999999986,\n",
       " 57.999999999999986,\n",
       " 59.999999999999986,\n",
       " 61.999999999999986,\n",
       " 63.999999999999986,\n",
       " 64.99999999999999,\n",
       " 65.99999999999999,\n",
       " 67.99999999999999,\n",
       " 69.99999999999999,\n",
       " 71.99999999999999,\n",
       " 73.99999999999999,\n",
       " 74.99999999999999,\n",
       " 75.99999999999999,\n",
       " 77.99999999999999,\n",
       " 79.99999999999999,\n",
       " 81.99999999999999,\n",
       " 83.99999999999999,\n",
       " 84.99999999999999,\n",
       " 85.99999999999999,\n",
       " 87.99999999999997,\n",
       " 89.99999999999997,\n",
       " 91.99999999999997,\n",
       " 93.99999999999997,\n",
       " 94.99999999999997,\n",
       " 95.99999999999997,\n",
       " 97.99999999999997,\n",
       " 99.99999999999997]"
      ]
     },
     "execution_count": 16,
     "metadata": {},
     "output_type": "execute_result"
    }
   ],
   "source": [
    "#using for loop\n",
    "l=list(range(1,101))\n",
    "l1=[]\n",
    "for i in l:\n",
    "    l1.append(i**3)\n",
    "l2=[]\n",
    "for i in l1:\n",
    "    if i%4==0 or i%5==0:\n",
    "        l2.append(i**(1/3))\n",
    "l2"
   ]
  },
  {
   "cell_type": "markdown",
   "id": "fc0183ec-64ab-4707-840f-4377b180b154",
   "metadata": {},
   "source": [
    "#using while loop"
   ]
  },
  {
   "cell_type": "code",
   "execution_count": 1,
   "id": "609bb372-551e-4b5c-ac78-614aa5d38af6",
   "metadata": {},
   "outputs": [
    {
     "data": {
      "text/plain": [
       "[2.0,\n",
       " 3.9999999999999996,\n",
       " 4.999999999999999,\n",
       " 5.999999999999999,\n",
       " 7.999999999999999,\n",
       " 9.999999999999998,\n",
       " 11.999999999999998,\n",
       " 13.999999999999998,\n",
       " 14.999999999999998,\n",
       " 15.999999999999998,\n",
       " 17.999999999999996,\n",
       " 19.999999999999996,\n",
       " 21.999999999999996,\n",
       " 23.999999999999996,\n",
       " 24.999999999999996,\n",
       " 25.999999999999996,\n",
       " 27.999999999999996,\n",
       " 29.999999999999993,\n",
       " 31.999999999999993,\n",
       " 33.99999999999999,\n",
       " 34.99999999999999,\n",
       " 35.99999999999999,\n",
       " 37.99999999999999,\n",
       " 39.99999999999999,\n",
       " 41.99999999999999,\n",
       " 43.99999999999999,\n",
       " 44.99999999999999,\n",
       " 45.99999999999999,\n",
       " 47.99999999999999,\n",
       " 49.999999999999986,\n",
       " 51.999999999999986,\n",
       " 53.999999999999986,\n",
       " 54.999999999999986,\n",
       " 55.999999999999986,\n",
       " 57.999999999999986,\n",
       " 59.999999999999986,\n",
       " 61.999999999999986,\n",
       " 63.999999999999986,\n",
       " 64.99999999999999,\n",
       " 65.99999999999999,\n",
       " 67.99999999999999,\n",
       " 69.99999999999999,\n",
       " 71.99999999999999,\n",
       " 73.99999999999999,\n",
       " 74.99999999999999,\n",
       " 75.99999999999999,\n",
       " 77.99999999999999,\n",
       " 79.99999999999999,\n",
       " 81.99999999999999,\n",
       " 83.99999999999999,\n",
       " 84.99999999999999,\n",
       " 85.99999999999999,\n",
       " 87.99999999999997,\n",
       " 89.99999999999997,\n",
       " 91.99999999999997,\n",
       " 93.99999999999997,\n",
       " 94.99999999999997,\n",
       " 95.99999999999997,\n",
       " 97.99999999999997,\n",
       " 99.99999999999997]"
      ]
     },
     "execution_count": 1,
     "metadata": {},
     "output_type": "execute_result"
    }
   ],
   "source": [
    "l3=[]\n",
    "i=1\n",
    "while i<=100:\n",
    "    l3.append(i**3)\n",
    "    i=i+1\n",
    "l4=[]\n",
    "for i in l3:\n",
    "    if i%4==0 or i%5==0:\n",
    "        l4.append(i**(1/3))\n",
    "l4"
   ]
  },
  {
   "cell_type": "markdown",
   "id": "bf214cdb-599e-4459-8b98-6e936d8473d0",
   "metadata": {},
   "source": [
    "#Q5"
   ]
  },
  {
   "cell_type": "code",
   "execution_count": 11,
   "id": "17958e92-049a-4e93-9665-c3f91d696ef4",
   "metadata": {},
   "outputs": [
    {
     "name": "stdout",
     "output_type": "stream",
     "text": [
      "there are  12 vowels in the given string and the list of vowels are: ['I', 'a', 'o', 'e', 'o', 'e', 'a', 'a', 'a', 'i', 'e', 'i']\n"
     ]
    }
   ],
   "source": [
    "string = \"I want to become a data scientist\"\n",
    "l5=list(string)\n",
    "l6=[]\n",
    "count=0\n",
    "for i in l5:\n",
    "    if i=='a'or i=='e' or i=='i'or i=='o' or i=='u' or i=='A' or i=='E' or i=='I' or i=='O' or i=='U':\n",
    "        l6.append(i)\n",
    "        count=count+1\n",
    "print(\"there are \",count,\"vowels in the given string and the list of vowels are:\",l6)"
   ]
  }
 ],
 "metadata": {
  "kernelspec": {
   "display_name": "Python 3 (ipykernel)",
   "language": "python",
   "name": "python3"
  },
  "language_info": {
   "codemirror_mode": {
    "name": "ipython",
    "version": 3
   },
   "file_extension": ".py",
   "mimetype": "text/x-python",
   "name": "python",
   "nbconvert_exporter": "python",
   "pygments_lexer": "ipython3",
   "version": "3.10.8"
  }
 },
 "nbformat": 4,
 "nbformat_minor": 5
}
