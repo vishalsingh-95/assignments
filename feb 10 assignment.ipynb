{
 "cells": [
  {
   "cell_type": "markdown",
   "id": "500e8563-8e51-4985-b412-c26429c860a9",
   "metadata": {},
   "source": [
    "# Q1"
   ]
  },
  {
   "cell_type": "markdown",
   "id": "8bc9c099-4af2-446e-9a3e-b08edada07d8",
   "metadata": {},
   "source": [
    "# In Python, the function used to open a file is open(). The open() function allows you to specify the file path and the mode in which you want to open the file. its syntax is open(\"file name\",'mode')\n",
    "The different modes of opening a file in Python are as follows:\n",
    "1) Read Mode ('r'): This is the default mode if no mode is specified. It allows you to read the contents of the file. If the file does not exist, an error will occur.\n",
    "2) Write Mode ('w'): This mode opens the file for writing. If the file already exists, it will be truncated (emptied). If the file does not exist, a new file will be created.\n",
    "3) Append Mode ('a'): This mode opens the file for appending data. If the file already exists, the new data will be added to the end of the file. If the file does not exist, a new file will be created.\n",
    "4) Binary Mode ('b'): This mode is used in conjunction with the above modes ('r', 'w', or 'a') to open files in binary format. For example, 'rb' opens the file in binary mode for reading, 'wb' for writing, and 'ab' for appending.\n",
    "5) Exclusive Creation Mode ('x'): This mode is used to open a file exclusively for writing. If the file already exists, an error will occur. It can be used in combination with the write mode ('w'). For example, 'xw' opens the file for exclusive writing.\n",
    "6) Update Mode ('+'): This mode allows you to read and write to the file simultaneously. It is represented by '+' along with other modes. For example, 'r+' opens the file for both reading and writing."
   ]
  },
  {
   "cell_type": "markdown",
   "id": "250c7a96-539e-44aa-9e99-3c14503ddd1e",
   "metadata": {},
   "source": [
    "# Q2"
   ]
  },
  {
   "cell_type": "markdown",
   "id": "768e48e9-cd0f-4219-a9f9-3e9089738e2b",
   "metadata": {},
   "source": [
    "# The close() function is used to close a file that has been opened using the open() function in Python.\n",
    "\n",
    "It is important to close a file after you have finished using it for several reasons:\n",
    "1) Resource Management: When a file is opened, system resources are allocated to handle the file operations. By closing the file, you release those resources back to the system.\n",
    "2) Data Integrity: Closing a file ensures that any pending write operations are completed and the file is properly flushed. When you write data to a file, it is usually buffered in memory until it is explicitly flushed or the file is closed. If you don't close the file, some data may remain in the buffer and not be written to the file, leading to potential data loss or inconsistencies.\n",
    "3) Access by Other Programs: Closing a file makes it available for other programs or processes to access. Some operating systems and file systems may not allow concurrent access to the same file by multiple programs, so closing the file after you have finished using it allows other programs to read from or write to the file.\n",
    "4) Preventing File Corruption: If you have opened a file for writing or appending, closing the file ensures that the file is properly finalized and closed in a controlled manner. Abruptly terminating a program without closing the file can result in file corruption or incomplete writes."
   ]
  },
  {
   "cell_type": "markdown",
   "id": "32f8a4af-7861-46e7-89e2-827a3eaf692c",
   "metadata": {},
   "source": [
    "# Q3"
   ]
  },
  {
   "cell_type": "code",
   "execution_count": 1,
   "id": "7cf502f9-0a4a-4efa-802e-08ff14fe8443",
   "metadata": {},
   "outputs": [
    {
     "data": {
      "text/plain": [
       "'I want to become a Data Scientist'"
      ]
     },
     "execution_count": 1,
     "metadata": {},
     "output_type": "execute_result"
    }
   ],
   "source": [
    "f=open(\"abc.txt\",'w')\n",
    "f.write(\"I want to become a Data Scientist\")\n",
    "f.close()\n",
    "f1=open(\"abc.txt\",'r')\n",
    "f1.readline()"
   ]
  },
  {
   "cell_type": "markdown",
   "id": "8b78a340-5d9e-457c-a048-f9fe1b4c8943",
   "metadata": {},
   "source": [
    "# Q4"
   ]
  },
  {
   "cell_type": "code",
   "execution_count": 23,
   "id": "5df4ef4a-47d4-4da4-a979-8e8b80a3e70b",
   "metadata": {},
   "outputs": [
    {
     "data": {
      "text/plain": [
       "772"
      ]
     },
     "execution_count": 23,
     "metadata": {},
     "output_type": "execute_result"
    }
   ],
   "source": [
    "# There are 3 functions available for reading the data off the file, read(),readline(),readlines()\n",
    "# 1:- read()\n",
    "file=open(\"course.txt\",'w')\n",
    "file.write(\"Data Science Masters course is highly curated and uniquely designed according to the latest industry standards. \\nThis program instills students the skills essential to knowledge discovery efforts to identify standard, novel, and truly differentiated solutions and decision-making, including skills in managing, querying, analyzing, visualizing, and extracting meaning from extremely large data sets. \\n This trending program provides students with the statistical, mathematical and computational skills needed to meet the large-scale data science challenges of today's professional world. \\n You will learn all the stack required to work in data science industry including cloud infrastructure and real-time industry projects. \\n This course will be taught in Hindi language.\")"
   ]
  },
  {
   "cell_type": "code",
   "execution_count": 42,
   "id": "aebc1707-b003-4589-9adb-817d248d6cd3",
   "metadata": {},
   "outputs": [],
   "source": [
    "file.close()\n",
    "file=open(\"course.txt\",'r')\n",
    "content=file.read()"
   ]
  },
  {
   "cell_type": "code",
   "execution_count": 43,
   "id": "10203323-9041-4871-af4f-b139cc59b900",
   "metadata": {},
   "outputs": [
    {
     "data": {
      "text/plain": [
       "\"Data Science Masters course is highly curated and uniquely designed according to the latest industry standards. \\nThis program instills students the skills essential to knowledge discovery efforts to identify standard, novel, and truly differentiated solutions and decision-making, including skills in managing, querying, analyzing, visualizing, and extracting meaning from extremely large data sets. \\n This trending program provides students with the statistical, mathematical and computational skills needed to meet the large-scale data science challenges of today's professional world. \\n You will learn all the stack required to work in data science industry including cloud infrastructure and real-time industry projects. \\n This course will be taught in Hindi language.\""
      ]
     },
     "execution_count": 43,
     "metadata": {},
     "output_type": "execute_result"
    }
   ],
   "source": [
    "content"
   ]
  },
  {
   "cell_type": "code",
   "execution_count": 44,
   "id": "956816ba-f19c-4614-94c9-a81f513b6c9b",
   "metadata": {},
   "outputs": [
    {
     "data": {
      "text/plain": [
       "0"
      ]
     },
     "execution_count": 44,
     "metadata": {},
     "output_type": "execute_result"
    }
   ],
   "source": [
    "file.seek(0)"
   ]
  },
  {
   "cell_type": "code",
   "execution_count": 45,
   "id": "6aaa7073-0fd8-482d-8c2a-ecc30a51f92d",
   "metadata": {},
   "outputs": [],
   "source": [
    "line1=file.readline()\n",
    "line2=file.readline()\n",
    "file.seek(0)\n",
    "lines=file.readlines()"
   ]
  },
  {
   "cell_type": "code",
   "execution_count": 46,
   "id": "2c6726c1-a5a7-4237-ac37-b9a2ab7cb19f",
   "metadata": {},
   "outputs": [
    {
     "name": "stdout",
     "output_type": "stream",
     "text": [
      "Data Science Masters course is highly curated and uniquely designed according to the latest industry standards. \n",
      "\n",
      "This program instills students the skills essential to knowledge discovery efforts to identify standard, novel, and truly differentiated solutions and decision-making, including skills in managing, querying, analyzing, visualizing, and extracting meaning from extremely large data sets. \n",
      "\n"
     ]
    }
   ],
   "source": [
    "print(line1)\n",
    "print(line2)"
   ]
  },
  {
   "cell_type": "code",
   "execution_count": 47,
   "id": "c36eae3e-24bf-4bc8-96ef-9b13f539f649",
   "metadata": {},
   "outputs": [
    {
     "data": {
      "text/plain": [
       "['Data Science Masters course is highly curated and uniquely designed according to the latest industry standards. \\n',\n",
       " 'This program instills students the skills essential to knowledge discovery efforts to identify standard, novel, and truly differentiated solutions and decision-making, including skills in managing, querying, analyzing, visualizing, and extracting meaning from extremely large data sets. \\n',\n",
       " \" This trending program provides students with the statistical, mathematical and computational skills needed to meet the large-scale data science challenges of today's professional world. \\n\",\n",
       " ' You will learn all the stack required to work in data science industry including cloud infrastructure and real-time industry projects. \\n',\n",
       " ' This course will be taught in Hindi language.']"
      ]
     },
     "execution_count": 47,
     "metadata": {},
     "output_type": "execute_result"
    }
   ],
   "source": [
    "lines"
   ]
  },
  {
   "cell_type": "markdown",
   "id": "1404997f-f03f-4ec0-988c-0b4a688ff589",
   "metadata": {},
   "source": [
    "# readline() reads just 1 line at a time and every line can be treated independently but readlines() reads all lines and stores them in a list, wheras read() reads the entire content as 1 string and returns to us."
   ]
  },
  {
   "cell_type": "code",
   "execution_count": 48,
   "id": "b93ceead-ecbc-4c08-957c-3ac8ae7c698f",
   "metadata": {},
   "outputs": [],
   "source": [
    "file.close()"
   ]
  },
  {
   "cell_type": "markdown",
   "id": "b4718ef0-5c33-447b-97bd-9ef71fe1e2b1",
   "metadata": {},
   "source": [
    "# Q5"
   ]
  },
  {
   "cell_type": "markdown",
   "id": "4ed995c9-d60c-46ec-be2d-124bb27f72b6",
   "metadata": {},
   "source": [
    "# The with statement in Python is used in conjunction with the open() function to provide a more efficient and convenient way of working with files. The advantage of using the with statement with open() is as follows:\n",
    "\n",
    "1) Automatic Resource Management: The primary advantage of using the with statement with open() is that it automatically takes care of closing the file once you are done with it. When the block of code under the with statement is executed, the file is opened, and after the block is executed, the file is automatically closed. This ensures that the file is properly closed even if an error occurs within the block.\n",
    "2) Cleaner Code and Error Handling: Using the with statement eliminates the need for manually opening and closing the file, reducing the chance of forgetting to close the file or encountering issues due to improper resource management. It provides a clean and concise syntax that promotes better code readability. \n"
   ]
  },
  {
   "cell_type": "markdown",
   "id": "6da5f4da-7c05-458b-82e4-9c17e10748dc",
   "metadata": {},
   "source": [
    "# Q6"
   ]
  },
  {
   "cell_type": "markdown",
   "id": "2ef088fd-8374-4958-8cd5-6cc8419ef741",
   "metadata": {},
   "source": [
    "#  The write() function is used to write a single string of data to a file. It appends the specified string at the current position in the file. If the file does not exist, it will be created. If the file is opened in write mode ('w'), the existing content of the file will be completely overwritten."
   ]
  },
  {
   "cell_type": "code",
   "execution_count": 49,
   "id": "75ad937f-05f1-4117-9c2b-52ca7068878d",
   "metadata": {},
   "outputs": [],
   "source": [
    "file=open(\"course1.txt\",'w')\n",
    "file.write(\"Data Science Masters course is highly curated and uniquely designed according to the latest industry standards. This program instills students the skills essential to knowledge discovery efforts to identify standard, novel, and truly differentiated solutions and decision-making, including skills in managing, querying, analyzing, visualizing, and extracting meaning from extremely large data sets. This trending program provides students with the statistical, mathematical and computational skills needed to meet the large-scale data science challenges of today's professional world. You will learn all the stack required to work in data science industry including cloud infrastructure and real-time industry projects.This course will be taught in Hindi language.\")\n",
    "file.close()"
   ]
  },
  {
   "cell_type": "markdown",
   "id": "284e8bac-5384-4a72-9a67-6173ce6ddf8d",
   "metadata": {},
   "source": [
    "# The writelines() function is used to write multiple strings or a sequence of strings to a file. It takes an iterable (such as a list or tuple) of strings as an argument and writes each string to the file. Each string is written on a new line unless specified otherwise. "
   ]
  },
  {
   "cell_type": "code",
   "execution_count": 50,
   "id": "e2c3b980-0443-4c41-bce5-c735316550ea",
   "metadata": {},
   "outputs": [],
   "source": [
    "file1=open(\"example.txt\",'w')\n",
    "lines1=[\"Data Science Masters course is highly curated and uniquely designed according to the latest industry standards.\",\"This program instills students the skills essential to knowledge discovery efforts to identify standard, novel, and truly differentiated solutions and decision-making, including skills in managing, querying, analyzing, visualizing, and extracting meaning from extremely large data sets.\",\"This trending program provides students with the statistical, mathematical and computational skills needed to meet the large-scale data science challenges of today's professional world.\"]\n",
    "file1.writelines(lines1)\n",
    "file1.close()"
   ]
  },
  {
   "cell_type": "code",
   "execution_count": null,
   "id": "05c0cebf-6d90-4382-b5c6-a66792b2528c",
   "metadata": {},
   "outputs": [],
   "source": []
  }
 ],
 "metadata": {
  "kernelspec": {
   "display_name": "Python 3 (ipykernel)",
   "language": "python",
   "name": "python3"
  },
  "language_info": {
   "codemirror_mode": {
    "name": "ipython",
    "version": 3
   },
   "file_extension": ".py",
   "mimetype": "text/x-python",
   "name": "python",
   "nbconvert_exporter": "python",
   "pygments_lexer": "ipython3",
   "version": "3.10.8"
  }
 },
 "nbformat": 4,
 "nbformat_minor": 5
}
