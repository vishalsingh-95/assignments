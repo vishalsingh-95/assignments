{
 "cells": [
  {
   "cell_type": "markdown",
   "id": "ac0b2a49-87d3-48aa-85b4-0cd40ea4ecd2",
   "metadata": {},
   "source": [
    "# Q1"
   ]
  },
  {
   "cell_type": "code",
   "execution_count": 4,
   "id": "f065e112-dbb5-4c76-81b0-83c07d2e2bdf",
   "metadata": {},
   "outputs": [
    {
     "name": "stdin",
     "output_type": "stream",
     "text": [
      "Enter your password: ABCdef1#@!\n"
     ]
    },
    {
     "name": "stdout",
     "output_type": "stream",
     "text": [
      "Valid Password\n"
     ]
    }
   ],
   "source": [
    "string=input(\"Enter your password:\")\n",
    "if len(string)==10:\n",
    "    i,j,k,l=0,0,0,0\n",
    "    for char in string:\n",
    "        if char>='A' and char<='Z':\n",
    "            i+=1\n",
    "        elif char>='a' and char<='z':\n",
    "            j+=1\n",
    "        elif char in ('0','1','2','3','4','5','6','7','8','9'):\n",
    "            k+=1\n",
    "        else:\n",
    "            l+=1\n",
    "    if l==3 and k>=1 and  i>=2 and j>=2:\n",
    "        print(\"Valid Password\")\n",
    "    else:\n",
    "        print(\"Invalid Password\")\n",
    "else:\n",
    "        print(\"Invalid Password\")            "
   ]
  },
  {
   "cell_type": "markdown",
   "id": "c48cea6a-b81d-4085-a2ee-dd0fd83e295f",
   "metadata": {},
   "source": [
    "# Q2"
   ]
  },
  {
   "cell_type": "markdown",
   "id": "7c8157cf-1290-4a99-b009-149c88a9a33e",
   "metadata": {},
   "source": [
    "# 1)"
   ]
  },
  {
   "cell_type": "code",
   "execution_count": 12,
   "id": "cedf94db-509d-4670-9dbb-396fb4696b8b",
   "metadata": {},
   "outputs": [
    {
     "name": "stdin",
     "output_type": "stream",
     "text": [
      "Enter the string: Vishal\n",
      "Enter a character: V\n"
     ]
    }
   ],
   "source": [
    "string=input(\"Enter the string:\")\n",
    "char=input(\"Enter a character:\")\n",
    "result=lambda string: True if string[0]==char else False"
   ]
  },
  {
   "cell_type": "code",
   "execution_count": 13,
   "id": "526d23e1-3303-404a-86dc-319e221d59f5",
   "metadata": {},
   "outputs": [
    {
     "data": {
      "text/plain": [
       "True"
      ]
     },
     "execution_count": 13,
     "metadata": {},
     "output_type": "execute_result"
    }
   ],
   "source": [
    "result(string)"
   ]
  },
  {
   "cell_type": "markdown",
   "id": "b2856039-1396-4e39-a9e2-7b7c99210740",
   "metadata": {},
   "source": [
    "# 2)"
   ]
  },
  {
   "cell_type": "code",
   "execution_count": 21,
   "id": "194230ca-fcfc-46c7-8268-3e8b5adfb300",
   "metadata": {},
   "outputs": [
    {
     "name": "stdin",
     "output_type": "stream",
     "text": [
      "Enter the string: 12345\n"
     ]
    },
    {
     "name": "stdout",
     "output_type": "stream",
     "text": [
      "True\n"
     ]
    }
   ],
   "source": [
    "string1=input(\"Enter the string:\")\n",
    "result1=lambda string1:string1.isnumeric()\n",
    "print(result1(string1))"
   ]
  },
  {
   "cell_type": "markdown",
   "id": "248cefec-15cb-4c8e-b0f1-c90517155cee",
   "metadata": {},
   "source": [
    "# 3)"
   ]
  },
  {
   "cell_type": "code",
   "execution_count": 22,
   "id": "ef185fde-7b1b-4bd7-93ef-79227796cf44",
   "metadata": {},
   "outputs": [],
   "source": [
    "l=[(\"mango\",99),(\"orange\",80), (\"grapes\", 1000)]\n",
    "l.sort(key=lambda x:x[1])"
   ]
  },
  {
   "cell_type": "code",
   "execution_count": 23,
   "id": "be81b2f4-a57f-4f92-9e6e-99ff855ac329",
   "metadata": {},
   "outputs": [
    {
     "data": {
      "text/plain": [
       "[('orange', 80), ('mango', 99), ('grapes', 1000)]"
      ]
     },
     "execution_count": 23,
     "metadata": {},
     "output_type": "execute_result"
    }
   ],
   "source": [
    "l"
   ]
  },
  {
   "cell_type": "markdown",
   "id": "a5ee5d70-7c5e-4d41-b3b2-dff5c644b1a3",
   "metadata": {},
   "source": [
    "# 4)"
   ]
  },
  {
   "cell_type": "code",
   "execution_count": 25,
   "id": "b921bc88-4e3f-421d-9470-ade02e5e7121",
   "metadata": {},
   "outputs": [
    {
     "data": {
      "text/plain": [
       "[1, 4, 9, 16, 25, 36, 49, 64, 81, 100]"
      ]
     },
     "execution_count": 25,
     "metadata": {},
     "output_type": "execute_result"
    }
   ],
   "source": [
    "l1=[1,2,3,4,5,6,7,8,9,10]\n",
    "l2=[i**2 for i in l1]\n",
    "l2"
   ]
  },
  {
   "cell_type": "markdown",
   "id": "460fe00b-8a6e-4753-8894-9dded297a2f2",
   "metadata": {},
   "source": [
    "# 5)"
   ]
  },
  {
   "cell_type": "code",
   "execution_count": 26,
   "id": "1207db9a-231b-44da-ac06-6a3e0f4982b2",
   "metadata": {},
   "outputs": [
    {
     "data": {
      "text/plain": [
       "[1.0,\n",
       " 1.2599210498948732,\n",
       " 1.4422495703074083,\n",
       " 1.5874010519681994,\n",
       " 1.7099759466766968,\n",
       " 1.8171205928321397,\n",
       " 1.912931182772389,\n",
       " 2.0,\n",
       " 2.080083823051904,\n",
       " 2.154434690031884]"
      ]
     },
     "execution_count": 26,
     "metadata": {},
     "output_type": "execute_result"
    }
   ],
   "source": [
    "l3=[1,2,3,4,5,6,7,8,9,10]\n",
    "l4=[i**(1/3) for i in l1]\n",
    "l4"
   ]
  },
  {
   "cell_type": "markdown",
   "id": "aef69bc8-eff4-494b-b9b5-16bd43c6908c",
   "metadata": {},
   "source": [
    "# 6)"
   ]
  },
  {
   "cell_type": "code",
   "execution_count": 29,
   "id": "61567157-4029-4d1e-a9f4-49c6b9a34bc0",
   "metadata": {},
   "outputs": [
    {
     "name": "stdin",
     "output_type": "stream",
     "text": [
      "Enter a number: 56\n"
     ]
    },
    {
     "data": {
      "text/plain": [
       "True"
      ]
     },
     "execution_count": 29,
     "metadata": {},
     "output_type": "execute_result"
    }
   ],
   "source": [
    "a=lambda x:True if x%2==0 else False\n",
    "a(int(input(\"Enter a number:\")))"
   ]
  },
  {
   "cell_type": "markdown",
   "id": "8b6ca22d-dc4d-4a7f-9551-7be789d9eb2a",
   "metadata": {},
   "source": [
    "# 7)"
   ]
  },
  {
   "cell_type": "code",
   "execution_count": 30,
   "id": "b123ae3e-1581-4fee-b267-b572895b9c69",
   "metadata": {},
   "outputs": [
    {
     "data": {
      "text/plain": [
       "[1, 3, 5, 7, 9]"
      ]
     },
     "execution_count": 30,
     "metadata": {},
     "output_type": "execute_result"
    }
   ],
   "source": [
    "l5=[1,2,3,4,5,6,7,8,9,10]\n",
    "list(filter(lambda x:x%2==1,l5))"
   ]
  },
  {
   "cell_type": "markdown",
   "id": "cc097f4a-b76e-40a7-9371-39218d2f98ed",
   "metadata": {},
   "source": [
    "# 8)"
   ]
  },
  {
   "cell_type": "code",
   "execution_count": 34,
   "id": "cd34720e-0b4d-4126-8fb6-43ee1f414376",
   "metadata": {},
   "outputs": [
    {
     "name": "stdout",
     "output_type": "stream",
     "text": [
      "[1, 2, 3, 4, 5, 6, 0] [-1, -2, -3, -4, -5]\n"
     ]
    }
   ],
   "source": [
    "l6=[1,2,3,4,5,6,-1,-2,-3,-4,-5,0]\n",
    "l7=list(filter(lambda x:x>=0,l6))\n",
    "l8=list(filter(lambda x:x<0,l6))\n",
    "print(l7,l8)"
   ]
  }
 ],
 "metadata": {
  "kernelspec": {
   "display_name": "Python 3 (ipykernel)",
   "language": "python",
   "name": "python3"
  },
  "language_info": {
   "codemirror_mode": {
    "name": "ipython",
    "version": 3
   },
   "file_extension": ".py",
   "mimetype": "text/x-python",
   "name": "python",
   "nbconvert_exporter": "python",
   "pygments_lexer": "ipython3",
   "version": "3.10.8"
  }
 },
 "nbformat": 4,
 "nbformat_minor": 5
}
