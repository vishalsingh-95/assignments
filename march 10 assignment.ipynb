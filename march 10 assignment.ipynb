{
 "cells": [
  {
   "cell_type": "markdown",
   "id": "f81526a4-797e-4587-8a44-c72e57b0a513",
   "metadata": {},
   "source": [
    "# Q1"
   ]
  },
  {
   "cell_type": "markdown",
   "id": "d58ac2d2-43a3-4bde-8c26-276815a2dc07",
   "metadata": {},
   "source": [
    "# Estimate statistics is an observed numerical value used to estimate an unknown population parameter.\n",
    "\n",
    "# Point estimate: Single numerical value used to estimate the population parameter is known as point estimate. For example sample mean is the point estimate of population mean.\n",
    "\n",
    "# Interval estimate: It is the range of value that is used to estimate the unknown population parameter, they are also known as confidence interval."
   ]
  },
  {
   "cell_type": "markdown",
   "id": "64657ca9-32a3-4910-8212-d8ba4e6816c3",
   "metadata": {},
   "source": [
    "# Q2"
   ]
  },
  {
   "cell_type": "code",
   "execution_count": 1,
   "id": "52fb329e-c835-4882-aa47-151ae538632c",
   "metadata": {},
   "outputs": [],
   "source": [
    "import math\n",
    "\n",
    "def estimate_population_mean(sample_mean, sample_std_dev, sample_size):\n",
    "   \n",
    "\n",
    "    # Calculate the standard error of the mean\n",
    "    standard_error = sample_std_dev / math.sqrt(sample_size)\n",
    "    \n",
    "    # Calculate the margin of error.(here 1.96 is the Z value for 95% confidence interval)\n",
    "    margin_of_error = 1.96 * standard_error\n",
    "    \n",
    "    # Calculate the lower and upper bounds of the confidence interval\n",
    "    lower_bound = sample_mean - margin_of_error\n",
    "    upper_bound = sample_mean + margin_of_error\n",
    "    \n",
    "    return (lower_bound, upper_bound)\n"
   ]
  },
  {
   "cell_type": "code",
   "execution_count": 4,
   "id": "61a4845f-9d49-4ef3-9bbe-36d9d5959337",
   "metadata": {},
   "outputs": [
    {
     "name": "stdout",
     "output_type": "stream",
     "text": [
      "The population mean with 95% confidence interval is given by: (49.380193578607, 50.619806421393)\n"
     ]
    }
   ],
   "source": [
    "mean_interval=estimate_population_mean(50,10,1000)\n",
    "print(\"The population mean with 95% confidence interval is given by:\",mean_interval)"
   ]
  },
  {
   "cell_type": "markdown",
   "id": "cf7e3db2-a9ba-4674-80c1-722dc3b2da8a",
   "metadata": {},
   "source": [
    "# Q3"
   ]
  },
  {
   "cell_type": "markdown",
   "id": "7f64f254-da26-4aae-83eb-108462575741",
   "metadata": {},
   "source": [
    "# Hypothesis testing is a statistical technique used to make inferences about a population based on a sample of data. It involves formulating two competing hypotheses, the null hypothesis (H0) and the alternative hypothesis (H1 or Ha), and then collecting and analyzing data to determine which hypothesis is more likely to be true.\n",
    "\n",
    "# The null hypothesis represents the default position or assumption, often stating that there is no significant difference or relationship between variables in the population. The alternative hypothesis, on the other hand, represents the claim or assertion that is contrary to the null hypothesis.\n",
    "\n",
    "# Hypothesis testing is used to evaluate the evidence against the null hypothesis and make decisions based on the results. The primary purpose of hypothesis testing is to determine whether the observed data provides enough evidence to reject the null hypothesis in favor of the alternative hypothesis.\n",
    "\n",
    "# The importance of hypothesis testing lies in its ability to provide a systematic and rigorous approach to decision-making in various fields, including science, research, business, and policy-making. Here are a few reasons why hypothesis testing is significant:\n",
    "\n",
    "# Inference:\n",
    "Hypothesis testing allows us to make inferences about a population based on a sample. By testing hypotheses, we can draw conclusions about the characteristics, relationships, or effects in the entire population from which the sample is drawn.\n",
    "\n",
    "# Decision-making: \n",
    "Hypothesis testing provides a structured framework for making decisions in the presence of uncertainty. It helps determine whether to accept or reject a particular claim or hypothesis based on the available evidence.\n",
    "\n",
    "# Scientific validity:\n",
    "Hypothesis testing plays a crucial role in scientific research, as it enables researchers to evaluate the validity of their theories or hypotheses. It helps to verify or refute scientific claims, ensuring the reliability and credibility of scientific findings.\n",
    "\n",
    "# Problem-solving:\n",
    "Hypothesis testing is commonly used in problem-solving scenarios to assess the effectiveness of interventions, treatments, or strategies. It allows decision-makers to determine whether a particular approach or change has a statistically significant impact.\n",
    "\n",
    "# Statistical inference:\n",
    "Hypothesis testing is a fundamental component of statistical inference, which involves drawing conclusions and making predictions about populations based on sample data. It helps quantify the uncertainty associated with these inferences and provides a measure of the strength of the evidence."
   ]
  },
  {
   "cell_type": "markdown",
   "id": "57432eb6-9ca2-4f9f-a42d-016ca7202adf",
   "metadata": {},
   "source": [
    "# Q4"
   ]
  },
  {
   "cell_type": "markdown",
   "id": "7f4eb870-c4af-4553-9f3f-878c19cc362b",
   "metadata": {},
   "source": [
    "# Null hypothesis(H0): the average weight of male college students > the average weight of female college students\n",
    "# Alternate hypothesis(H1): the average weight of male college students <= the average weight of female college students"
   ]
  },
  {
   "cell_type": "markdown",
   "id": "9abb31a8-d569-424d-b5d0-af7c45321711",
   "metadata": {},
   "source": [
    "# Q5"
   ]
  },
  {
   "cell_type": "code",
   "execution_count": 2,
   "id": "dd70ad45-852f-4a20-ab1d-2a8c0a38e161",
   "metadata": {},
   "outputs": [],
   "source": [
    "import numpy as np\n",
    "from scipy.stats import t"
   ]
  },
  {
   "cell_type": "code",
   "execution_count": 5,
   "id": "34556fa9-d360-490c-80ad-221cc4c65414",
   "metadata": {},
   "outputs": [],
   "source": [
    "def conduct_hypothesis_test(sample1,sample2,alpha):\n",
    "    n1=len(sample1)\n",
    "    n2=len(sample2)\n",
    "    mean1=np.mean(sample1)\n",
    "    mean2=np.mean(sample2)\n",
    "    var1=np.var(sample1)\n",
    "    var2=np.var(sample2)\n",
    "    \n",
    "    \n",
    "    pooled_var=((n1-1)*var1+(n2-1)*var2)/(n1+n2-2)\n",
    "    t_stat=(mean1-mean2)/(np.sqrt(pooled_var*(1/n1+1/n2)))\n",
    "    \n",
    "    \n",
    "    dof=n1+n2-2\n",
    "    \n",
    "    crit_val=t.ppf(1-alpha/2,dof)\n",
    "    \n",
    "    p_value=2*(1-t.cdf(abs(t_stat),dof))\n",
    "    \n",
    "    if t_stat<-(crit_val) or t_stat>crit_val:\n",
    "        result=\"reject the null hypothesis\"\n",
    "        \n",
    "    else:\n",
    "        result=\"fail to reject the null hypothesis\"\n",
    "        \n",
    "    return t_stat,crit_val,p_value,result\n"
   ]
  },
  {
   "cell_type": "code",
   "execution_count": 6,
   "id": "595aa188-1a5a-4222-a2a6-472b8aa4beff",
   "metadata": {},
   "outputs": [
    {
     "name": "stdout",
     "output_type": "stream",
     "text": [
      "Test statistic: 0.5590169943749475\n",
      "Critical value: 2.3060041350333704\n",
      "P-value: 0.5914505387017686\n",
      "Result: fail to reject the null hypothesis\n"
     ]
    }
   ],
   "source": [
    "sample1 = [5, 7, 9, 11, 13]\n",
    "sample2 = [4, 6, 8, 10, 12]\n",
    "alpha = 0.05\n",
    "\n",
    "t_stat, crit_val, p_value, result = conduct_hypothesis_test(sample1, sample2, alpha)\n",
    "\n",
    "print(\"Test statistic:\", t_stat)\n",
    "print(\"Critical value:\", crit_val)\n",
    "print(\"P-value:\", p_value)\n",
    "print(\"Result:\", result)"
   ]
  },
  {
   "cell_type": "markdown",
   "id": "f9992040-380e-4247-90cb-1baf4ad1a78c",
   "metadata": {},
   "source": [
    "# Q6"
   ]
  },
  {
   "cell_type": "markdown",
   "id": "1097bdde-cf30-4377-aee1-b67e44c83930",
   "metadata": {},
   "source": [
    "# In statistical hypothesis testing, the null hypothesis (H0) and alternative hypothesis (H1 or Ha) are two competing statements about a population parameter. These hypotheses help guide the statistical analysis and determine the conclusion of the hypothesis test.\n",
    "\n",
    "# The null hypothesis represents the default assumption, which usually assumes no effect, no difference, or no relationship between variables. It is typically denoted as H0. The goal is to test whether there is enough evidence to reject the null hypothesis in favor of an alternative hypothesis.\n",
    "\n",
    "# The alternative hypothesis, denoted as H1 or Ha, is the complement to the null hypothesis. It represents the opposite or alternative claim to H0, suggesting the presence of an effect, difference, or relationship in the population.\n",
    "\n",
    "# Example1: Testing the Effectiveness of a New Drug\n",
    "# Null hypothesis (H0): The new drug has no effect on reducing blood pressure.\n",
    "# Alternative hypothesis (H1): The new drug has a significant effect on reducing blood pressure.\n",
    "\n",
    "# Example2: Comparing Two Population Means\n",
    "# Null hypothesis (H0): The mean scores of Group A and Group B are equal.\n",
    "# Alternative hypothesis (H1): The mean scores of Group A and Group B are significantly different."
   ]
  },
  {
   "cell_type": "markdown",
   "id": "76a612eb-11b9-4f22-8704-7875936c4377",
   "metadata": {},
   "source": [
    "# Q7"
   ]
  },
  {
   "cell_type": "markdown",
   "id": "df648e54-15a6-425a-b7bc-37e88af8568c",
   "metadata": {},
   "source": [
    "# The steps involved in hypothesis testing are:-\n",
    "# 1) Write a null hypothesis, H0 or Ha\n",
    "# 2) Write the alternate hypothesis, H1 or hb\n",
    "# 3) Experiments: proof collection from the statistical analysis of the dataset.\n",
    "# 4) Determine the test distribution which has to be performed.\n",
    "# 5) Calculate p value\n",
    "# 6) make a decision\n",
    "# 7) interpret the result"
   ]
  },
  {
   "cell_type": "markdown",
   "id": "86a182f7-a6d8-4671-b7d0-ec58ebb82792",
   "metadata": {},
   "source": [
    "# Q8"
   ]
  },
  {
   "cell_type": "markdown",
   "id": "14868534-82ea-4c02-b358-7bdb89fd94b4",
   "metadata": {},
   "source": [
    "# P value: It describes how likely we are to have found a particular set of observations if the null hypothesis were true.\n",
    "\n",
    "# Significance: If the p-value is small (typically smaller than the chosen significance level α, such as 0.05 or 0.01), it suggests that the observed data provide strong evidence against the null hypothesis. In other words, a small p-value indicates that it is highly unlikely to obtain the observed data if the null hypothesis is true. This leads to rejecting the null hypothesis in favor of the alternative hypothesis."
   ]
  },
  {
   "cell_type": "markdown",
   "id": "664f4037-06a8-41d7-b48d-b6473c8b3e7c",
   "metadata": {},
   "source": [
    "# Q9"
   ]
  },
  {
   "cell_type": "code",
   "execution_count": 8,
   "id": "13ec986e-39b8-44f6-893f-1ca3e319a1fe",
   "metadata": {},
   "outputs": [],
   "source": [
    "import matplotlib.pyplot as plt\n",
    "import numpy as np\n",
    "from scipy.stats import t"
   ]
  },
  {
   "cell_type": "code",
   "execution_count": 13,
   "id": "6f1c61ab-bfdf-409c-bb49-ae13ccfe9151",
   "metadata": {},
   "outputs": [
    {
     "data": {
      "image/png": "[encoded data removed]",
      "text/plain": [
       "<Figure size 640x480 with 1 Axes>"
      ]
     },
     "metadata": {},
     "output_type": "display_data"
    }
   ],
   "source": [
    "df=10\n",
    "x=np.linspace(-4,4,1000)\n",
    "y=t.pdf(x,df)\n",
    "plt.plot(x,y)\n",
    "plt.title(\"students t distribution\")\n",
    "plt.xlabel('x')\n",
    "plt.ylabel(\"probability density\")\n",
    "plt.grid(True)\n",
    "plt.show()"
   ]
  },
  {
   "cell_type": "markdown",
   "id": "34aed8c0-3fe0-4111-9257-a95d7dec6fbf",
   "metadata": {},
   "source": [
    "# Q10"
   ]
  },
  {
   "cell_type": "code",
   "execution_count": 14,
   "id": "18e2fe18-3707-4505-969e-bf370c061bf7",
   "metadata": {},
   "outputs": [],
   "source": [
    "import numpy as np\n",
    "from scipy.stats import ttest_ind"
   ]
  },
  {
   "cell_type": "code",
   "execution_count": 18,
   "id": "3822308f-0aa2-40ae-9987-9f1ef2c9d744",
   "metadata": {},
   "outputs": [
    {
     "name": "stdout",
     "output_type": "stream",
     "text": [
      "t test results\n",
      "------------------------------------------\n",
      "sample 1 mean is: 0.036667513573696804\n",
      "sample 2 mean is: 0.5631724507763238\n",
      "t stat value is: -3.984002962048851\n",
      "p value is: 9.518373781826357e-05\n"
     ]
    }
   ],
   "source": [
    "sample1=np.random.normal(loc=0,scale=1,size=100)\n",
    "sample2=np.random.normal(loc=0.5,scale=1,size=100)\n",
    "\n",
    "t_stat,p_value=ttest_ind(sample1,sample2)\n",
    "\n",
    "print(\"t test results\")\n",
    "print(\"------------------------------------------\")\n",
    "print(\"sample 1 mean is:\",np.mean(sample1))\n",
    "print(\"sample 2 mean is:\",np.mean(sample2))\n",
    "print(\"t stat value is:\", t_stat)\n",
    "print(\"p value is:\",p_value)"
   ]
  },
  {
   "cell_type": "markdown",
   "id": "4967a44d-a740-4930-909c-e75ee13d26b7",
   "metadata": {},
   "source": [
    "# Q11"
   ]
  },
  {
   "cell_type": "markdown",
   "id": "d9eda8fb-2375-4baa-9938-6f2a67da4a7e",
   "metadata": {},
   "source": [
    "# Student's t-distribution, also known as the t-distribution, is a probability distribution that is used in hypothesis testing and confidence interval estimation when the sample size is small and the population standard deviation is unknown.\n",
    "\n",
    "# The t-distribution is similar to the standard normal distribution (Z-distribution) but has fatter tails, which means it allows for more variability in the data. The shape of the t-distribution is characterized by its degrees of freedom (df), which determine the shape and spread of the distribution."
   ]
  },
  {
   "cell_type": "markdown",
   "id": "19478540-ed2d-4102-b1e0-8ba238794b9a",
   "metadata": {},
   "source": [
    "# Q12"
   ]
  },
  {
   "cell_type": "markdown",
   "id": "e8050e3f-cd68-498a-9254-aa2368e7ab30",
   "metadata": {},
   "source": [
    "# The t-statistic, also known as the Student's t-statistic, is a test statistic used in hypothesis testing to assess the significance of the difference between sample means or the relationship between variables.\n",
    "\n",
    "# formula for 1 sample t test:\n",
    "t = (sample_mean - hypothesized_mean) / (sample_standard_deviation / sqrt(sample_size))\n",
    "\n",
    "Where:\n",
    "\n",
    "sample_mean is the mean of the sample,\n",
    "hypothesized_mean is the population mean or the hypothesized value being tested,\n",
    "sample_standard_deviation is the standard deviation of the sample,\n",
    "sample_size is the size of the sample.\n",
    "\n",
    "# formula for 2 sample t test:\n",
    "t = (sample1_mean - sample2_mean) / sqrt((sample1_variance / sample1_size) + (sample2_variance / sample2_size))\n",
    "\n",
    "Where:\n",
    "\n",
    "sample1_mean is the mean of the first sample,\n",
    "sample2_mean is the mean of the second sample,\n",
    "sample1_variance is the variance of the first sample,\n",
    "sample2_variance is the variance of the second sample,\n",
    "sample1_size is the size of the first sample,\n",
    "sample2_size is the size of the second sample.\n"
   ]
  },
  {
   "cell_type": "markdown",
   "id": "8cdc1087-2702-46c2-80f6-f86613dbafe7",
   "metadata": {},
   "source": [
    "# Q13"
   ]
  },
  {
   "cell_type": "code",
   "execution_count": 1,
   "id": "1e25cee4-b934-40e0-b5e3-3cb0da1c6b15",
   "metadata": {},
   "outputs": [],
   "source": [
    "import numpy as np\n",
    "from scipy.stats import t"
   ]
  },
  {
   "cell_type": "code",
   "execution_count": 2,
   "id": "ee2c57bf-62f9-4f6e-991d-50e98313852a",
   "metadata": {},
   "outputs": [
    {
     "name": "stdout",
     "output_type": "stream",
     "text": [
      "sample mean was: 500\n",
      "confidence interval of 95% confidence level (485.79015724388137, 514.2098427561186)\n"
     ]
    }
   ],
   "source": [
    "sample_mean=500\n",
    "standard_deviation=50\n",
    "n=50\n",
    "confidence_level=0.95\n",
    "dof=n-1\n",
    "\n",
    "critical_value=t.ppf((confidence_level+1)/2,dof)\n",
    "\n",
    "margin_of_error=critical_value*standard_deviation/np.sqrt(n)\n",
    "\n",
    "confidence_interval=(sample_mean-margin_of_error,sample_mean+margin_of_error)\n",
    "\n",
    "print(\"sample mean was:\",sample_mean)\n",
    "print(\"confidence interval of 95% confidence level\",confidence_interval)"
   ]
  },
  {
   "cell_type": "markdown",
   "id": "91a5a3f4-5b1c-4145-90f7-5e730fb6a724",
   "metadata": {},
   "source": [
    "# Q14"
   ]
  },
  {
   "cell_type": "code",
   "execution_count": 3,
   "id": "def0852d-65a3-4462-a43e-b494f6199ae3",
   "metadata": {},
   "outputs": [
    {
     "name": "stdout",
     "output_type": "stream",
     "text": [
      "the sample mean was considered to be: 8\n",
      "The confidence interval was found out to be: (7.4047349145473955, 8.595265085452604)  and hence \n",
      "We reject the hypothesis\n"
     ]
    }
   ],
   "source": [
    "mean_bloodPressure_drop=8\n",
    "std_pressure=3\n",
    "patients=100\n",
    "confidence_level=0.95\n",
    "dof=patients-1\n",
    "\n",
    "crit_val=t.ppf((1+confidence_level)/2,dof)\n",
    "\n",
    "margin_error=crit_val*std_pressure/np.sqrt(patients)\n",
    "s1=mean_bloodPressure_drop-margin_error\n",
    "s2=mean_bloodPressure_drop+margin_error\n",
    "sample_interval=(s1,s2)\n",
    "commited_mean=10\n",
    "\n",
    "print(\"the sample mean was considered to be:\",mean_bloodPressure_drop)\n",
    "print(\"The confidence interval was found out to be:\",sample_interval,\" and hence \")\n",
    "if commited_mean<=s2 and commited_mean>=s1:\n",
    "    print(\"We fail to reject the hypothesis\")\n",
    "else:\n",
    "    print(\"We reject the hypothesis\")"
   ]
  },
  {
   "cell_type": "markdown",
   "id": "f3864b6e-1334-4714-bbcc-9f53d9021186",
   "metadata": {},
   "source": [
    "# Q15"
   ]
  },
  {
   "cell_type": "code",
   "execution_count": 5,
   "id": "0e6416cb-9cdc-4304-a7d9-eb7576b35707",
   "metadata": {},
   "outputs": [
    {
     "name": "stdout",
     "output_type": "stream",
     "text": [
      "Sample Mean: 4.8\n",
      "Population Mean: 5\n",
      "Sample Size: 25\n",
      "Sample Standard Deviation: 0.5\n",
      "Degrees of Freedom: 24\n",
      "t-Statistic: -2.0000000000000018\n",
      "critical value: -2.4921594731575762\n",
      "We fail to reject the null hypothesis, the mean weight is not less than 5 pounds\n"
     ]
    }
   ],
   "source": [
    "from scipy.stats import t\n",
    "import numpy as np\n",
    "\n",
    "sample_mean=4.8\n",
    "sample_std=0.5\n",
    "sample_size=25\n",
    "alpha=0.01\n",
    "population_mean=5\n",
    "\n",
    "dof=sample_size-1\n",
    "\n",
    "t_stat=(sample_mean-population_mean)/(sample_std/np.sqrt(sample_size))\n",
    "\n",
    "critical_val=t.ppf(alpha,dof)\n",
    "\n",
    "\n",
    "print(\"Sample Mean:\", sample_mean)\n",
    "print(\"Population Mean:\", population_mean)\n",
    "print(\"Sample Size:\", sample_size)\n",
    "print(\"Sample Standard Deviation:\", sample_std)\n",
    "print(\"Degrees of Freedom:\", dof)\n",
    "print(\"t-Statistic:\", t_stat)\n",
    "print(\"critical value:\",critical_val)\n",
    "\n",
    "if t_stat<critical_val:\n",
    "    print(\"We reject the null hypothesis, the mean weight is less than 5 pounds\")\n",
    "else:\n",
    "    print(\"We fail to reject the null hypothesis, the mean weight is not less than 5 pounds\")"
   ]
  },
  {
   "cell_type": "markdown",
   "id": "fdd7f3fa-06e5-4a31-a03f-fed87472707c",
   "metadata": {},
   "source": [
    "# Q16"
   ]
  },
  {
   "cell_type": "markdown",
   "id": "6ecf75b4-fc48-4f6f-b0c6-b1487076ba6e",
   "metadata": {},
   "source": [
    "'''Two groups of students are given different study materials to prepare for a test. The first group (n1 =\n",
    "30) has a mean score of 80 with a standard deviation of 10, and the second group (n2 = 40) has a mean\n",
    "score of 75 with a standard deviation of 8. Test the hypothesis that the population means for the two\n",
    "groups are equal with a significance level of 0.01.\n",
    "'''"
   ]
  },
  {
   "cell_type": "code",
   "execution_count": 7,
   "id": "78bc8dcb-e4f6-4c95-adfc-634716195bc5",
   "metadata": {},
   "outputs": [
    {
     "name": "stdout",
     "output_type": "stream",
     "text": [
      "Test statistic: 2.323967729699292\n",
      "Critical value: 2.6500812928169553\n",
      "P-value: 0.023123013413725912\n",
      "Result: fail to reject the null hypothesis\n"
     ]
    }
   ],
   "source": [
    "import numpy as np\n",
    "from scipy.stats import t\n",
    "n1=30\n",
    "n2=40\n",
    "mean1=80\n",
    "mean2=75\n",
    "std1=10\n",
    "std2=8\n",
    "alpha=0.01  \n",
    "    \n",
    "pooled_var=((n1-1)*std1**2+(n2-1)*std2**2)/(n1+n2-2)\n",
    "t_stat=(mean1-mean2)/(np.sqrt(pooled_var*(1/n1+1/n2)))\n",
    "    \n",
    "    \n",
    "dof=n1+n2-2\n",
    "    \n",
    "crit_val=t.ppf(1-alpha/2,dof)\n",
    "    \n",
    "p_value=2*(1-t.cdf(abs(t_stat),dof))\n",
    "    \n",
    "if t_stat<-(crit_val) or t_stat>crit_val:\n",
    "    result=\"reject the null hypothesis,means of the two samples are not equal\"\n",
    "        \n",
    "else:\n",
    "    result=\"fail to reject the null hypothesis\"\n",
    "print(\"Test statistic:\", t_stat)\n",
    "print(\"Critical value:\", crit_val)\n",
    "print(\"P-value:\", p_value)\n",
    "print(\"Result:\", result)"
   ]
  },
  {
   "cell_type": "markdown",
   "id": "963dfc2e-d9a3-4f15-8e73-0902516a8a08",
   "metadata": {},
   "source": [
    "# Q17"
   ]
  },
  {
   "cell_type": "markdown",
   "id": "e55ec326-55b1-4748-b1bf-536179b44c14",
   "metadata": {},
   "source": [
    "'''A marketing company wants to estimate the average number of ads watched by viewers during a TV\n",
    "program. They take a random sample of 50 viewers and find that the sample mean is 4 with a standard\n",
    "deviation of 1.5. Estimate the population mean with a 99% confidence interval'''"
   ]
  },
  {
   "cell_type": "code",
   "execution_count": 8,
   "id": "41ac1a46-f772-4f6a-839b-cd8717ff2fbf",
   "metadata": {},
   "outputs": [
    {
     "name": "stdout",
     "output_type": "stream",
     "text": [
      "sample mean was: 4\n",
      "confidence interval of 99% confidence level (3.4314963358572577, 4.568503664142742)\n"
     ]
    }
   ],
   "source": [
    "import numpy as np\n",
    "from scipy.stats import t\n",
    "\n",
    "\n",
    "sample_mean=4\n",
    "standard_deviation=1.5\n",
    "viewers=50\n",
    "confidence_level=0.99\n",
    "dof=viewers-1\n",
    "\n",
    "critical_value=t.ppf((confidence_level+1)/2,dof)\n",
    "\n",
    "margin_of_error=critical_value*standard_deviation/np.sqrt(viewers)\n",
    "\n",
    "confidence_interval=(sample_mean-margin_of_error,sample_mean+margin_of_error)\n",
    "\n",
    "print(\"sample mean was:\",sample_mean)\n",
    "print(\"confidence interval of 99% confidence level\",confidence_interval)"
   ]
  },
  {
   "cell_type": "code",
   "execution_count": null,
   "id": "c8a9f39f-4443-46aa-bfc4-ba7226337579",
   "metadata": {},
   "outputs": [],
   "source": []
  }
 ],
 "metadata": {
  "kernelspec": {
   "display_name": "Python 3 (ipykernel)",
   "language": "python",
   "name": "python3"
  },
  "language_info": {
   "codemirror_mode": {
    "name": "ipython",
    "version": 3
   },
   "file_extension": ".py",
   "mimetype": "text/x-python",
   "name": "python",
   "nbconvert_exporter": "python",
   "pygments_lexer": "ipython3",
   "version": "3.10.8"
  }
 },
 "nbformat": 4,
 "nbformat_minor": 5
}
