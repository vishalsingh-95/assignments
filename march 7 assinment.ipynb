{
 "cells": [
  {
   "cell_type": "markdown",
   "id": "672b27a7-b75f-4e1a-b43f-90b5039f0f09",
   "metadata": {},
   "source": [
    "# Q1"
   ]
  },
  {
   "cell_type": "markdown",
   "id": "375031aa-7d88-47b5-a50f-233848f4dd41",
   "metadata": {},
   "source": [
    "# The three measure of central tendencies are:-\n",
    "# 1) Mean\n",
    "# 2) median\n",
    "# 3) mode"
   ]
  },
  {
   "cell_type": "markdown",
   "id": "d448678f-a189-45bd-a32c-58e2f4262038",
   "metadata": {},
   "source": [
    "# Q2"
   ]
  },
  {
   "cell_type": "markdown",
   "id": "46aa4d99-2d38-40dd-afef-5bb33f7f3035",
   "metadata": {},
   "source": [
    "# 1) Mean: mean gives the average value of the entire dataset. It is a good measure when there are no outliers in the entire dataset.\n",
    "# 2) median: Median gives the central value after sorting the data in ascending order. If there are odd data in the dataset then the central element will be the median and if there are even entries in the dataset then the mean of central 2 values will be the median. If there are any outliers in the data it allows to find the central measure with less skewness.\n",
    "# 3) Mode: Mode is given by the data which has the highest frequency in the dataset. Modes are often used in case of data which are qualitative."
   ]
  },
  {
   "cell_type": "markdown",
   "id": "0af97bbe-6241-420a-88af-d51ac0bde6fa",
   "metadata": {},
   "source": [
    "# Q3"
   ]
  },
  {
   "cell_type": "code",
   "execution_count": 3,
   "id": "62bb7966-25a5-43fb-aeca-c5a4210937ad",
   "metadata": {},
   "outputs": [
    {
     "name": "stderr",
     "output_type": "stream",
     "text": [
      "/tmp/ipykernel_77/824704034.py:6: FutureWarning: Unlike other reduction functions (e.g. `skew`, `kurtosis`), the default behavior of `mode` typically preserves the axis it acts along. In SciPy 1.11.0, this behavior will change: the default value of `keepdims` will become False, the `axis` over which the statistic is taken will be eliminated, and the value None will no longer be accepted. Set `keepdims` to True or False to avoid this warning.\n",
      "  mode=stats.mode(heights)\n"
     ]
    }
   ],
   "source": [
    "import numpy as np\n",
    "from scipy import stats\n",
    "heights=[178,177,176,177,178.2,178,175,179,180,175,178.9,176.2,177,172.5,178,176.5]\n",
    "mean=np.mean(heights)\n",
    "median=np.median(heights)\n",
    "mode=stats.mode(heights)"
   ]
  },
  {
   "cell_type": "code",
   "execution_count": 8,
   "id": "29b9197c-91fc-48ce-9d87-8062fb403baa",
   "metadata": {},
   "outputs": [
    {
     "name": "stdout",
     "output_type": "stream",
     "text": [
      "the mean height is : 177.018750, the mdian of heights is :177.000000 and the mode of the heights is: ModeResult(mode=array([177.]), count=array([3]))\n"
     ]
    }
   ],
   "source": [
    "print(\"the mean height is : %f, the mdian of heights is :%f\"%(mean,median), \"and the mode of the heights is:\",mode)"
   ]
  },
  {
   "cell_type": "markdown",
   "id": "6699e056-2bc0-4593-b62e-c6fdb09616b9",
   "metadata": {},
   "source": [
    "# Q4"
   ]
  },
  {
   "cell_type": "code",
   "execution_count": 11,
   "id": "d6f457bf-f3a0-4dd9-89ed-d646ee0b7d39",
   "metadata": {},
   "outputs": [],
   "source": [
    "import numpy as np\n",
    "heights=[178,177,176,177,178.2,178,175,179,180,175,178.9,176.2,177,172.5,178,176.5]\n",
    "standard_deviation=np.std(heights)"
   ]
  },
  {
   "cell_type": "code",
   "execution_count": 12,
   "id": "0a7e5e0a-a095-48d2-b58f-89a3427b0da4",
   "metadata": {},
   "outputs": [
    {
     "data": {
      "text/plain": [
       "1.7885814036548633"
      ]
     },
     "execution_count": 12,
     "metadata": {},
     "output_type": "execute_result"
    }
   ],
   "source": [
    "standard_deviation"
   ]
  },
  {
   "cell_type": "markdown",
   "id": "79904f07-7a29-4d76-8b64-66053750eec7",
   "metadata": {},
   "source": [
    "# Q5"
   ]
  },
  {
   "cell_type": "markdown",
   "id": "abd97e0e-8448-4d6d-bf4c-d5de2ab402f2",
   "metadata": {},
   "source": [
    "# Range: The range is the simplest measure of dispersion, representing the difference between the maximum and minimum values in a dataset. It gives a rough estimate of the spread but does not account for the distribution of values in between. For example, if we have a dataset of heights: 178, 185, 156, 152, 176, the range would be 185 - 152 = 33. However, the range does not provide information about how the height is distributed within this range.\n",
    "# Variance: The variance measures the average squared deviation of each data point from the mean. It takes into account the entire dataset, providing a more comprehensive measure of dispersion. For the same example above asd heights The variance is calculated as:-"
   ]
  },
  {
   "cell_type": "code",
   "execution_count": 13,
   "id": "6fe814c8-92f4-482a-9cfe-94207722ad66",
   "metadata": {},
   "outputs": [
    {
     "data": {
      "text/plain": [
       "168.64000000000001"
      ]
     },
     "execution_count": 13,
     "metadata": {},
     "output_type": "execute_result"
    }
   ],
   "source": [
    "h=[178,185,156,152,176]\n",
    "variance=np.var(h)\n",
    "variance"
   ]
  },
  {
   "cell_type": "markdown",
   "id": "eff887dc-4d9f-4afc-8b1d-110591f69934",
   "metadata": {},
   "source": [
    "# Here the variance is 168.64 which shows that the each data deviates from the mean by  square root of variance on an average.\n",
    "# Standard Deviation: The standard deviation is another measure of dispersion that provides the average distance between each data point and the mean. It is the square root of the variance and is often preferred due to its easier interpretability. In the previous example, the standard deviation would be the square root of the variance, approximately "
   ]
  },
  {
   "cell_type": "markdown",
   "id": "c15dd818-52ce-4f46-9b67-b681b04252d4",
   "metadata": {},
   "source": [
    "# Q6"
   ]
  },
  {
   "cell_type": "markdown",
   "id": "b761210e-df66-4a95-9ccc-d9fd238065fc",
   "metadata": {},
   "source": [
    "# A Venn diagram is a visual representation of the relationships between different sets or groups of objects or elements. It consists of overlapping circles (or other closed curves) that represent the sets, with the overlapping regions indicating the elements that belong to multiple sets. The purpose of a Venn diagram is to illustrate the logical relationships between sets, showing the shared and distinct elements."
   ]
  },
  {
   "cell_type": "markdown",
   "id": "b3f63cc2-b6f3-474f-aceb-a5cc7890655f",
   "metadata": {},
   "source": [
    "# Q7"
   ]
  },
  {
   "cell_type": "code",
   "execution_count": 14,
   "id": "dcc82029-a65b-468d-8ba8-9a483afd9b95",
   "metadata": {},
   "outputs": [
    {
     "name": "stdout",
     "output_type": "stream",
     "text": [
      "Intersection of A and B is: {2, 6}\n",
      "Union of A and B is: {0, 2, 3, 4, 5, 6, 7, 8, 10}\n"
     ]
    }
   ],
   "source": [
    "A={2,3,4,5,6,7}\n",
    "B={0,2,6,8,10}\n",
    "print(\"Intersection of A and B is:\",A.intersection(B))\n",
    "print(\"Union of A and B is:\",A.union(B))"
   ]
  },
  {
   "cell_type": "markdown",
   "id": "157504a4-ef68-4f44-bd3f-814d951e8ba9",
   "metadata": {},
   "source": [
    "# Q8"
   ]
  },
  {
   "cell_type": "markdown",
   "id": "78cf3335-c38b-47e5-93c7-3c2db69f9aec",
   "metadata": {},
   "source": [
    "# The skewness in data simply means when the data is not following the normal distribution curve but because of certain outliers the normal curve gets shifted from its original position either to its right or to its left and hence giving it the names of right skewed or left skewed datasets."
   ]
  },
  {
   "cell_type": "markdown",
   "id": "2b088ce1-e429-4df3-b569-f371c153efd4",
   "metadata": {},
   "source": [
    "# Q9"
   ]
  },
  {
   "cell_type": "markdown",
   "id": "b0aad64b-f0c6-4a59-8364-7095885276fa",
   "metadata": {},
   "source": [
    "# In a right skewed dataset the median is always less than or equal to the mean and the mode is always less than or equal to the median"
   ]
  },
  {
   "cell_type": "markdown",
   "id": "6b1bbbf3-7047-4c0a-85b8-5ed1268ae8b8",
   "metadata": {},
   "source": [
    "# Q10"
   ]
  },
  {
   "cell_type": "markdown",
   "id": "e9f7132d-8f2a-4c81-86c0-2075b00035b3",
   "metadata": {},
   "source": [
    "# Covariance:\n",
    "Covariance measures the extent to which two variables change or vary together. It quantifies the direction and strength of the linear relationship between two variables. A positive covariance indicates a positive relationship, meaning that when one variable increases, the other tends to increase as well. A negative covariance indicates a negative relationship, where one variable tends to decrease as the other increases. However, the magnitude of covariance alone does not indicate the strength of the relationship.\n",
    "\n",
    "# Correlation:\n",
    "Correlation, on the other hand, measures the strength and direction of the linear relationship between two variables, while also providing a standardized measure that can be compared. Correlation is always between -1 and 1. A correlation of 1 indicates a perfect positive linear relationship, a correlation of -1 indicates a perfect negative linear relationship, and a correlation of 0 indicates no linear relationship. Correlation is unitless, making it easier to compare across different datasets or variables. "
   ]
  },
  {
   "cell_type": "markdown",
   "id": "d00ef7c3-04fb-4693-9403-084499877674",
   "metadata": {},
   "source": [
    "# Q11"
   ]
  },
  {
   "cell_type": "markdown",
   "id": "29cf51f6-2b79-4faf-bbbd-e8ba04353f9e",
   "metadata": {},
   "source": [
    "# sample mean= (sum of all observations)/(number of total observations in the given sample)"
   ]
  },
  {
   "cell_type": "code",
   "execution_count": 1,
   "id": "074b48f2-3d58-423d-9c60-6fcf7b6f0247",
   "metadata": {},
   "outputs": [],
   "source": [
    "import numpy as np\n",
    "df=np.random.randint(70,120,40)\n",
    "mean=np.mean(df)"
   ]
  },
  {
   "cell_type": "code",
   "execution_count": 2,
   "id": "b53f76cd-05f6-44c4-a44d-c0b78a1e4708",
   "metadata": {},
   "outputs": [
    {
     "data": {
      "text/plain": [
       "99.1"
      ]
     },
     "execution_count": 2,
     "metadata": {},
     "output_type": "execute_result"
    }
   ],
   "source": [
    "mean"
   ]
  },
  {
   "cell_type": "markdown",
   "id": "e70c0e76-d5a8-4374-8a27-dd6a285df6ca",
   "metadata": {},
   "source": [
    "# Q12"
   ]
  },
  {
   "cell_type": "markdown",
   "id": "4fea4ff6-032b-4972-961a-9e3a35549942",
   "metadata": {},
   "source": [
    "# For normal distribution the mean, median and mode are all equal."
   ]
  },
  {
   "cell_type": "markdown",
   "id": "b0faaede-b9ed-4d0d-ae54-20b89229595f",
   "metadata": {},
   "source": [
    "# Q13"
   ]
  },
  {
   "cell_type": "markdown",
   "id": "ebe58c23-5bac-4760-97f8-32203eb6fcea",
   "metadata": {},
   "source": [
    "# Covariance:\n",
    "Covariance measures the extent to which two variables change or vary together. It quantifies the direction and strength of the linear relationship between two variables. A positive covariance indicates a positive relationship, meaning that when one variable increases, the other tends to increase as well. A negative covariance indicates a negative relationship, where one variable tends to decrease as the other increases. However, the magnitude of covariance alone does not indicate the strength of the relationship.\n",
    "\n",
    "# Correlation:\n",
    "Correlation, on the other hand, measures the strength and direction of the linear relationship between two variables, while also providing a standardized measure that can be compared. Correlation is always between -1 and 1. A correlation of 1 indicates a perfect positive linear relationship, a correlation of -1 indicates a perfect negative linear relationship, and a correlation of 0 indicates no linear relationship. Correlation is unitless, making it easier to compare across different datasets or variables."
   ]
  },
  {
   "cell_type": "markdown",
   "id": "f5edf867-c4f9-45c6-9c00-9efce322b011",
   "metadata": {},
   "source": [
    "# Q14"
   ]
  },
  {
   "cell_type": "markdown",
   "id": "848d9f28-e9d4-4aa4-ae7c-4a6150bc6735",
   "metadata": {},
   "source": [
    "# Outliers have a significant effect on the mean but a less significant effect on the median, but they have a very significant effect on the measure of dispersion"
   ]
  },
  {
   "cell_type": "code",
   "execution_count": 7,
   "id": "73ec6ce2-f7cd-4ebd-971f-575773c8dff3",
   "metadata": {},
   "outputs": [],
   "source": [
    "list1=[70,80,85,90,95,100]\n",
    "mean1=np.mean(list1)\n",
    "median1=np.median(list1)\n",
    "range_list1=np.ptp(list1)\n",
    "std1=np.std(list1)\n",
    "\n",
    "list2=[70,80,85,90,95,200]\n",
    "mean2=np.mean(list2)\n",
    "median2=np.median(list2)\n",
    "range_list2=np.ptp(list2)\n",
    "std2=np.std(list2)"
   ]
  },
  {
   "cell_type": "code",
   "execution_count": 8,
   "id": "3770ac3c-b7ff-414c-90ba-d748b175828b",
   "metadata": {},
   "outputs": [],
   "source": [
    "import pandas as pd\n",
    "df=pd.DataFrame({'Central_tendencies':['mean','median','range','standard_deviation'],\n",
    "                'list1':[mean1,median1,range_list1,std1],\n",
    "                'list2':[mean2,median2,range_list2,std2]})"
   ]
  },
  {
   "cell_type": "code",
   "execution_count": 9,
   "id": "8b4d3873-238c-4c30-9f0d-9b44b1010ecf",
   "metadata": {},
   "outputs": [
    {
     "data": {
      "text/html": [
       "<div>\n",
       "<style scoped>\n",
       "    .dataframe tbody tr th:only-of-type {\n",
       "        vertical-align: middle;\n",
       "    }\n",
       "\n",
       "    .dataframe tbody tr th {\n",
       "        vertical-align: top;\n",
       "    }\n",
       "\n",
       "    .dataframe thead th {\n",
       "        text-align: right;\n",
       "    }\n",
       "</style>\n",
       "<table border=\"1\" class=\"dataframe\">\n",
       "  <thead>\n",
       "    <tr style=\"text-align: right;\">\n",
       "      <th></th>\n",
       "      <th>Central_tendencies</th>\n",
       "      <th>list1</th>\n",
       "      <th>list2</th>\n",
       "    </tr>\n",
       "  </thead>\n",
       "  <tbody>\n",
       "    <tr>\n",
       "      <th>0</th>\n",
       "      <td>mean</td>\n",
       "      <td>86.666667</td>\n",
       "      <td>103.333333</td>\n",
       "    </tr>\n",
       "    <tr>\n",
       "      <th>1</th>\n",
       "      <td>median</td>\n",
       "      <td>87.500000</td>\n",
       "      <td>87.500000</td>\n",
       "    </tr>\n",
       "    <tr>\n",
       "      <th>2</th>\n",
       "      <td>range</td>\n",
       "      <td>30.000000</td>\n",
       "      <td>130.000000</td>\n",
       "    </tr>\n",
       "    <tr>\n",
       "      <th>3</th>\n",
       "      <td>standard_deviation</td>\n",
       "      <td>9.860133</td>\n",
       "      <td>43.938088</td>\n",
       "    </tr>\n",
       "  </tbody>\n",
       "</table>\n",
       "</div>"
      ],
      "text/plain": [
       "   Central_tendencies      list1       list2\n",
       "0                mean  86.666667  103.333333\n",
       "1              median  87.500000   87.500000\n",
       "2               range  30.000000  130.000000\n",
       "3  standard_deviation   9.860133   43.938088"
      ]
     },
     "execution_count": 9,
     "metadata": {},
     "output_type": "execute_result"
    }
   ],
   "source": [
    "df"
   ]
  },
  {
   "cell_type": "markdown",
   "id": "06ce42a9-40c3-4e97-9ad6-b80bf271a7e7",
   "metadata": {},
   "source": [
    "# From the example above we can see that the mean of list1 and list2 differ alot but the median is not changed here.\n",
    "# And also we can see that the outlier have a very significant effect on the measure of dispersion which are range and standard deviation. "
   ]
  },
  {
   "cell_type": "code",
   "execution_count": null,
   "id": "164458f5-a9ae-41c4-b8b1-298cad2977be",
   "metadata": {},
   "outputs": [],
   "source": []
  }
 ],
 "metadata": {
  "kernelspec": {
   "display_name": "Python 3 (ipykernel)",
   "language": "python",
   "name": "python3"
  },
  "language_info": {
   "codemirror_mode": {
    "name": "ipython",
    "version": 3
   },
   "file_extension": ".py",
   "mimetype": "text/x-python",
   "name": "python",
   "nbconvert_exporter": "python",
   "pygments_lexer": "ipython3",
   "version": "3.10.8"
  }
 },
 "nbformat": 4,
 "nbformat_minor": 5
}
