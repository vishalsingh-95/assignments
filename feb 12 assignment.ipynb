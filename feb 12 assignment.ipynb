{
 "cells": [
  {
   "cell_type": "markdown",
   "id": "f6732b49-80cd-41c8-8f19-57706cc7ea14",
   "metadata": {},
   "source": [
    "# Q1"
   ]
  },
  {
   "cell_type": "markdown",
   "id": "69794f53-7135-4415-a10c-437e85efce3a",
   "metadata": {},
   "source": [
    "# An exception is the error which occurs during runtime. For example, like in a scenario if you have to enter the age of a person and you have given the age to be negative, the interpretor will accept it because for the interpretor, it is just an integer or a floating point value, but practically age can not be negative. The system will not show the error, but the practical consideration of the number is of no use now.To handle this type of exception, we use exception handling. There can be many more examples of exceptions, like divide by zero exception, value exception, type exception, etc."
   ]
  },
  {
   "cell_type": "markdown",
   "id": "2273dd63-8c15-4ada-a5ed-7011731f5310",
   "metadata": {},
   "source": [
    "# The difference between exception and syntax error is pretty straight forward, syntax error is, when the rules of the Python language are violated. They are typically caused by incorrect syntax or structure of the code, such as missing or misplaced punctuation, incorrect indentation, or the use of undefined variables or functions. These errors are detected by the Python interpreter during the parsing of the code and it has to be rectified during the interpretation otherwise the program will not run. But in case of exception, language wise we have written everything up to the mark that is why the code is running but there are some values or event that occurs during the execution of a program that disrupts the normal flow of instructions. When an exception occurs, the program execution is immediately halted, and the control is transferred to a special code block known as an exception handler."
   ]
  },
  {
   "cell_type": "markdown",
   "id": "6d84de7b-aa1a-4df8-a19a-b542d63f7a63",
   "metadata": {},
   "source": [
    "# Q2"
   ]
  },
  {
   "cell_type": "markdown",
   "id": "be803dfa-ebcf-4927-91c6-3ad39ca35bd8",
   "metadata": {},
   "source": [
    "# When an exception is not handled in Python, it leads to the termination of the program with an error message known as an unhandled exception error. This error message displays information about the exception that occurred, including the type of exception and the traceback, which shows the sequence of function calls that led to the exception."
   ]
  },
  {
   "cell_type": "code",
   "execution_count": 1,
   "id": "386c0eee-b0c3-4b78-81c7-bf35c20e38fc",
   "metadata": {},
   "outputs": [
    {
     "ename": "ZeroDivisionError",
     "evalue": "division by zero",
     "output_type": "error",
     "traceback": [
      "\u001b[0;31m---------------------------------------------------------------------------\u001b[0m",
      "\u001b[0;31mZeroDivisionError\u001b[0m                         Traceback (most recent call last)",
      "Cell \u001b[0;32mIn[1], line 8\u001b[0m\n\u001b[1;32m      6\u001b[0m c\u001b[38;5;241m=\u001b[39m\u001b[38;5;241m10\u001b[39m\n\u001b[1;32m      7\u001b[0m d\u001b[38;5;241m=\u001b[39m\u001b[38;5;241m0\u001b[39m\n\u001b[0;32m----> 8\u001b[0m e\u001b[38;5;241m=\u001b[39m\u001b[43mdivision\u001b[49m\u001b[43m(\u001b[49m\u001b[43mc\u001b[49m\u001b[43m,\u001b[49m\u001b[43md\u001b[49m\u001b[43m)\u001b[49m\n\u001b[1;32m      9\u001b[0m \u001b[38;5;28mprint\u001b[39m(e)\n",
      "Cell \u001b[0;32mIn[1], line 3\u001b[0m, in \u001b[0;36mdivision\u001b[0;34m(a, b)\u001b[0m\n\u001b[1;32m      2\u001b[0m \u001b[38;5;28;01mdef\u001b[39;00m \u001b[38;5;21mdivision\u001b[39m(a,b):\n\u001b[0;32m----> 3\u001b[0m     result\u001b[38;5;241m=\u001b[39m\u001b[43ma\u001b[49m\u001b[38;5;241;43m/\u001b[39;49m\u001b[43mb\u001b[49m\n\u001b[1;32m      4\u001b[0m     \u001b[38;5;28;01mreturn\u001b[39;00m result\n",
      "\u001b[0;31mZeroDivisionError\u001b[0m: division by zero"
     ]
    }
   ],
   "source": [
    "# example:-\n",
    "def division(a,b):\n",
    "    result=a/b\n",
    "    return result\n",
    "\n",
    "c=10\n",
    "d=0\n",
    "e=division(c,d)\n",
    "print(e)"
   ]
  },
  {
   "cell_type": "markdown",
   "id": "4dde9485-c6b5-4b24-b9a3-09854b3a8469",
   "metadata": {},
   "source": [
    "# Q3"
   ]
  },
  {
   "cell_type": "markdown",
   "id": "33ddb8ed-0de9-4d3b-b0de-f7f4ed3ae44b",
   "metadata": {},
   "source": [
    "# try and except blocks are used to catch and handle exceptions. The code which needs to be checked is written in \"try\" block and the instructions for when an error occurs in \"try\" block is written in except block."
   ]
  },
  {
   "cell_type": "code",
   "execution_count": 2,
   "id": "b9853184-82f8-4555-94db-fed95d66106f",
   "metadata": {},
   "outputs": [
    {
     "name": "stdout",
     "output_type": "stream",
     "text": [
      "division by zero\n"
     ]
    }
   ],
   "source": [
    "try:\n",
    "    def division(a,b):\n",
    "        result=a/b\n",
    "        return result\n",
    "\n",
    "    c=10\n",
    "    d=0\n",
    "    e=division(c,d)\n",
    "    print(e)\n",
    "except ZeroDivisionError as a:\n",
    "    print(a)"
   ]
  },
  {
   "cell_type": "markdown",
   "id": "b67930c0-6552-47ba-a247-aa12fbda7b1a",
   "metadata": {},
   "source": [
    "# Q4"
   ]
  },
  {
   "cell_type": "code",
   "execution_count": 3,
   "id": "c1375c36-e187-40e1-9320-b1b57ff5f5fd",
   "metadata": {},
   "outputs": [
    {
     "name": "stdout",
     "output_type": "stream",
     "text": [
      "2.0\n",
      "Try block executed successfuly\n"
     ]
    }
   ],
   "source": [
    "# try and else\n",
    "try:\n",
    "    def division(a,b):\n",
    "        result=a/b\n",
    "        return result\n",
    "\n",
    "    c=10\n",
    "    d=5\n",
    "    e=division(c,d)\n",
    "    print(e)\n",
    "except ZeroDivisionError as a:\n",
    "    print(a)\n",
    "else:\n",
    "    print(\"Try block executed successfuly\")"
   ]
  },
  {
   "cell_type": "markdown",
   "id": "37bc88f5-3a89-4b4b-ac39-4c5a636946cd",
   "metadata": {},
   "source": [
    "As seen in the example above, \"else\" block will only execute when there are no exception in the \"try\" block, otherwise only \"except\" block will execute."
   ]
  },
  {
   "cell_type": "code",
   "execution_count": 4,
   "id": "86673731-e214-49ac-a566-e33346bc14c8",
   "metadata": {},
   "outputs": [
    {
     "name": "stdout",
     "output_type": "stream",
     "text": [
      "division by zero\n",
      "This will be executed irrespective of status of try and except blocks\n"
     ]
    }
   ],
   "source": [
    "# finally\n",
    "try:\n",
    "    def division(a,b):\n",
    "        result=a/b\n",
    "        return result\n",
    "\n",
    "    c=10\n",
    "    d=0\n",
    "    e=division(c,d)\n",
    "    print(e)\n",
    "except ZeroDivisionError as a:\n",
    "    print(a)\n",
    "else:\n",
    "    print(\"Try block executed successfuly\")\n",
    "finally:\n",
    "    print(\"This will be executed irrespective of status of try and except blocks\")"
   ]
  },
  {
   "cell_type": "markdown",
   "id": "6ba27853-7003-48e5-9dde-95c986098092",
   "metadata": {},
   "source": [
    "#Finally is always executed wether there is an exception in the try block or not"
   ]
  },
  {
   "cell_type": "code",
   "execution_count": 11,
   "id": "ffa906da-681d-46bd-af0b-5f00e3a55fce",
   "metadata": {},
   "outputs": [
    {
     "ename": "ValueError",
     "evalue": "Cannot calculate square root of a negative number.",
     "output_type": "error",
     "traceback": [
      "\u001b[0;31m---------------------------------------------------------------------------\u001b[0m",
      "\u001b[0;31mValueError\u001b[0m                                Traceback (most recent call last)",
      "Cell \u001b[0;32mIn[11], line 7\u001b[0m\n\u001b[1;32m      4\u001b[0m         \u001b[38;5;28;01mraise\u001b[39;00m \u001b[38;5;167;01mValueError\u001b[39;00m(\u001b[38;5;124m\"\u001b[39m\u001b[38;5;124mCannot calculate square root of a negative number.\u001b[39m\u001b[38;5;124m\"\u001b[39m)\n\u001b[1;32m      5\u001b[0m     \u001b[38;5;28;01mreturn\u001b[39;00m num \u001b[38;5;241m*\u001b[39m\u001b[38;5;241m*\u001b[39m \u001b[38;5;241m0.5\u001b[39m\n\u001b[0;32m----> 7\u001b[0m result \u001b[38;5;241m=\u001b[39m \u001b[43msquare_root\u001b[49m\u001b[43m(\u001b[49m\u001b[38;5;241;43m-\u001b[39;49m\u001b[38;5;241;43m9\u001b[39;49m\u001b[43m)\u001b[49m\n\u001b[1;32m      8\u001b[0m \u001b[38;5;28mprint\u001b[39m(result)\n",
      "Cell \u001b[0;32mIn[11], line 4\u001b[0m, in \u001b[0;36msquare_root\u001b[0;34m(num)\u001b[0m\n\u001b[1;32m      2\u001b[0m \u001b[38;5;28;01mdef\u001b[39;00m \u001b[38;5;21msquare_root\u001b[39m(num):\n\u001b[1;32m      3\u001b[0m     \u001b[38;5;28;01mif\u001b[39;00m num \u001b[38;5;241m<\u001b[39m \u001b[38;5;241m0\u001b[39m:\n\u001b[0;32m----> 4\u001b[0m         \u001b[38;5;28;01mraise\u001b[39;00m \u001b[38;5;167;01mValueError\u001b[39;00m(\u001b[38;5;124m\"\u001b[39m\u001b[38;5;124mCannot calculate square root of a negative number.\u001b[39m\u001b[38;5;124m\"\u001b[39m)\n\u001b[1;32m      5\u001b[0m     \u001b[38;5;28;01mreturn\u001b[39;00m num \u001b[38;5;241m*\u001b[39m\u001b[38;5;241m*\u001b[39m \u001b[38;5;241m0.5\u001b[39m\n",
      "\u001b[0;31mValueError\u001b[0m: Cannot calculate square root of a negative number."
     ]
    }
   ],
   "source": [
    "# raise\n",
    "def square_root(num):\n",
    "    if num < 0:\n",
    "        raise ValueError(\"Cannot calculate square root of a negative number.\")\n",
    "    return num ** 0.5\n",
    "\n",
    "result = square_root(-9)\n",
    "print(result)"
   ]
  },
  {
   "cell_type": "markdown",
   "id": "7934c1a8-2d90-45e2-b989-575113d5bb00",
   "metadata": {},
   "source": [
    "#square_root function raises a ValueError exception with a custom error message if the input number is negative. This allows us to handle such exceptional cases explicitly and provide meaningful error messages."
   ]
  },
  {
   "cell_type": "markdown",
   "id": "38feafa1-b681-4b7d-8a66-dc4af4c19a1e",
   "metadata": {},
   "source": [
    "# Q5"
   ]
  },
  {
   "cell_type": "markdown",
   "id": "6aa5b69e-e196-49ca-aa71-fc4a0aee5766",
   "metadata": {},
   "source": [
    "# Custom exceptions in Python are user-defined exceptions that inherit from the base Exception class or its subclasses. They allow us to define our own specific exceptional conditions in our code and handle them separately from built-in exceptions.\n",
    "reasons why custom exceptions are needed are as follows:-\n",
    "1) Improved Readability: By defining custom exceptions, we can provide more descriptive and meaningful error messages that tells us about the specific exceptional conditions in our code. This can make our code more readable and easier to understand.\n",
    "2) Specific Exception Handling: Custom exceptions allow us to handle different exceptional conditions separately. By raising and catching custom exceptions, we can implement specific error handling logic for each type of exception, providing more precise error recovery or alternative execution paths."
   ]
  },
  {
   "cell_type": "code",
   "execution_count": 13,
   "id": "88c64c60-d167-40e7-97f4-f2874316b582",
   "metadata": {},
   "outputs": [
    {
     "name": "stdin",
     "output_type": "stream",
     "text": [
      "enter your age 151\n"
     ]
    },
    {
     "name": "stdout",
     "output_type": "stream",
     "text": [
      "उम्र बहुत ज्यादा है\n"
     ]
    }
   ],
   "source": [
    "# example\n",
    "class validateAge(Exception):\n",
    "    def __init__(self,msg):\n",
    "        self.msg=msg\n",
    "        \n",
    "\n",
    "def validate_age(age):\n",
    "    if age<0:\n",
    "        raise validateAge(\"दर्ज उम्र नकारात्मक है\")\n",
    "    elif age>150:\n",
    "        raise validateAge(\"उम्र बहुत ज्यादा है\")\n",
    "    else:\n",
    "        print(\"आयु मान्य है\")\n",
    "        \n",
    "\n",
    "\n",
    "try:\n",
    "    age=int(input(\"enter your age\"))\n",
    "    validate_age(age)\n",
    "except validateAge as a:\n",
    "    print(a)"
   ]
  },
  {
   "cell_type": "markdown",
   "id": "db8a92af-6e12-4b5f-846c-4e1f412e3d5e",
   "metadata": {},
   "source": [
    "# Q6"
   ]
  },
  {
   "cell_type": "code",
   "execution_count": 15,
   "id": "e0e232a6-f6c5-441b-86db-8984443c2c7b",
   "metadata": {},
   "outputs": [
    {
     "name": "stdout",
     "output_type": "stream",
     "text": [
      "Error: Invalid data: None is not allowed.\n"
     ]
    }
   ],
   "source": [
    "class CustomException(Exception):\n",
    "    pass\n",
    "\n",
    "def process_data(data):\n",
    "    if data is None:\n",
    "        raise CustomException(\"Invalid data: None is not allowed.\")\n",
    "    # Process the data\n",
    "\n",
    "try:\n",
    "    process_data(None)\n",
    "except CustomException as e:\n",
    "    print(\"Error:\", e)\n"
   ]
  },
  {
   "cell_type": "code",
   "execution_count": null,
   "id": "0b09aad2-5271-42f9-9262-534932918313",
   "metadata": {},
   "outputs": [],
   "source": []
  }
 ],
 "metadata": {
  "kernelspec": {
   "display_name": "Python 3 (ipykernel)",
   "language": "python",
   "name": "python3"
  },
  "language_info": {
   "codemirror_mode": {
    "name": "ipython",
    "version": 3
   },
   "file_extension": ".py",
   "mimetype": "text/x-python",
   "name": "python",
   "nbconvert_exporter": "python",
   "pygments_lexer": "ipython3",
   "version": "3.10.8"
  }
 },
 "nbformat": 4,
 "nbformat_minor": 5
}
