{
 "cells": [
  {
   "cell_type": "markdown",
   "id": "0c3e1bbb-4429-4cd6-aeb4-d4a24d5162e8",
   "metadata": {},
   "source": [
    "# Q1"
   ]
  },
  {
   "cell_type": "markdown",
   "id": "e6f85ae7-ffa5-4a5a-85fe-bacff6f908e7",
   "metadata": {},
   "source": [
    "# R-squared (R²) is a statistical measure used to evaluate the goodness of fit of a linear regression model. It provides a way to understand how well the independent variable(s) in the model explain the variation in the dependent variable. R-squared is also known as the coefficient of determination.\n",
    "\n",
    "# In linear regression, we are trying to model the relationship between a dependent variable (often denoted as \"y\") and one or more independent variables (often denoted as \"x\"). The model estimates the best-fit line that represents the relationship between the variables.\n",
    "\n",
    "The formula to calculate R-squared is as follows:\n",
    "#                       R squared=1-(SSresidual/SStotal)\n",
    "\n",
    "# Where SSresidual is the sum of squares of residuals (also called the sum of squared errors), which measures the total variation of the observed values from the predicted values by the model.\n",
    "\n",
    "# And SStotal  is the total sum of squares, which measures the total variation of the observed values from their mean.\n",
    "\n",
    "# In other words, R-squared is the proportion of the total variation in the dependent variable that is explained by the linear regression model. It ranges from 0 to 1, where:\n",
    "\n",
    "# R² = 0 indicates that the model explains none of the variability in the dependent variable. The regression line does not fit the data well.\n",
    "# R² = 1 indicates that the model explains all the variability in the dependent variable. The regression line perfectly fits the data."
   ]
  },
  {
   "cell_type": "markdown",
   "id": "7c9e6e78-073d-4963-a1b3-2fce7dec9706",
   "metadata": {},
   "source": [
    "# Q2"
   ]
  },
  {
   "cell_type": "markdown",
   "id": "9c4cca82-2276-44eb-8324-d85906ff9fd9",
   "metadata": {},
   "source": [
    "# Adjusted R-squared is a modified version of the regular R-squared (R²) that takes into account the number of independent variables in the linear regression model. It addresses one of the limitations of the regular R-squared, which tends to increase with the addition of more independent variables, regardless of whether they are relevant or meaningful in explaining the dependent variable.\n",
    "\n",
    "The formula to calculate the adjusted R-squared is as follows:\n",
    "\n",
    "# Adjusted R Squared= 1-(1-R squared)*(n-1)/(n-k-1)\n",
    "\n",
    "# Where \n",
    "# R squared is the regular R-squared value.\n",
    "\n",
    "# n is the number of data points (observations) in the dataset.\n",
    "\n",
    "# k is the number of independent variables (parameters) in the model, excluding the intercept term.\n",
    "\n",
    "The key difference between the adjusted R-squared and the regular R-squared is the penalty for including more independent variables in the model. The adjusted R-squared penalizes the regular R-squared value based on the number of predictors used. As a result, the adjusted R-squared will be lower than the regular R-squared if adding extra variables to the model does not lead to a substantial improvement in explaining the dependent variable."
   ]
  },
  {
   "cell_type": "markdown",
   "id": "b9a88777-4e2e-434f-a0ea-0d8fe5137f86",
   "metadata": {},
   "source": [
    "# Q3"
   ]
  },
  {
   "cell_type": "markdown",
   "id": "c76c0dfe-e752-4815-a4a4-6a52ce645874",
   "metadata": {},
   "source": [
    "# Adjusted R-squared is more appropriate to use when we are comparing multiple regression models with different numbers of independent variables. It helps us make a fair comparison between models of varying complexity and avoid misleading conclusions.\n",
    "\n",
    "# When we want to compare two or more regression models that differ in the number of independent variables. The regular R-squared tends to increase with the addition of more predictors, even if those predictors do not improve the model's performance significantly. In such cases, the adjusted R-squared provides a more reliable comparison metric, penalizing the inclusion of irrelevant predictors."
   ]
  },
  {
   "cell_type": "markdown",
   "id": "c2053132-e3f8-4760-b824-d5fd2aa63a27",
   "metadata": {},
   "source": [
    "# Q4"
   ]
  },
  {
   "cell_type": "markdown",
   "id": "9a4a0158-5984-445b-9d96-172ab4056d8e",
   "metadata": {},
   "source": [
    "# RMSE, MSE, and MAE are commonly used metrics in the context of regression analysis to evaluate the performance of regression models. These metrics provide a measure of the accuracy and goodness of fit of the model's predictions compared to the actual values.\n",
    "\n",
    "# 1) Root Mean Squared Error (RMSE):\n",
    "RMSE is a widely used metric to quantify the average prediction error of a regression model. It measures the square root of the average of the squared differences between the predicted values and the actual (observed) values. The formula to calculate RMSE is as follows:\n",
    "\n",
    "# RMSE=sqrt(mean((y_true-y_predicted)^2))\n",
    "\n",
    "# where:\n",
    "# y_true is the actual values of the dependent variable.    \n",
    "# y_predicted is the predicted value of the dependent variable.\n",
    "\n",
    "RMSE penalizes large prediction errors more heavily than small errors due to the squaring of the differences. It provides a measure of the typical magnitude of the errors and is commonly used when larger errors are more critical or impactful.\n",
    "\n",
    "# 2) Mean Squared Error (MSE):\n",
    "MSE is the squared version of the RMSE. It measures the average of the squared differences between the predicted values and the actual values. The formula to calculate MSE is as follows:\n",
    "\n",
    "# MSE= mean((y_true-y_predicted)^2)\n",
    "\n",
    "MSE is similar to RMSE but does not take the square root, making it less interpretable in the original unit of the dependent variable. It is commonly used in mathematical calculations and optimization problems since it is differentiable and easier to work with mathematically.\n",
    "\n",
    "# 3) Mean Absolute Error (MAE):\n",
    "MAE is an alternative to RMSE that measures the average absolute difference between the predicted values and the actual values. It provides a measure of the average magnitude of the errors without considering their direction. The formula to calculate MAE is as follows:\n",
    "\n",
    "# MAE= mean(abs(y_true-y_predicted))\n",
    "\n",
    "MAE is less sensitive to outliers than RMSE because it does not square the errors. It is commonly used when errors of all magnitudes are considered equally important.\n",
    "\n",
    "# Interpretation:\n",
    "\n",
    "RMSE and MSE: Both metrics provide a measure of how well the regression model's predictions align with the actual values. Lower values of RMSE and MSE indicate better model performance, as they suggest smaller prediction errors and better accuracy.   \n",
    "\n",
    "MAE: It also provides a measure of prediction accuracy. Like RMSE and MSE, lower values of MAE indicate better model performance, indicating smaller absolute errors."
   ]
  },
  {
   "cell_type": "markdown",
   "id": "7e1d5586-55c5-4b67-8377-2c0c3a5ad6e4",
   "metadata": {},
   "source": [
    "# Q5"
   ]
  },
  {
   "cell_type": "markdown",
   "id": "8b58f58b-8f35-4ab4-8387-1f2c66646386",
   "metadata": {},
   "source": [
    "# RMSE, MSE, and MAE are popular evaluation metrics in regression analysis, each with its own advantages and disadvantages.\n",
    "\n",
    "# Advantages:\n",
    "\n",
    "# RMSE and MSE: \n",
    "Both metrics penalize larger prediction errors more heavily due to the squaring of errors. This characteristic makes them particularly useful when larger errors are more critical or impactful in the application. For instance, in financial modeling or engineering tasks, accurately predicting extreme values is crucial, and RMSE/MSE can provide insights into how well the model performs in these critical scenarios.\n",
    "\n",
    "# MAE:\n",
    "MAE does not square the errors, making it less sensitive to outliers compared to RMSE and MSE. This characteristic makes MAE more robust when dealing with datasets that contain extreme values or when the model needs to be evaluated in a more balanced manner across the entire range of predictions. MAE is also easier to interpret since it is in the same unit as the dependent variable.\n",
    "\n",
    "# Disadvantages:\n",
    "\n",
    "# RMSE and MSE: \n",
    "The squaring of errors in RMSE and MSE gives more weight to larger errors, but it may also amplify the impact of outliers or extreme values. Consequently, these metrics can be influenced heavily by a few extreme predictions, potentially leading to a misleading evaluation of the model's overall performance.\n",
    "\n",
    "# MAE: \n",
    "While MAE is more robust to outliers, it treats all errors equally without giving more importance to larger errors. This may be a disadvantage in scenarios where larger errors are more problematic and need to be addressed with greater emphasis."
   ]
  },
  {
   "cell_type": "markdown",
   "id": "23a7955d-10b2-4814-883f-80b8bd286782",
   "metadata": {},
   "source": [
    "# Q6"
   ]
  },
  {
   "cell_type": "markdown",
   "id": "f0447bb4-e0b6-4583-a325-0506013036c4",
   "metadata": {},
   "source": [
    "# Lasso regularization, also known as L1 regularization, is a technique used in linear regression and other regression models to add a penalty term based on the absolute values of the model's coefficients. It helps prevent overfitting and performs feature selection by encouraging some coefficients to be exactly zero, effectively eliminating some features from the model.\n",
    "\n",
    "# Differences from Ridge regularization (L2 regularization):\n",
    "\n",
    "# 1) Penalty term:\n",
    "Lasso regularization adds a penalty term proportional to the absolute values of the coefficients (L1 norm), whereas Ridge regularization adds a penalty term proportional to the square of the coefficients (L2 norm).\n",
    "\n",
    "# 2) Effect on coefficients:\n",
    "Lasso tends to shrink some coefficients to exactly zero, effectively performing feature selection, while Ridge can shrink coefficients toward zero but usually does not set them exactly to zero.\n",
    "\n",
    "# Cases when Lasso regularization is more appropriate to use:\n",
    "\n",
    "# 1) Feature selection: \n",
    "If you suspect that only a subset of the features is relevant for your regression model, Lasso is more appropriate, as it can set irrelevant feature coefficients to zero, effectively excluding them from the model.\n",
    "\n",
    "# 2) High-dimensional data:\n",
    "Lasso is particularly useful when dealing with high-dimensional datasets, where the number of features is much larger than the number of data points. It can help in managing the \"curse of dimensionality\" by reducing the model complexity.\n",
    "\n",
    "# 3) Sparse models:\n",
    "If you desire a sparse model with only a few significant predictors, Lasso is a better choice than Ridge, which tends to spread the effect across all predictors.\n",
    "\n",
    "# 4) Interpretability: \n",
    "Lasso can provide a more interpretable model by highlighting the most important predictors with non-zero coefficients."
   ]
  },
  {
   "cell_type": "markdown",
   "id": "b80373cf-e529-455b-a6c9-b91ded214ac9",
   "metadata": {},
   "source": [
    "# Q7"
   ]
  },
  {
   "cell_type": "markdown",
   "id": "6ea3950b-f52d-42fd-89bb-63dae92edbf3",
   "metadata": {},
   "source": [
    "# Regularized linear models help prevent overfitting in machine learning by adding a penalty term to the model's cost function, which discourages overly complex models with large coefficients. The regularization term controls the model's complexity and prevents it from fitting the noise in the training data too closely, leading to better generalization on unseen data.\n",
    "\n",
    "# For example"
   ]
  },
  {
   "cell_type": "markdown",
   "id": "3284f031-e780-49bd-b779-b4fbbac7ef9a",
   "metadata": {},
   "source": [
    "# First, let's fit a regular linear regression model without regularization:"
   ]
  },
  {
   "cell_type": "code",
   "execution_count": 15,
   "id": "8b658652-4752-43bc-a9d8-0551b804d256",
   "metadata": {},
   "outputs": [],
   "source": [
    "import numpy as np\n",
    "from sklearn.linear_model import LinearRegression\n",
    "\n",
    "# Input data\n",
    "X = np.array([1, 2, 3, 4, 5]).reshape(-1, 1)\n",
    "y = np.array([2, 4, 6, 8, 10])\n",
    "\n",
    "# Fit regular linear regression model\n",
    "reg_model = LinearRegression()\n",
    "reg_model.fit(X, y)\n",
    "\n",
    "# Predictions on training data\n",
    "y_pred_reg = reg_model.predict(X)"
   ]
  },
  {
   "cell_type": "markdown",
   "id": "a63b4b7c-a3e6-4a96-aedc-b8eb23ed2bd7",
   "metadata": {},
   "source": [
    "# Now, let's fit a regularized linear regression model with Ridge regularization (L2 regularization):"
   ]
  },
  {
   "cell_type": "code",
   "execution_count": 8,
   "id": "2d657d93-3e54-48e2-8c0f-91278d128827",
   "metadata": {},
   "outputs": [],
   "source": [
    "from sklearn.linear_model import Ridge\n",
    "\n",
    "# Fit Ridge regression model with regularization parameter alpha = 1\n",
    "ridge_model = Ridge(alpha=1)\n",
    "ridge_model.fit(X, y)\n",
    "\n",
    "# Predictions on training data\n",
    "y_pred_ridge = ridge_model.predict(X)"
   ]
  },
  {
   "cell_type": "markdown",
   "id": "24ec1037-e4c8-46ab-a339-e0373af26ec4",
   "metadata": {},
   "source": [
    "# Lastly, let's fit a regularized linear regression model with Lasso regularization (L1 regularization):"
   ]
  },
  {
   "cell_type": "code",
   "execution_count": 9,
   "id": "e2b493fd-273a-4b8b-b650-9c742c2d487b",
   "metadata": {},
   "outputs": [],
   "source": [
    "from sklearn.linear_model import Lasso\n",
    "\n",
    "# Fit Lasso regression model with regularization parameter alpha = 1\n",
    "lasso_model = Lasso(alpha=1)\n",
    "lasso_model.fit(X, y)\n",
    "\n",
    "# Predictions on training data\n",
    "y_pred_lasso = lasso_model.predict(X)"
   ]
  },
  {
   "cell_type": "markdown",
   "id": "fd175d45-1502-41fe-bd9b-af51b14bafbe",
   "metadata": {},
   "source": [
    "# Now, let's plot the three regression lines to visualize the difference between the regular linear regression and the regularized regression models:"
   ]
  },
  {
   "cell_type": "code",
   "execution_count": 10,
   "id": "0ae154cc-42a4-438e-aa2c-df14388e96ce",
   "metadata": {},
   "outputs": [
    {
     "data": {
      "image/png": "[encoded data removed]",
      "text/plain": [
       "<Figure size 640x480 with 1 Axes>"
      ]
     },
     "metadata": {},
     "output_type": "display_data"
    }
   ],
   "source": [
    "import matplotlib.pyplot as plt\n",
    "\n",
    "plt.scatter(X, y, label='Data')\n",
    "plt.plot(X, y_pred_reg, label='Regular Linear Regression', color='blue')\n",
    "plt.plot(X, y_pred_ridge, label='Ridge Regression (L2)', color='red')\n",
    "plt.plot(X, y_pred_lasso, label='Lasso Regression (L1)', color='green')\n",
    "\n",
    "plt.xlabel('X (Independent Variable)')\n",
    "plt.ylabel('y (Dependent Variable)')\n",
    "plt.legend()\n",
    "plt.show()\n"
   ]
  },
  {
   "cell_type": "markdown",
   "id": "147dc4ed-81e1-417a-8bae-61be6aec52ec",
   "metadata": {},
   "source": [
    "# In this example, we will notice that the regular linear regression (blue line) perfectly fits the data points, resulting in zero training error. However, this model is likely to overfit the data and perform poorly on unseen data. On the other hand, both Ridge (red line) and Lasso (green line) regression models prevent overfitting by introducing regularization"
   ]
  },
  {
   "cell_type": "markdown",
   "id": "6bf51105-68a2-49b0-a007-8d6281b2439f",
   "metadata": {},
   "source": [
    "# Q8"
   ]
  },
  {
   "cell_type": "markdown",
   "id": "4937e0f9-72cb-465a-bb52-7e8282451b61",
   "metadata": {},
   "source": [
    "# Regularized linear models, such as Ridge and Lasso regression, offer valuable advantages in preventing overfitting and improving generalization in certain scenarios. However, they are not always the best choice for regression analysis due to some limitations:\n",
    "\n",
    "# Loss of interpretability:\n",
    "Regularized linear models can make the interpretation of the coefficients more challenging. The penalty term introduces bias, shrinking some coefficients towards zero, which might obscure the direct relationship between predictors and the dependent variable. In certain applications where interpretability is essential for understanding the underlying relationships, regularized models might not be the best choice.\n",
    "\n",
    "# Model selection difficulty:\n",
    "The regularization parameter (alpha) in Ridge and Lasso needs to be tuned correctly. Selecting the appropriate value requires cross-validation and experimentation. If the dataset is small or contains noise, finding the optimal alpha value can be challenging, potentially leading to suboptimal model performance.\n",
    "\n",
    "# Data scaling sensitivity:\n",
    "Regularized models are sensitive to the scaling of the features. When the features have significantly different scales, the regularization term can disproportionately impact the coefficients. Properly scaling the data is necessary to ensure that all features are treated equally in the regularization process.\n",
    "\n",
    "# Sparsity limitations:\n",
    "While Lasso can enforce sparsity and perform feature selection, it is not always ideal for problems with a large number of features or when domain knowledge suggests that all features are relevant. In such cases, Ridge or unregularized linear regression might be a better choice.\n",
    "\n",
    "# Non-linear relationships: \n",
    "Regularized linear models are limited to capturing linear relationships between predictors and the dependent variable. In cases where the underlying relationship is non-linear, other regression techniques, such as polynomial regression or non-linear models, may be more suitable.\n",
    "\n",
    "# Outliers impact:\n",
    "Regularized models can be sensitive to outliers, especially in Lasso, where outliers may disproportionately influence the model's feature selection process."
   ]
  },
  {
   "cell_type": "markdown",
   "id": "e1e961c3-e1ca-40a9-ae5d-f4e4786778bb",
   "metadata": {},
   "source": [
    "# Q9"
   ]
  },
  {
   "cell_type": "markdown",
   "id": "609a6c4d-6be2-4868-81a6-2673689ca97e",
   "metadata": {},
   "source": [
    "# To determine which model is the better performer, we need to consider the evaluation metrics and their implications.\n",
    "\n",
    "# Model A with RMSE of 10: \n",
    "Root Mean Squared Error (RMSE) measures the average magnitude of the prediction errors, and a lower RMSE indicates better performance. In this case, an RMSE of 10 means that, on average, the predictions deviate from the actual values by approximately 10 units.\n",
    "\n",
    "# Model B with MAE of 8:\n",
    "Mean Absolute Error (MAE) also measures the average magnitude of the prediction errors but without squaring the errors. Like RMSE, a lower MAE indicates better performance. Here, an MAE of 8 means that, on average, the predictions deviate from the actual values by approximately 8 units.\n",
    "\n",
    "# Based on the evaluation metrics, Model B with an MAE of 8 is the better performer compared to Model A with an RMSE of 10. The lower MAE suggests that, on average, the predictions of Model B have less deviation from the actual values than Model A's predictions.\n",
    "\n",
    "# Limitations:\n",
    "\n",
    "# Sensitivity to outliers:\n",
    "MAE is less sensitive to outliers compared to RMSE since it doesn't square the errors. However, RMSE might penalize large outliers more heavily due to the squaring operation. Therefore, the choice of metric can be influenced by the presence of outliers in the dataset.\n",
    "\n",
    "# Impact of scaling: \n",
    "Both RMSE and MAE are sensitive to the scale of the dependent variable. If the dependent variable has a large range, the corresponding evaluation metric will also be on the same scale. Comparing models based on metrics with different scales might require additional consideration.\n",
    "\n",
    "# Context and application: \n",
    "The choice of evaluation metric should align with the specific context and application requirements. For example, if the application requires focusing on large errors, RMSE might be more suitable. On the other hand, if errors of all magnitudes are considered equally important, MAE might be preferred."
   ]
  },
  {
   "cell_type": "markdown",
   "id": "adddf0f4-2b3e-4101-b02b-23206d413da6",
   "metadata": {},
   "source": [
    "# Q10"
   ]
  },
  {
   "cell_type": "markdown",
   "id": "6299a295-bf27-4f08-938e-ce6fe8435457",
   "metadata": {},
   "source": [
    "# To determine which regularized linear model is the better performer, we need to consider the type of regularization and the regularization parameter used.\n",
    "\n",
    "# Model A with Ridge regularization (L2 regularization) and a regularization parameter of 0.1:\n",
    "Ridge regularization adds a penalty term based on the sum of squared coefficients to the cost function. The regularization parameter (alpha) controls the strength of the regularization. In this case, a smaller value of 0.1 indicates relatively mild regularization.\n",
    "\n",
    "# Model B with Lasso regularization (L1 regularization) and a regularization parameter of 0.5: \n",
    "Lasso regularization adds a penalty term based on the absolute values of the coefficients to the cost function. The regularization parameter (alpha) controls the strength of the regularization. Here, a value of 0.5 indicates relatively stronger regularization.\n",
    "\n",
    "# Comparing the two models:\n",
    "\n",
    "# Model A (Ridge) with a smaller regularization parameter (0.1) applies a milder regularization effect. It tends to shrink the coefficients towards zero without eliminating any coefficients entirely. This means Model A can retain more features in the model and is less likely to perform feature selection, keeping all predictors to some extent.\n",
    "\n",
    "# Model B (Lasso) with a larger regularization parameter (0.5) applies a stronger regularization effect. It can aggressively shrink some coefficients to exactly zero, effectively performing feature selection and excluding certain features from the model. Model B results in a sparser model with fewer predictors, focusing only on the most important ones.\n",
    "\n",
    "# Choice of the better model and limitations:\n",
    "\n",
    "The choice of the better model depends on the specific goals and requirements of the problem:\n",
    "\n",
    "# Model A (Ridge) might be preferred when the dataset contains many potentially relevant predictors, and we want to retain all predictors to some degree. Ridge regularization is useful when we expect that most predictors contribute to the dependent variable and wish to avoid excluding any features entirely.\n",
    "\n",
    "# Model B (Lasso) might be preferred when we suspect that many predictors are irrelevant, and we want a simpler and more interpretable model. Lasso regularization can perform feature selection by setting some coefficients to zero, effectively reducing the model's complexity and improving interpretability.\n",
    "\n",
    "# Trade-offs and limitations of regularization methods:\n",
    "\n",
    "# Ridge regularization tends to work better when multicollinearity (high correlation between predictors) is present. It can handle situations where multiple predictors are highly correlated by redistributing the impact among them.\n",
    "\n",
    "# Lasso regularization is more suitable when feature selection is crucial. However, Lasso might face challenges when dealing with highly correlated predictors since it can arbitrarily select one of the correlated features and exclude the others.\n",
    "\n",
    "# Both regularization methods require tuning the regularization parameter (alpha) correctly. Selecting the appropriate value of alpha involves cross-validation and experimentation to find the optimal balance between regularization strength and model performance."
   ]
  },
  {
   "cell_type": "code",
   "execution_count": null,
   "id": "6db563a5-64bf-46b1-99fa-d29ae3828350",
   "metadata": {},
   "outputs": [],
   "source": []
  }
 ],
 "metadata": {
  "kernelspec": {
   "display_name": "Python 3 (ipykernel)",
   "language": "python",
   "name": "python3"
  },
  "language_info": {
   "codemirror_mode": {
    "name": "ipython",
    "version": 3
   },
   "file_extension": ".py",
   "mimetype": "text/x-python",
   "name": "python",
   "nbconvert_exporter": "python",
   "pygments_lexer": "ipython3",
   "version": "3.10.8"
  }
 },
 "nbformat": 4,
 "nbformat_minor": 5
}
