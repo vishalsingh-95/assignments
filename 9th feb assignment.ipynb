{
 "cells": [
  {
   "cell_type": "markdown",
   "id": "69b8c3f3-eac6-4db3-8636-0623ab9b1240",
   "metadata": {},
   "source": [
    "# Q1"
   ]
  },
  {
   "cell_type": "code",
   "execution_count": 1,
   "id": "9f2ed389-e8da-42b4-8892-ef762173d6b6",
   "metadata": {},
   "outputs": [],
   "source": [
    "class vehicle:\n",
    "    def __init__(self,name_of_vehicle,max_speed,average_of_vehicle):\n",
    "        self.name_of_vehicle=name_of_vehicle\n",
    "        self.max_speed=max_speed\n",
    "        self.average_of_vehicle=average_of_vehicle\n"
   ]
  },
  {
   "cell_type": "markdown",
   "id": "a0663ad6-cd95-47ba-8181-4260fd84eb9b",
   "metadata": {},
   "source": [
    "# Q2"
   ]
  },
  {
   "cell_type": "code",
   "execution_count": 13,
   "id": "b2f0724e-4e02-4b8d-845d-f261cf2d9121",
   "metadata": {},
   "outputs": [],
   "source": [
    "class car(vehicle):\n",
    "    def seating_capacity(self,capacity):\n",
    "        print(\"the seating capacity of vehicle is %d and the name of the vehicle is '%s'\" %(capacity,self.name_of_vehicle))"
   ]
  },
  {
   "cell_type": "code",
   "execution_count": 14,
   "id": "6e2d3f51-8c33-4d48-8d08-e1c7aed620fb",
   "metadata": {},
   "outputs": [],
   "source": [
    "obj=car(\"ford ecosport\",180,20)"
   ]
  },
  {
   "cell_type": "code",
   "execution_count": 15,
   "id": "3747e48e-9bd7-4039-8185-424b4b31a388",
   "metadata": {},
   "outputs": [
    {
     "name": "stdout",
     "output_type": "stream",
     "text": [
      "the seating capacity of vehicle is 5 and the name of the vehicle is 'ford ecosport'\n"
     ]
    }
   ],
   "source": [
    "obj.seating_capacity(5)"
   ]
  },
  {
   "cell_type": "markdown",
   "id": "2fc89e36-0376-4219-9faa-ee6420312328",
   "metadata": {},
   "source": [
    "# Q3"
   ]
  },
  {
   "cell_type": "markdown",
   "id": "d4df67a0-a1aa-46d1-97f4-a052a31ec620",
   "metadata": {},
   "source": [
    "# multiple inheritance is the concept in which a child class can inherit more than 1 parent classes, for example:-"
   ]
  },
  {
   "cell_type": "code",
   "execution_count": 16,
   "id": "03129b07-ad98-405b-a0ee-86e448633f78",
   "metadata": {},
   "outputs": [
    {
     "data": {
      "text/plain": [
       "'this is class5'"
      ]
     },
     "execution_count": 16,
     "metadata": {},
     "output_type": "execute_result"
    }
   ],
   "source": [
    "# Multiple inheritance\n",
    "class class4:\n",
    "    def meth4(self):\n",
    "        return \"this is class4\"\n",
    "class class5:\n",
    "    def meth5(self):\n",
    "        return \"this is class5\"\n",
    "class class6(class4,class5):\n",
    "    pass\n",
    "obj1=class6()\n",
    "obj1.meth5()\n"
   ]
  },
  {
   "cell_type": "code",
   "execution_count": 17,
   "id": "104a6ab9-cf54-43d1-9f89-e57bb3fbf1cc",
   "metadata": {},
   "outputs": [
    {
     "data": {
      "text/plain": [
       "'this is class4'"
      ]
     },
     "execution_count": 17,
     "metadata": {},
     "output_type": "execute_result"
    }
   ],
   "source": [
    "obj1.meth4()"
   ]
  },
  {
   "cell_type": "markdown",
   "id": "0b5d4b8e-68e7-4fa5-ab3c-845ac32e24d1",
   "metadata": {},
   "source": [
    "# Q4"
   ]
  },
  {
   "cell_type": "markdown",
   "id": "944cbf8a-363e-43e6-b108-bf8424a514fb",
   "metadata": {},
   "source": [
    "# getters and setters are methods used to control the access to an object's attributes. Getters are used to retrieve the value of an attribute while setters are used to set or modify the value of an attribute."
   ]
  },
  {
   "cell_type": "code",
   "execution_count": 24,
   "id": "5c294586-dbe7-4da9-8f52-cc735bfd58da",
   "metadata": {},
   "outputs": [
    {
     "name": "stdout",
     "output_type": "stream",
     "text": [
      "Vishal\n",
      "Antara\n",
      "27\n",
      "28\n"
     ]
    }
   ],
   "source": [
    "class Person:\n",
    "    def __init__(self, name, age):\n",
    "        self._name = name\n",
    "        self._age = age\n",
    "    \n",
    "    def get_name(self):\n",
    "        return self._name\n",
    "    \n",
    "    def set_name(self, name):\n",
    "        self._name = name\n",
    "        \n",
    "    def get_age(self):\n",
    "        return self._age\n",
    "    \n",
    "    def set_age(self, age):\n",
    "        if age < 0:\n",
    "            raise ValueError(\"Age cannot be negative\")\n",
    "        self._age = age\n",
    "        \n",
    "person = Person(\"Vishal\", 27)\n",
    "print(person.get_name()) \n",
    "person.set_name(\"Antara\")\n",
    "print(person.get_name()) \n",
    "\n",
    "print(person.get_age())  \n",
    "person.set_age(28)\n",
    "print(person.get_age())   "
   ]
  },
  {
   "cell_type": "markdown",
   "id": "c6df4730-a4e5-4ff6-bb71-057a6ad5f4d6",
   "metadata": {},
   "source": [
    "# Here we have a Person class with name and age attributes. The get_name() and set_name() methods are getters and setters for the name attribute, respectively. The get_age() and set_age() methods are getters and setters for the age attribute, respectively.\n"
   ]
  },
  {
   "cell_type": "markdown",
   "id": "66504c6c-d064-4759-b749-a93f98dd8aeb",
   "metadata": {},
   "source": [
    "# Q5"
   ]
  },
  {
   "cell_type": "markdown",
   "id": "0acdb1a9-c67b-4cd2-aa7d-0e5d472156e9",
   "metadata": {},
   "source": [
    "# Method overriding is a provision where a subclass provides its own implementation of a method that is already defined in its superclass, with the same name and signature. When the method is called on an instance of the subclass, the overridden implementation in the subclass is executed instead of the implementation in the superclass."
   ]
  },
  {
   "cell_type": "code",
   "execution_count": 25,
   "id": "beb2ca4d-e97f-4d4b-862d-cf2652d5421c",
   "metadata": {},
   "outputs": [
    {
     "name": "stdout",
     "output_type": "stream",
     "text": [
      "The animal makes a sound.\n",
      "The dog barks.\n",
      "The cat meows.\n"
     ]
    }
   ],
   "source": [
    "class Animal:\n",
    "    def make_sound(self):\n",
    "        print(\"The animal makes a sound.\")\n",
    "        \n",
    "class Dog(Animal):\n",
    "    def make_sound(self):\n",
    "        print(\"The dog barks.\")\n",
    "        \n",
    "class Cat(Animal):\n",
    "    def make_sound(self):\n",
    "        print(\"The cat meows.\")\n",
    "        \n",
    "a = Animal()\n",
    "d = Dog()\n",
    "c = Cat()\n",
    "\n",
    "a.make_sound()\n",
    "d.make_sound()\n",
    "c.make_sound()\n"
   ]
  },
  {
   "cell_type": "code",
   "execution_count": null,
   "id": "d3f116d8-307f-45a8-b93b-e3189e8f8450",
   "metadata": {},
   "outputs": [],
   "source": []
  }
 ],
 "metadata": {
  "kernelspec": {
   "display_name": "Python 3 (ipykernel)",
   "language": "python",
   "name": "python3"
  },
  "language_info": {
   "codemirror_mode": {
    "name": "ipython",
    "version": 3
   },
   "file_extension": ".py",
   "mimetype": "text/x-python",
   "name": "python",
   "nbconvert_exporter": "python",
   "pygments_lexer": "ipython3",
   "version": "3.10.8"
  }
 },
 "nbformat": 4,
 "nbformat_minor": 5
}
