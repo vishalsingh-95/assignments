{
 "cells": [
  {
   "cell_type": "markdown",
   "id": "2feb77e9-7be3-442f-9057-fdf3e27066d9",
   "metadata": {},
   "source": [
    "# Q1"
   ]
  },
  {
   "cell_type": "markdown",
   "id": "acd41894-1c86-4a2e-ae79-c1a75b76596a",
   "metadata": {},
   "source": [
    "# The probability density function describes the probability distribution of a continuous random variable. The PDF is a function that assigns probabilities to different intervals of values of the random variable."
   ]
  },
  {
   "cell_type": "markdown",
   "id": "b15de88c-d7f0-4de2-8503-76faeda04576",
   "metadata": {},
   "source": [
    "# Q2"
   ]
  },
  {
   "cell_type": "markdown",
   "id": "7e8013db-e0c6-432a-af3a-9a0920c8572d",
   "metadata": {},
   "source": [
    "# The types of probability distribution are:-\n",
    "# 1) Normal/ Gaussian distribution\n",
    "# 2) Bernoulli's distribution\n",
    "# 3) Uniform distribution\n",
    "# 4) Poisson's distribution\n",
    "# 5) Log normal distribution\n",
    "# 6) Binomial distribution"
   ]
  },
  {
   "cell_type": "markdown",
   "id": "79d1a60f-fff3-4b5e-883e-ccb769bb2d08",
   "metadata": {},
   "source": [
    "# Q3"
   ]
  },
  {
   "cell_type": "code",
   "execution_count": 1,
   "id": "9f7ca989-a10f-4430-8ade-34988e89b5b0",
   "metadata": {},
   "outputs": [],
   "source": [
    "from scipy.stats import norm\n",
    "def calculate_pdf(mean,std_dev,point):\n",
    "    pdf=norm.pdf(point, loc=mean, scale=std_dev)\n",
    "    return pdf\n"
   ]
  },
  {
   "cell_type": "code",
   "execution_count": 2,
   "id": "49794cf8-41ca-41ee-a146-db2e7f24543f",
   "metadata": {},
   "outputs": [
    {
     "name": "stdout",
     "output_type": "stream",
     "text": [
      "PDF at point 1.5 : 0.12951759566589174\n"
     ]
    }
   ],
   "source": [
    "mean = 0\n",
    "std_dev = 1\n",
    "point = 1.5\n",
    "pdf = calculate_pdf(mean, std_dev, point)\n",
    "print(\"PDF at point\", point, \":\", pdf)"
   ]
  },
  {
   "cell_type": "markdown",
   "id": "7f131d24-0310-4822-a29f-7e7ef71898b3",
   "metadata": {},
   "source": [
    "# Q4"
   ]
  },
  {
   "cell_type": "markdown",
   "id": "d3b09c94-6fcb-4e8c-b390-c67ea7622b68",
   "metadata": {},
   "source": [
    "# Properties of binomial distribution is that there is an independent event with probability of success as p and that experiment is repeated n times and the distribution type is discrete random variable."
   ]
  },
  {
   "cell_type": "markdown",
   "id": "10d84bf4-87ca-4400-8483-119b2a195422",
   "metadata": {},
   "source": [
    "# Examples of events where the binomial distribution can be applied include:\n",
    "\n",
    "# 1) Tossing a coin: \n",
    "The outcome of flipping a fair coin can be modeled using a binomial distribution. Each coin flip is an independent trial with two possible outcomes (success = heads, failure = tails), and the probability of success (getting heads) is constant at 0.5.\n",
    "\n",
    "# 2) Exam pass rates: \n",
    "The number of students passing an exam out of a fixed number of students can be modeled using a binomial distribution. Each student's outcome (pass or fail) is independent of others, and the probability of success (passing the exam) remains constant for all students.\n",
    "\n"
   ]
  },
  {
   "cell_type": "markdown",
   "id": "98acb9e2-1698-4fb9-8939-5388ae544400",
   "metadata": {},
   "source": [
    "# Q5"
   ]
  },
  {
   "cell_type": "code",
   "execution_count": 3,
   "id": "e790b9d6-fa2c-4df7-954f-a8bd4e1959a2",
   "metadata": {},
   "outputs": [],
   "source": [
    "import numpy as np\n",
    "import matplotlib.pyplot as plt"
   ]
  },
  {
   "cell_type": "code",
   "execution_count": 11,
   "id": "cf12bacb-f25a-427f-8d37-1525653bf630",
   "metadata": {},
   "outputs": [
    {
     "data": {
      "image/png": "[encoded data removed]",
      "text/plain": [
       "<Figure size 640x480 with 1 Axes>"
      ]
     },
     "metadata": {},
     "output_type": "display_data"
    }
   ],
   "source": [
    "sample=np.random.binomial(1000,0.4,size=1000)\n",
    "plt.hist(sample,bins=20)\n",
    "plt.xlabel(\"Number of success\")\n",
    "plt.ylabel(\"frequency\")\n",
    "plt.title(\"histogram plot of binomial distribution\")\n",
    "plt.show()"
   ]
  },
  {
   "cell_type": "markdown",
   "id": "051e4817-8311-4209-bcaa-cc4d2a84289a",
   "metadata": {},
   "source": [
    "# Q6"
   ]
  },
  {
   "cell_type": "code",
   "execution_count": 13,
   "id": "c0a29636-6587-476e-8da0-e6fdc94bae27",
   "metadata": {},
   "outputs": [],
   "source": [
    "from scipy.stats import poisson"
   ]
  },
  {
   "cell_type": "code",
   "execution_count": 14,
   "id": "a1f9f404-f2ae-46a8-9205-08ae48620430",
   "metadata": {},
   "outputs": [],
   "source": [
    "def calculate_cdf(mean,point):\n",
    "    cdf=poisson.cdf(point,mu=mean)\n",
    "    return cdf"
   ]
  },
  {
   "cell_type": "code",
   "execution_count": 15,
   "id": "59fdff40-27e5-4c3a-a779-8bb4db95d88d",
   "metadata": {},
   "outputs": [
    {
     "name": "stdout",
     "output_type": "stream",
     "text": [
      "CDF at point 4 : 0.8911780189141513\n"
     ]
    }
   ],
   "source": [
    "mean = 2.5\n",
    "point = 4\n",
    "cdf = calculate_cdf(mean, point)\n",
    "print(\"CDF at point\", point, \":\", cdf)"
   ]
  },
  {
   "cell_type": "markdown",
   "id": "4da86cc9-d668-4fb4-a5ce-04aef5a32842",
   "metadata": {},
   "source": [
    "# Q7"
   ]
  },
  {
   "cell_type": "markdown",
   "id": "58c806f8-5d91-4cdd-a80c-ad1774a1ea8d",
   "metadata": {},
   "source": [
    "# The Binomial distribution and Poisson distribution are both probability distributions used to model the number of successes in a series of trials. The Binomial distribution is used when the trials are independent and have a fixed number of trials (n), with a constant probability of success (p) for each trial. It is a discrete distribution, meaning it deals with a specific count of successes. On the other hand, the Poisson distribution is employed when the trials are independent, but the focus is on the average rate (λ) of events occurring over a continuous interval or space. It does not explicitly consider a probability of success. The Poisson distribution is also discrete and can be used to approximate the Binomial distribution under certain conditions, such as when the number of trials is large and the probability of success is small. Understanding the nature of the trials, the probability of success, the number of trials, and the shape of the distribution helps determine which distribution is appropriate for a given scenario."
   ]
  },
  {
   "cell_type": "markdown",
   "id": "2e486856-55f2-44bf-a5c5-e9d00b6eda7e",
   "metadata": {},
   "source": [
    "# Q8"
   ]
  },
  {
   "cell_type": "code",
   "execution_count": 16,
   "id": "a230bd4c-32a3-4cf6-ad8d-5e46fde18a0b",
   "metadata": {},
   "outputs": [],
   "source": [
    "sample1=np.random.poisson(5,1000)"
   ]
  },
  {
   "cell_type": "code",
   "execution_count": 18,
   "id": "b3189a76-35b6-4642-9e34-91eb24b9ac14",
   "metadata": {},
   "outputs": [],
   "source": [
    "sample_mean=np.mean(sample1)\n",
    "sample_variance=np.var(sample1)"
   ]
  },
  {
   "cell_type": "code",
   "execution_count": 20,
   "id": "38744d42-8c09-442c-8fdd-dcd09f1e2f62",
   "metadata": {},
   "outputs": [
    {
     "name": "stdout",
     "output_type": "stream",
     "text": [
      "sample mean and variance are: 4.971 4.746159\n"
     ]
    }
   ],
   "source": [
    "print(\"sample mean and variance are:\",sample_mean,sample_variance)"
   ]
  },
  {
   "cell_type": "markdown",
   "id": "93e42b23-0512-4d72-9510-a9713ceed5f9",
   "metadata": {},
   "source": [
    "# Q9"
   ]
  },
  {
   "cell_type": "markdown",
   "id": "f2b79e3e-9eae-4784-ba4b-6a1ba4952390",
   "metadata": {},
   "source": [
    "# In both the Binomial and Poisson distributions, the mean and variance are closely related, but the exact relationship differs between the two distributions.\n",
    "\n",
    "# For the Binomial distribution:\n",
    "\n",
    "# Mean:\n",
    "The mean of a Binomial distribution is given by the product of the number of trials (n) and the probability of success (p), i.e., mean = n * p.\n",
    "\n",
    "# Variance: \n",
    "The variance of a Binomial distribution is given by the product of the number of trials (n), the probability of success (p), and the probability of failure (q = 1 - p), i.e., variance = n * p * q.\n",
    "\n",
    "# Therefore, in the Binomial distribution, the variance is a function of both the number of trials and the probability of success. As the number of trials increases or the probability of success increases, the variance also increases.\n",
    "\n",
    "# For the Poisson distribution:\n",
    "\n",
    "# Mean: \n",
    "The mean of a Poisson distribution is equal to its parameter, often denoted by λ (lambda). Therefore, mean = λ.\n",
    "\n",
    "# Variance: \n",
    "The variance of a Poisson distribution is also equal to its parameter, i.e., variance = λ.\n",
    "\n",
    "# In the Poisson distribution, both the mean and variance are equal and solely determined by the parameter λ. This property arises due to the specific nature of the Poisson distribution, where the variance is equal to the mean."
   ]
  },
  {
   "cell_type": "markdown",
   "id": "042bbc2e-fae5-472e-bf08-b291a7ad6740",
   "metadata": {},
   "source": [
    "# Q10"
   ]
  },
  {
   "cell_type": "markdown",
   "id": "05620dd5-c7b7-4cc8-b17a-807215a3e4fe",
   "metadata": {},
   "source": [
    "# In a normal distribution, the least frequent data points occur in the tails of the distribution, farthest away from the mean. The normal distribution is symmetric, with the highest frequency of data points concentrated around the mean, and the frequency gradually decreasing as we move away from the mean towards the tails.\n",
    "\n",
    "# Specifically, the least frequent data points are found in the extreme tails of the distribution, in the regions that are farthest away from the mean. These data points are considered to be outliers or extreme values in relation to the central tendency of the distribution."
   ]
  },
  {
   "cell_type": "code",
   "execution_count": null,
   "id": "0ffa28df-000d-4720-8ada-3c7e1a322749",
   "metadata": {},
   "outputs": [],
   "source": []
  }
 ],
 "metadata": {
  "kernelspec": {
   "display_name": "Python 3 (ipykernel)",
   "language": "python",
   "name": "python3"
  },
  "language_info": {
   "codemirror_mode": {
    "name": "ipython",
    "version": 3
   },
   "file_extension": ".py",
   "mimetype": "text/x-python",
   "name": "python",
   "nbconvert_exporter": "python",
   "pygments_lexer": "ipython3",
   "version": "3.10.8"
  }
 },
 "nbformat": 4,
 "nbformat_minor": 5
}
