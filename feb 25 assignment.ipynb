{
 "cells": [
  {
   "cell_type": "markdown",
   "id": "47f0b4d9-7ab5-4e3e-a930-24cf563a93d7",
   "metadata": {},
   "source": [
    "# Q1"
   ]
  },
  {
   "cell_type": "code",
   "execution_count": 3,
   "id": "d39680d4-87a4-42d3-9173-f3b0efd50615",
   "metadata": {},
   "outputs": [],
   "source": [
    "import pandas as pd\n",
    "\n",
    "course_name = ['Data Science', 'Machine Learning', 'Big Data', 'Data Engineer']\n",
    "\n",
    "duration =[2,3,6,4]\n",
    "\n",
    "df = pd.DataFrame(data = {'course_name' : course_name, 'duration' : duration})"
   ]
  },
  {
   "cell_type": "code",
   "execution_count": 16,
   "id": "81e1faea-9dbc-4cf0-8c2c-786e35dc814c",
   "metadata": {},
   "outputs": [
    {
     "data": {
      "text/html": [
       "<div>\n",
       "<style scoped>\n",
       "    .dataframe tbody tr th:only-of-type {\n",
       "        vertical-align: middle;\n",
       "    }\n",
       "\n",
       "    .dataframe tbody tr th {\n",
       "        vertical-align: top;\n",
       "    }\n",
       "\n",
       "    .dataframe thead th {\n",
       "        text-align: right;\n",
       "    }\n",
       "</style>\n",
       "<table border=\"1\" class=\"dataframe\">\n",
       "  <thead>\n",
       "    <tr style=\"text-align: right;\">\n",
       "      <th></th>\n",
       "      <th>course_name</th>\n",
       "      <th>duration</th>\n",
       "    </tr>\n",
       "  </thead>\n",
       "  <tbody>\n",
       "    <tr>\n",
       "      <th>0</th>\n",
       "      <td>Data Science</td>\n",
       "      <td>2</td>\n",
       "    </tr>\n",
       "    <tr>\n",
       "      <th>1</th>\n",
       "      <td>Machine Learning</td>\n",
       "      <td>3</td>\n",
       "    </tr>\n",
       "    <tr>\n",
       "      <th>2</th>\n",
       "      <td>Big Data</td>\n",
       "      <td>6</td>\n",
       "    </tr>\n",
       "    <tr>\n",
       "      <th>3</th>\n",
       "      <td>Data Engineer</td>\n",
       "      <td>4</td>\n",
       "    </tr>\n",
       "  </tbody>\n",
       "</table>\n",
       "</div>"
      ],
      "text/plain": [
       "        course_name  duration\n",
       "0      Data Science         2\n",
       "1  Machine Learning         3\n",
       "2          Big Data         6\n",
       "3     Data Engineer         4"
      ]
     },
     "execution_count": 16,
     "metadata": {},
     "output_type": "execute_result"
    }
   ],
   "source": [
    "df"
   ]
  },
  {
   "cell_type": "code",
   "execution_count": 20,
   "id": "9d790584-9c6f-4ef0-8e15-049ec04444fa",
   "metadata": {},
   "outputs": [
    {
     "data": {
      "text/html": [
       "<div>\n",
       "<style scoped>\n",
       "    .dataframe tbody tr th:only-of-type {\n",
       "        vertical-align: middle;\n",
       "    }\n",
       "\n",
       "    .dataframe tbody tr th {\n",
       "        vertical-align: top;\n",
       "    }\n",
       "\n",
       "    .dataframe thead th {\n",
       "        text-align: right;\n",
       "    }\n",
       "</style>\n",
       "<table border=\"1\" class=\"dataframe\">\n",
       "  <thead>\n",
       "    <tr style=\"text-align: right;\">\n",
       "      <th></th>\n",
       "      <th>course_name</th>\n",
       "      <th>duration</th>\n",
       "    </tr>\n",
       "  </thead>\n",
       "  <tbody>\n",
       "    <tr>\n",
       "      <th>1</th>\n",
       "      <td>Machine Learning</td>\n",
       "      <td>3</td>\n",
       "    </tr>\n",
       "  </tbody>\n",
       "</table>\n",
       "</div>"
      ],
      "text/plain": [
       "        course_name  duration\n",
       "1  Machine Learning         3"
      ]
     },
     "execution_count": 20,
     "metadata": {},
     "output_type": "execute_result"
    }
   ],
   "source": [
    "df.loc[[1]]"
   ]
  },
  {
   "cell_type": "markdown",
   "id": "97e3d41d-80b1-4e3b-a0b7-c7f9dc455c38",
   "metadata": {},
   "source": [
    "# Q2"
   ]
  },
  {
   "cell_type": "markdown",
   "id": "2c94fd3d-2916-48f3-ada6-4848da8096f5",
   "metadata": {},
   "source": [
    "# In pandas loc() and iloc() are function used for indexing the dataframe. Their main difference lies in the way of indexing and selection of data.\n",
    "\n",
    "# loc():\n",
    "The loc function is primarily label-based. It is used to access data by using the labels of rows or columns.  \n",
    "The syntax for using loc is df.loc[row_label, column_label]  \n",
    "loc is inclusive of both the start and stop indices when using slices\n",
    "\n",
    "# iloc():\n",
    "The iloc function is primarily integer-based. It is used to access data by using integer positions of rows or columns.  \n",
    "The syntax for using iloc is df.iloc[row_index, column_index]   \n",
    "For example, df.iloc[3, 5] retrieves the value at the fourth row and sixth column  \n",
    "iloc is exclusive of the stop index when using slices "
   ]
  },
  {
   "cell_type": "markdown",
   "id": "c3e0ff8b-3a9b-4004-b87c-f30cfb44550f",
   "metadata": {},
   "source": [
    "# Q3"
   ]
  },
  {
   "cell_type": "code",
   "execution_count": 31,
   "id": "8deca1ef-34f3-4659-aef2-88d79cb69925",
   "metadata": {},
   "outputs": [],
   "source": [
    "course_name = ['Data Science', 'Machine Learning', 'Big Data', 'Data Engineer']\n",
    "\n",
    "duration =[2,3,6,4]\n",
    "\n",
    "df = pd.DataFrame(data = {'course_name' : course_name, 'duration' : duration})\n",
    "reindex = [3,0,1,2]\n",
    "new_df=df.reindex(reindex)\n"
   ]
  },
  {
   "cell_type": "code",
   "execution_count": 26,
   "id": "0561e04c-0139-4f71-8390-646eb6d597d5",
   "metadata": {},
   "outputs": [
    {
     "data": {
      "text/html": [
       "<div>\n",
       "<style scoped>\n",
       "    .dataframe tbody tr th:only-of-type {\n",
       "        vertical-align: middle;\n",
       "    }\n",
       "\n",
       "    .dataframe tbody tr th {\n",
       "        vertical-align: top;\n",
       "    }\n",
       "\n",
       "    .dataframe thead th {\n",
       "        text-align: right;\n",
       "    }\n",
       "</style>\n",
       "<table border=\"1\" class=\"dataframe\">\n",
       "  <thead>\n",
       "    <tr style=\"text-align: right;\">\n",
       "      <th></th>\n",
       "      <th>course_name</th>\n",
       "      <th>duration</th>\n",
       "    </tr>\n",
       "  </thead>\n",
       "  <tbody>\n",
       "    <tr>\n",
       "      <th>0</th>\n",
       "      <td>Data Science</td>\n",
       "      <td>2</td>\n",
       "    </tr>\n",
       "    <tr>\n",
       "      <th>1</th>\n",
       "      <td>Machine Learning</td>\n",
       "      <td>3</td>\n",
       "    </tr>\n",
       "    <tr>\n",
       "      <th>2</th>\n",
       "      <td>Big Data</td>\n",
       "      <td>6</td>\n",
       "    </tr>\n",
       "    <tr>\n",
       "      <th>3</th>\n",
       "      <td>Data Engineer</td>\n",
       "      <td>4</td>\n",
       "    </tr>\n",
       "  </tbody>\n",
       "</table>\n",
       "</div>"
      ],
      "text/plain": [
       "        course_name  duration\n",
       "0      Data Science         2\n",
       "1  Machine Learning         3\n",
       "2          Big Data         6\n",
       "3     Data Engineer         4"
      ]
     },
     "execution_count": 26,
     "metadata": {},
     "output_type": "execute_result"
    }
   ],
   "source": [
    "df"
   ]
  },
  {
   "cell_type": "code",
   "execution_count": 27,
   "id": "1eb2813d-8224-4087-a6f6-78c2afe137a1",
   "metadata": {},
   "outputs": [
    {
     "data": {
      "text/html": [
       "<div>\n",
       "<style scoped>\n",
       "    .dataframe tbody tr th:only-of-type {\n",
       "        vertical-align: middle;\n",
       "    }\n",
       "\n",
       "    .dataframe tbody tr th {\n",
       "        vertical-align: top;\n",
       "    }\n",
       "\n",
       "    .dataframe thead th {\n",
       "        text-align: right;\n",
       "    }\n",
       "</style>\n",
       "<table border=\"1\" class=\"dataframe\">\n",
       "  <thead>\n",
       "    <tr style=\"text-align: right;\">\n",
       "      <th></th>\n",
       "      <th>course_name</th>\n",
       "      <th>duration</th>\n",
       "    </tr>\n",
       "  </thead>\n",
       "  <tbody>\n",
       "    <tr>\n",
       "      <th>3</th>\n",
       "      <td>Data Engineer</td>\n",
       "      <td>4</td>\n",
       "    </tr>\n",
       "    <tr>\n",
       "      <th>0</th>\n",
       "      <td>Data Science</td>\n",
       "      <td>2</td>\n",
       "    </tr>\n",
       "    <tr>\n",
       "      <th>1</th>\n",
       "      <td>Machine Learning</td>\n",
       "      <td>3</td>\n",
       "    </tr>\n",
       "    <tr>\n",
       "      <th>2</th>\n",
       "      <td>Big Data</td>\n",
       "      <td>6</td>\n",
       "    </tr>\n",
       "  </tbody>\n",
       "</table>\n",
       "</div>"
      ],
      "text/plain": [
       "        course_name  duration\n",
       "3     Data Engineer         4\n",
       "0      Data Science         2\n",
       "1  Machine Learning         3\n",
       "2          Big Data         6"
      ]
     },
     "execution_count": 27,
     "metadata": {},
     "output_type": "execute_result"
    }
   ],
   "source": [
    "new_df"
   ]
  },
  {
   "cell_type": "code",
   "execution_count": 24,
   "id": "74b50e8e-8e65-494d-9819-39f7d33cf869",
   "metadata": {},
   "outputs": [
    {
     "data": {
      "text/html": [
       "<div>\n",
       "<style scoped>\n",
       "    .dataframe tbody tr th:only-of-type {\n",
       "        vertical-align: middle;\n",
       "    }\n",
       "\n",
       "    .dataframe tbody tr th {\n",
       "        vertical-align: top;\n",
       "    }\n",
       "\n",
       "    .dataframe thead th {\n",
       "        text-align: right;\n",
       "    }\n",
       "</style>\n",
       "<table border=\"1\" class=\"dataframe\">\n",
       "  <thead>\n",
       "    <tr style=\"text-align: right;\">\n",
       "      <th></th>\n",
       "      <th>course_name</th>\n",
       "      <th>duration</th>\n",
       "    </tr>\n",
       "  </thead>\n",
       "  <tbody>\n",
       "    <tr>\n",
       "      <th>1</th>\n",
       "      <td>Machine Learning</td>\n",
       "      <td>3</td>\n",
       "    </tr>\n",
       "  </tbody>\n",
       "</table>\n",
       "</div>"
      ],
      "text/plain": [
       "        course_name  duration\n",
       "1  Machine Learning         3"
      ]
     },
     "execution_count": 24,
     "metadata": {},
     "output_type": "execute_result"
    }
   ],
   "source": [
    "new_df.loc[[1]]\n",
    "# here loc() function has selected the row with label name as '1'"
   ]
  },
  {
   "cell_type": "code",
   "execution_count": 30,
   "id": "a57469b5-fae9-489b-bd53-83fb3b5a7803",
   "metadata": {},
   "outputs": [
    {
     "data": {
      "text/html": [
       "<div>\n",
       "<style scoped>\n",
       "    .dataframe tbody tr th:only-of-type {\n",
       "        vertical-align: middle;\n",
       "    }\n",
       "\n",
       "    .dataframe tbody tr th {\n",
       "        vertical-align: top;\n",
       "    }\n",
       "\n",
       "    .dataframe thead th {\n",
       "        text-align: right;\n",
       "    }\n",
       "</style>\n",
       "<table border=\"1\" class=\"dataframe\">\n",
       "  <thead>\n",
       "    <tr style=\"text-align: right;\">\n",
       "      <th></th>\n",
       "      <th>course_name</th>\n",
       "      <th>duration</th>\n",
       "    </tr>\n",
       "  </thead>\n",
       "  <tbody>\n",
       "    <tr>\n",
       "      <th>0</th>\n",
       "      <td>Data Science</td>\n",
       "      <td>2</td>\n",
       "    </tr>\n",
       "  </tbody>\n",
       "</table>\n",
       "</div>"
      ],
      "text/plain": [
       "    course_name  duration\n",
       "0  Data Science         2"
      ]
     },
     "execution_count": 30,
     "metadata": {},
     "output_type": "execute_result"
    }
   ],
   "source": [
    "new_df.iloc[[1]]\n",
    "# here iloc() function has selected the row where the integer index is '1' that means it has selected the 2nd row of the new dataframe"
   ]
  },
  {
   "cell_type": "markdown",
   "id": "3c111443-6abd-4205-bfe0-e8e00a67a882",
   "metadata": {},
   "source": [
    "# Q4"
   ]
  },
  {
   "cell_type": "code",
   "execution_count": 46,
   "id": "a76a5a58-9dc0-4c6e-8066-770118830b35",
   "metadata": {},
   "outputs": [],
   "source": [
    "import pandas as pd\n",
    "\n",
    "import numpy as np\n",
    "\n",
    "columns = ['column_1', 'column_2', 'column_3', 'column_4', 'column_5', 'column_6']\n",
    "\n",
    "indices = [1,2,3,4,5,6]\n",
    "\n",
    "#Creating a dataframe:\n",
    "\n",
    "df1 = pd.DataFrame(np.random.rand(6,6), columns = columns, index = indices)"
   ]
  },
  {
   "cell_type": "code",
   "execution_count": 47,
   "id": "92711c02-f258-4c3a-b407-6ca9dd14b4aa",
   "metadata": {},
   "outputs": [
    {
     "data": {
      "text/html": [
       "<div>\n",
       "<style scoped>\n",
       "    .dataframe tbody tr th:only-of-type {\n",
       "        vertical-align: middle;\n",
       "    }\n",
       "\n",
       "    .dataframe tbody tr th {\n",
       "        vertical-align: top;\n",
       "    }\n",
       "\n",
       "    .dataframe thead th {\n",
       "        text-align: right;\n",
       "    }\n",
       "</style>\n",
       "<table border=\"1\" class=\"dataframe\">\n",
       "  <thead>\n",
       "    <tr style=\"text-align: right;\">\n",
       "      <th></th>\n",
       "      <th>column_1</th>\n",
       "      <th>column_2</th>\n",
       "      <th>column_3</th>\n",
       "      <th>column_4</th>\n",
       "      <th>column_5</th>\n",
       "      <th>column_6</th>\n",
       "    </tr>\n",
       "  </thead>\n",
       "  <tbody>\n",
       "    <tr>\n",
       "      <th>1</th>\n",
       "      <td>0.644505</td>\n",
       "      <td>0.254837</td>\n",
       "      <td>0.819440</td>\n",
       "      <td>0.561982</td>\n",
       "      <td>0.613350</td>\n",
       "      <td>0.483794</td>\n",
       "    </tr>\n",
       "    <tr>\n",
       "      <th>2</th>\n",
       "      <td>0.270401</td>\n",
       "      <td>0.216978</td>\n",
       "      <td>0.232335</td>\n",
       "      <td>0.866133</td>\n",
       "      <td>0.487186</td>\n",
       "      <td>0.667352</td>\n",
       "    </tr>\n",
       "    <tr>\n",
       "      <th>3</th>\n",
       "      <td>0.460784</td>\n",
       "      <td>0.236917</td>\n",
       "      <td>0.335654</td>\n",
       "      <td>0.029927</td>\n",
       "      <td>0.360967</td>\n",
       "      <td>0.901463</td>\n",
       "    </tr>\n",
       "    <tr>\n",
       "      <th>4</th>\n",
       "      <td>0.561983</td>\n",
       "      <td>0.764770</td>\n",
       "      <td>0.828001</td>\n",
       "      <td>0.758883</td>\n",
       "      <td>0.292338</td>\n",
       "      <td>0.859427</td>\n",
       "    </tr>\n",
       "    <tr>\n",
       "      <th>5</th>\n",
       "      <td>0.631867</td>\n",
       "      <td>0.434600</td>\n",
       "      <td>0.109189</td>\n",
       "      <td>0.466882</td>\n",
       "      <td>0.445637</td>\n",
       "      <td>0.647270</td>\n",
       "    </tr>\n",
       "    <tr>\n",
       "      <th>6</th>\n",
       "      <td>0.893825</td>\n",
       "      <td>0.956195</td>\n",
       "      <td>0.547354</td>\n",
       "      <td>0.411124</td>\n",
       "      <td>0.686123</td>\n",
       "      <td>0.579177</td>\n",
       "    </tr>\n",
       "  </tbody>\n",
       "</table>\n",
       "</div>"
      ],
      "text/plain": [
       "   column_1  column_2  column_3  column_4  column_5  column_6\n",
       "1  0.644505  0.254837  0.819440  0.561982  0.613350  0.483794\n",
       "2  0.270401  0.216978  0.232335  0.866133  0.487186  0.667352\n",
       "3  0.460784  0.236917  0.335654  0.029927  0.360967  0.901463\n",
       "4  0.561983  0.764770  0.828001  0.758883  0.292338  0.859427\n",
       "5  0.631867  0.434600  0.109189  0.466882  0.445637  0.647270\n",
       "6  0.893825  0.956195  0.547354  0.411124  0.686123  0.579177"
      ]
     },
     "execution_count": 47,
     "metadata": {},
     "output_type": "execute_result"
    }
   ],
   "source": [
    "df1"
   ]
  },
  {
   "cell_type": "code",
   "execution_count": 48,
   "id": "cdd13e49-3026-4bf9-bb0a-f62333ddd803",
   "metadata": {},
   "outputs": [
    {
     "data": {
      "text/plain": [
       "column_1    0.577228\n",
       "column_2    0.477383\n",
       "column_3    0.478662\n",
       "column_4    0.515822\n",
       "column_5    0.480934\n",
       "column_6    0.689747\n",
       "dtype: float64"
      ]
     },
     "execution_count": 48,
     "metadata": {},
     "output_type": "execute_result"
    }
   ],
   "source": [
    "df1[['column_1','column_2','column_3','column_4','column_5','column_6']].mean()"
   ]
  },
  {
   "cell_type": "code",
   "execution_count": 49,
   "id": "a5d7bfc9-073d-4993-be4d-9d9080888acd",
   "metadata": {},
   "outputs": [
    {
     "data": {
      "text/plain": [
       "column_2    0.31268\n",
       "dtype: float64"
      ]
     },
     "execution_count": 49,
     "metadata": {},
     "output_type": "execute_result"
    }
   ],
   "source": [
    "df1[['column_2']].std()"
   ]
  },
  {
   "cell_type": "markdown",
   "id": "db7adbc7-907a-42c6-ae00-4a7fb62cbd79",
   "metadata": {},
   "source": [
    "# Q5"
   ]
  },
  {
   "cell_type": "code",
   "execution_count": 50,
   "id": "bc379732-3278-4f46-bec8-8d79c3d03180",
   "metadata": {},
   "outputs": [],
   "source": [
    "df1.loc[[2],['column_2']]='Vishal'"
   ]
  },
  {
   "cell_type": "code",
   "execution_count": 51,
   "id": "1e3c645b-c0fd-4378-a132-3c1b333c3e44",
   "metadata": {},
   "outputs": [
    {
     "data": {
      "text/html": [
       "<div>\n",
       "<style scoped>\n",
       "    .dataframe tbody tr th:only-of-type {\n",
       "        vertical-align: middle;\n",
       "    }\n",
       "\n",
       "    .dataframe tbody tr th {\n",
       "        vertical-align: top;\n",
       "    }\n",
       "\n",
       "    .dataframe thead th {\n",
       "        text-align: right;\n",
       "    }\n",
       "</style>\n",
       "<table border=\"1\" class=\"dataframe\">\n",
       "  <thead>\n",
       "    <tr style=\"text-align: right;\">\n",
       "      <th></th>\n",
       "      <th>column_1</th>\n",
       "      <th>column_2</th>\n",
       "      <th>column_3</th>\n",
       "      <th>column_4</th>\n",
       "      <th>column_5</th>\n",
       "      <th>column_6</th>\n",
       "    </tr>\n",
       "  </thead>\n",
       "  <tbody>\n",
       "    <tr>\n",
       "      <th>1</th>\n",
       "      <td>0.644505</td>\n",
       "      <td>0.254837</td>\n",
       "      <td>0.819440</td>\n",
       "      <td>0.561982</td>\n",
       "      <td>0.613350</td>\n",
       "      <td>0.483794</td>\n",
       "    </tr>\n",
       "    <tr>\n",
       "      <th>2</th>\n",
       "      <td>0.270401</td>\n",
       "      <td>Vishal</td>\n",
       "      <td>0.232335</td>\n",
       "      <td>0.866133</td>\n",
       "      <td>0.487186</td>\n",
       "      <td>0.667352</td>\n",
       "    </tr>\n",
       "    <tr>\n",
       "      <th>3</th>\n",
       "      <td>0.460784</td>\n",
       "      <td>0.236917</td>\n",
       "      <td>0.335654</td>\n",
       "      <td>0.029927</td>\n",
       "      <td>0.360967</td>\n",
       "      <td>0.901463</td>\n",
       "    </tr>\n",
       "    <tr>\n",
       "      <th>4</th>\n",
       "      <td>0.561983</td>\n",
       "      <td>0.76477</td>\n",
       "      <td>0.828001</td>\n",
       "      <td>0.758883</td>\n",
       "      <td>0.292338</td>\n",
       "      <td>0.859427</td>\n",
       "    </tr>\n",
       "    <tr>\n",
       "      <th>5</th>\n",
       "      <td>0.631867</td>\n",
       "      <td>0.4346</td>\n",
       "      <td>0.109189</td>\n",
       "      <td>0.466882</td>\n",
       "      <td>0.445637</td>\n",
       "      <td>0.647270</td>\n",
       "    </tr>\n",
       "    <tr>\n",
       "      <th>6</th>\n",
       "      <td>0.893825</td>\n",
       "      <td>0.956195</td>\n",
       "      <td>0.547354</td>\n",
       "      <td>0.411124</td>\n",
       "      <td>0.686123</td>\n",
       "      <td>0.579177</td>\n",
       "    </tr>\n",
       "  </tbody>\n",
       "</table>\n",
       "</div>"
      ],
      "text/plain": [
       "   column_1  column_2  column_3  column_4  column_5  column_6\n",
       "1  0.644505  0.254837  0.819440  0.561982  0.613350  0.483794\n",
       "2  0.270401    Vishal  0.232335  0.866133  0.487186  0.667352\n",
       "3  0.460784  0.236917  0.335654  0.029927  0.360967  0.901463\n",
       "4  0.561983   0.76477  0.828001  0.758883  0.292338  0.859427\n",
       "5  0.631867    0.4346  0.109189  0.466882  0.445637  0.647270\n",
       "6  0.893825  0.956195  0.547354  0.411124  0.686123  0.579177"
      ]
     },
     "execution_count": 51,
     "metadata": {},
     "output_type": "execute_result"
    }
   ],
   "source": [
    "df1"
   ]
  },
  {
   "cell_type": "code",
   "execution_count": 56,
   "id": "371ff53c-1299-4958-8f88-3131fe3465ff",
   "metadata": {},
   "outputs": [
    {
     "name": "stderr",
     "output_type": "stream",
     "text": [
      "/tmp/ipykernel_231/509273087.py:1: FutureWarning: The default value of numeric_only in DataFrame.mean is deprecated. In a future version, it will default to False. In addition, specifying 'numeric_only=None' is deprecated. Select only valid columns or specify the value of numeric_only to silence this warning.\n",
      "  df1[['column_2']].mean()\n"
     ]
    },
    {
     "data": {
      "text/plain": [
       "Series([], dtype: float64)"
      ]
     },
     "execution_count": 56,
     "metadata": {},
     "output_type": "execute_result"
    }
   ],
   "source": [
    "df1[['column_2']].mean()"
   ]
  },
  {
   "cell_type": "markdown",
   "id": "77a9e3a6-f91a-4802-b678-7cd954f54869",
   "metadata": {},
   "source": [
    "# this will give error because mean() is a numeric function and it only takes integer or floating type data to process, it can not find the mean of a string."
   ]
  },
  {
   "cell_type": "markdown",
   "id": "6813f7c9-77f2-4071-9dcf-f6ecf10496d0",
   "metadata": {},
   "source": [
    "# Q6"
   ]
  },
  {
   "cell_type": "markdown",
   "id": "4a928fe9-ecff-436a-9f51-6ea9e66f95ce",
   "metadata": {},
   "source": [
    "# In Pandas, the window functions are used to perform calculations on a specific subset of data within a defined window or rolling window. These functions enable operations that depend on a specific range of values rather than the entire dataset. They are especially useful for time series analysis and data manipulation tasks.\n",
    "\n",
    "# The types of windowing functions available are:-\n",
    "# 1) Rolling Window Functions:\n",
    "Rolling window functions are used to perform calculations over a sliding window of a specified size.   \n",
    "The window \"rolls\" through the data, applying the function to each window.   \n",
    "Examples of rolling window functions include mean, sum, min, max, standard deviation,etc.\n",
    "Rolling window functions can be applied to both Series and DataFrames using the .rolling() method.\n",
    "\n",
    "# 2) Expanding Window Functions:\n",
    "Expanding window functions are used to compute cumulative statistics from the beginning of the data up to the current point.   \n",
    "These functions gradually include more and more data points as the window expands.   \n",
    "Examples of expanding window functions include cumulative sum, cumulative product, and cumulative count.  \n",
    "Expanding window functions can be applied to both Series and DataFrames using the .expanding() method.\n",
    "\n",
    "# 3) Exponentially Weighted Window Functions:\n",
    "Exponentially weighted window functions assign exponentially decreasing weights to the data points in the window.  \n",
    "They are particularly useful when recent data points are given more weight than older ones.  \n",
    "Examples of exponentially weighted window functions include exponentially weighted moving average and decay.  \n",
    "Exponentially weighted window functions can be applied to both Series and DataFrames using the .ewm() method."
   ]
  },
  {
   "cell_type": "markdown",
   "id": "2caf480c-a646-408b-b3cb-bfa3a52bbb46",
   "metadata": {},
   "source": [
    "# Q7"
   ]
  },
  {
   "cell_type": "code",
   "execution_count": 71,
   "id": "2929b6d6-c7ad-4b9a-b838-4948b2148b6e",
   "metadata": {},
   "outputs": [
    {
     "name": "stdout",
     "output_type": "stream",
     "text": [
      "Current Month: May\n",
      "Current Year: 2023\n"
     ]
    }
   ],
   "source": [
    "current_date = pd.Timestamp.now()\n",
    "current_month = current_date.month_name()\n",
    "current_year = current_date.year\n",
    "print(\"Current Month:\", current_month)\n",
    "print(\"Current Year:\", current_year)"
   ]
  },
  {
   "cell_type": "markdown",
   "id": "ba545487-b143-4732-b2b4-58be269ead45",
   "metadata": {},
   "source": [
    "# Q8"
   ]
  },
  {
   "cell_type": "code",
   "execution_count": 77,
   "id": "95f0a364-d1ac-4cea-9e4b-9702927e1d63",
   "metadata": {},
   "outputs": [
    {
     "name": "stdin",
     "output_type": "stream",
     "text": [
      "Enter 1st date in the format yyyy-mm-dd: 2023-05-04\n",
      "Enter 2nd date in the format yyyy-mm-dd: 2023-09-29\n"
     ]
    },
    {
     "name": "stdout",
     "output_type": "stream",
     "text": [
      "The difference between the two dates is 148 days, 0 hours, and 0 minutes.\n"
     ]
    }
   ],
   "source": [
    "d1=input(\"Enter 1st date in the format yyyy-mm-dd:\")\n",
    "d2=input(\"Enter 2nd date in the format yyyy-mm-dd:\")\n",
    "date1=pd.to_datetime(d1)\n",
    "date2=pd.to_datetime(d2)\n",
    "time_difference=date2-date1\n",
    "days = time_difference.days\n",
    "hours = time_difference.seconds // 3600\n",
    "minutes = (time_difference.seconds // 60) % 60\n",
    "print(f\"The difference between the two dates is {days} days, {hours} hours, and {minutes} minutes.\")"
   ]
  },
  {
   "cell_type": "markdown",
   "id": "d6b1ac49-8c6d-421f-8bb1-efc9eaf2c068",
   "metadata": {},
   "source": [
    "# Q9"
   ]
  },
  {
   "cell_type": "code",
   "execution_count": 79,
   "id": "79ecdff9-3aa3-414d-8b30-4a2bc944620d",
   "metadata": {},
   "outputs": [
    {
     "name": "stdin",
     "output_type": "stream",
     "text": [
      "Give the file path in csv format:  players.csv\n",
      "Enter the column name: Pos\n",
      "Enter the category order separated by commas:  C\n"
     ]
    },
    {
     "name": "stdout",
     "output_type": "stream",
     "text": [
      "      Rk          Player  Pos Age   Tm   G  GS    MP   FG  FGA  ...   FT%  \\\n",
      "2      3    Steven Adams    C  21  OKC  70  67  1771  217  399  ...  .502   \n",
      "451  348    Jusuf Nurkić    C  20  DEN  62  27  1103  171  383  ...  .636   \n",
      "446  345  Lucas Nogueira    C  22  TOR   6   0    23    2    8  ...  .500   \n",
      "445  344    Nerlens Noel    C  20  PHI  75  71  2311  302  653  ...  .609   \n",
      "444  343     Joakim Noah    C  29  CHI  67  67  2049  190  427  ...  .603   \n",
      "..   ...             ...  ...  ..  ...  ..  ..   ...  ...  ...  ...   ...   \n",
      "668  488     James Young  NaN  19  BOS  31   0   332   36  102  ...  .552   \n",
      "669  489      Nick Young  NaN  29  LAL  42   0  1000  174  476  ...  .892   \n",
      "670  490  Thaddeus Young  NaN  26  TOT  76  68  2434  451  968  ...  .655   \n",
      "671  490  Thaddeus Young  NaN  26  MIN  48  48  1605  289  641  ...  .682   \n",
      "672  490  Thaddeus Young  NaN  26  BRK  28  20   829  162  327  ...  .606   \n",
      "\n",
      "     ORB  DRB  TRB  AST  STL  BLK  TOV   PF   PTS  \n",
      "2    199  324  523   66   38   86   99  222   537  \n",
      "451  125  257  382   50   52   68   86  207   426  \n",
      "446    2    9   11    1    2    0    2    6     6  \n",
      "445  185  426  611  128  133  142  146  208   744  \n",
      "444  219  427  646  312   48   74  123  203   485  \n",
      "..   ...  ...  ...  ...  ...  ...  ...  ...   ...  \n",
      "668    9   33   42   13    8    2    5   22   105  \n",
      "669   17   79   96   41   23   11   44   83   563  \n",
      "670  127  284  411  173  124   25  117  171  1071  \n",
      "671   75  170  245  135   86   17   75  115   685  \n",
      "672   52  114  166   38   38    8   42   56   386  \n",
      "\n",
      "[675 rows x 30 columns]\n"
     ]
    }
   ],
   "source": [
    "file_path=input(\"Give the file path in csv format: \")\n",
    "df=pd.read_csv(file_path)\n",
    "column=input(\"Enter the column name:\")\n",
    "category= input(\"Enter the category order separated by commas: \")\n",
    "category = [x.strip() for x in category.split()]\n",
    "df[column] = pd.Categorical(df[column], categories=category, ordered=True)\n",
    "df_sorted = df.sort_values(column)\n",
    "print(df_sorted)"
   ]
  },
  {
   "cell_type": "markdown",
   "id": "8cca4fa0-6e19-4b14-bbd7-1adf73879a43",
   "metadata": {},
   "source": [
    "# Q10"
   ]
  },
  {
   "cell_type": "code",
   "execution_count": 95,
   "id": "13c1569a-f4ec-4833-bbae-24cb7bb1fc2c",
   "metadata": {},
   "outputs": [
    {
     "name": "stdin",
     "output_type": "stream",
     "text": [
      "Give the file path in csv format:  sales_data.csv\n"
     ]
    },
    {
     "data": {
      "text/plain": [
       "<AxesSubplot: xlabel='Date'>"
      ]
     },
     "execution_count": 95,
     "metadata": {},
     "output_type": "execute_result"
    },
    {
     "data": {
      "image/png": "[encoded data removed]",
      "text/plain": [
       "<Figure size 640x480 with 1 Axes>"
      ]
     },
     "metadata": {},
     "output_type": "display_data"
    }
   ],
   "source": [
    "file_path=input(\"Give the file path in csv format: \")\n",
    "df=pd.read_csv(file_path)\n",
    "df['Date'] = pd.to_datetime(df['Date'])\n",
    "group = df.groupby(['Category', 'Date'])['Sales'].sum().reset_index()\n",
    "pivot_data = group.pivot(index='Date', columns='Category', values='Sales')\n",
    "pivot_data.plot(kind='bar', stacked=True)"
   ]
  },
  {
   "cell_type": "code",
   "execution_count": 96,
   "id": "4b9ac992-0d2c-4a97-8514-1d623287db78",
   "metadata": {},
   "outputs": [
    {
     "data": {
      "text/html": [
       "<div>\n",
       "<style scoped>\n",
       "    .dataframe tbody tr th:only-of-type {\n",
       "        vertical-align: middle;\n",
       "    }\n",
       "\n",
       "    .dataframe tbody tr th {\n",
       "        vertical-align: top;\n",
       "    }\n",
       "\n",
       "    .dataframe thead th {\n",
       "        text-align: right;\n",
       "    }\n",
       "</style>\n",
       "<table border=\"1\" class=\"dataframe\">\n",
       "  <thead>\n",
       "    <tr style=\"text-align: right;\">\n",
       "      <th></th>\n",
       "      <th>Category</th>\n",
       "      <th>Date</th>\n",
       "      <th>Sales</th>\n",
       "    </tr>\n",
       "  </thead>\n",
       "  <tbody>\n",
       "    <tr>\n",
       "      <th>0</th>\n",
       "      <td>Category A</td>\n",
       "      <td>2023-01-01</td>\n",
       "      <td>100</td>\n",
       "    </tr>\n",
       "    <tr>\n",
       "      <th>1</th>\n",
       "      <td>Category A</td>\n",
       "      <td>2023-02-01</td>\n",
       "      <td>120</td>\n",
       "    </tr>\n",
       "    <tr>\n",
       "      <th>2</th>\n",
       "      <td>Category A</td>\n",
       "      <td>2023-03-01</td>\n",
       "      <td>150</td>\n",
       "    </tr>\n",
       "    <tr>\n",
       "      <th>3</th>\n",
       "      <td>Category B</td>\n",
       "      <td>2023-01-01</td>\n",
       "      <td>150</td>\n",
       "    </tr>\n",
       "    <tr>\n",
       "      <th>4</th>\n",
       "      <td>Category B</td>\n",
       "      <td>2023-02-01</td>\n",
       "      <td>180</td>\n",
       "    </tr>\n",
       "    <tr>\n",
       "      <th>5</th>\n",
       "      <td>Category B</td>\n",
       "      <td>2023-03-01</td>\n",
       "      <td>200</td>\n",
       "    </tr>\n",
       "    <tr>\n",
       "      <th>6</th>\n",
       "      <td>Category C</td>\n",
       "      <td>2023-01-01</td>\n",
       "      <td>200</td>\n",
       "    </tr>\n",
       "    <tr>\n",
       "      <th>7</th>\n",
       "      <td>Category C</td>\n",
       "      <td>2023-02-01</td>\n",
       "      <td>220</td>\n",
       "    </tr>\n",
       "    <tr>\n",
       "      <th>8</th>\n",
       "      <td>Category C</td>\n",
       "      <td>2023-03-01</td>\n",
       "      <td>250</td>\n",
       "    </tr>\n",
       "  </tbody>\n",
       "</table>\n",
       "</div>"
      ],
      "text/plain": [
       "     Category       Date  Sales\n",
       "0  Category A 2023-01-01    100\n",
       "1  Category A 2023-02-01    120\n",
       "2  Category A 2023-03-01    150\n",
       "3  Category B 2023-01-01    150\n",
       "4  Category B 2023-02-01    180\n",
       "5  Category B 2023-03-01    200\n",
       "6  Category C 2023-01-01    200\n",
       "7  Category C 2023-02-01    220\n",
       "8  Category C 2023-03-01    250"
      ]
     },
     "execution_count": 96,
     "metadata": {},
     "output_type": "execute_result"
    }
   ],
   "source": [
    "group"
   ]
  },
  {
   "cell_type": "code",
   "execution_count": 97,
   "id": "a494497c-1c17-42b5-8442-50f4078fcd84",
   "metadata": {},
   "outputs": [
    {
     "data": {
      "text/html": [
       "<div>\n",
       "<style scoped>\n",
       "    .dataframe tbody tr th:only-of-type {\n",
       "        vertical-align: middle;\n",
       "    }\n",
       "\n",
       "    .dataframe tbody tr th {\n",
       "        vertical-align: top;\n",
       "    }\n",
       "\n",
       "    .dataframe thead th {\n",
       "        text-align: right;\n",
       "    }\n",
       "</style>\n",
       "<table border=\"1\" class=\"dataframe\">\n",
       "  <thead>\n",
       "    <tr style=\"text-align: right;\">\n",
       "      <th>Category</th>\n",
       "      <th>Category A</th>\n",
       "      <th>Category B</th>\n",
       "      <th>Category C</th>\n",
       "    </tr>\n",
       "    <tr>\n",
       "      <th>Date</th>\n",
       "      <th></th>\n",
       "      <th></th>\n",
       "      <th></th>\n",
       "    </tr>\n",
       "  </thead>\n",
       "  <tbody>\n",
       "    <tr>\n",
       "      <th>2023-01-01</th>\n",
       "      <td>100</td>\n",
       "      <td>150</td>\n",
       "      <td>200</td>\n",
       "    </tr>\n",
       "    <tr>\n",
       "      <th>2023-02-01</th>\n",
       "      <td>120</td>\n",
       "      <td>180</td>\n",
       "      <td>220</td>\n",
       "    </tr>\n",
       "    <tr>\n",
       "      <th>2023-03-01</th>\n",
       "      <td>150</td>\n",
       "      <td>200</td>\n",
       "      <td>250</td>\n",
       "    </tr>\n",
       "  </tbody>\n",
       "</table>\n",
       "</div>"
      ],
      "text/plain": [
       "Category    Category A  Category B  Category C\n",
       "Date                                          \n",
       "2023-01-01         100         150         200\n",
       "2023-02-01         120         180         220\n",
       "2023-03-01         150         200         250"
      ]
     },
     "execution_count": 97,
     "metadata": {},
     "output_type": "execute_result"
    }
   ],
   "source": [
    "pivot_data"
   ]
  },
  {
   "cell_type": "markdown",
   "id": "2ea5092e-2dc2-464c-961f-0a7a266a7669",
   "metadata": {},
   "source": [
    "# Q11"
   ]
  },
  {
   "cell_type": "code",
   "execution_count": 100,
   "id": "a730848a-336c-4544-b538-2c559fb1daa9",
   "metadata": {},
   "outputs": [],
   "source": [
    "data = {\n",
    "    'Student_ID': [1, 2, 3, 4, 5, 6, 7, 8, 9, 10],\n",
    "    'test_score': [85, 90, 80, 75, 85, 82, 78, 85, 90, 85]\n",
    "}\n",
    "data1=pd.DataFrame(data)\n",
    "data1.to_csv(\"student_data.csv\",index=False)"
   ]
  },
  {
   "cell_type": "code",
   "execution_count": 104,
   "id": "45dddac7-81b9-41e6-b7bf-1f047bb90e0f",
   "metadata": {},
   "outputs": [
    {
     "name": "stdin",
     "output_type": "stream",
     "text": [
      "Enter the file path in CSV format: student_data.csv\n"
     ]
    },
    {
     "name": "stdout",
     "output_type": "stream",
     "text": [
      "  Statistic  values\n",
      "0      Mean    83.5\n",
      "1    Median    85.0\n",
      "2      Mode    85.0\n"
     ]
    }
   ],
   "source": [
    "file_path=input(\"Enter the file path in CSV format:\")\n",
    "df=pd.read_csv(file_path)\n",
    "d={'Statistic':['Mean','Median','Mode'],\n",
    "  'values':[df['test_score'].mean(),df['test_score'].median(),df['test_score'].mode()[0]]}\n",
    "df1=pd.DataFrame(d)\n",
    "print(df1)"
   ]
  },
  {
   "cell_type": "code",
   "execution_count": null,
   "id": "30d8a325-5ad6-44f5-a40c-6f69aa620431",
   "metadata": {},
   "outputs": [],
   "source": []
  }
 ],
 "metadata": {
  "kernelspec": {
   "display_name": "Python 3 (ipykernel)",
   "language": "python",
   "name": "python3"
  },
  "language_info": {
   "codemirror_mode": {
    "name": "ipython",
    "version": 3
   },
   "file_extension": ".py",
   "mimetype": "text/x-python",
   "name": "python",
   "nbconvert_exporter": "python",
   "pygments_lexer": "ipython3",
   "version": "3.10.8"
  }
 },
 "nbformat": 4,
 "nbformat_minor": 5
}
