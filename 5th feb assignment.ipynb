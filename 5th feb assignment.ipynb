{
 "cells": [
  {
   "cell_type": "markdown",
   "id": "abecd185-3136-421e-95e7-5b4c9f8141d0",
   "metadata": {},
   "source": [
    "# Q1"
   ]
  },
  {
   "cell_type": "markdown",
   "id": "dce80c53-c93e-459d-8b15-ed3bf0df5ae7",
   "metadata": {},
   "source": [
    "# Class is a broad classification of the real world entity and an object is the real world entity also known as the instance or variable.\n",
    "# For example \"car\" is a class which contains different specifications and a particular car is its object which will have a name and all the details(specifications) will be stored in the class knowwn as car."
   ]
  },
  {
   "cell_type": "code",
   "execution_count": 1,
   "id": "ec431368-7f87-40b2-974b-7c86ebaa4b59",
   "metadata": {},
   "outputs": [],
   "source": [
    "class car:\n",
    "    def __init__(self,model,year_of_make):\n",
    "        self.model=model\n",
    "        self.year_of_make=year_of_make\n",
    "    def car_details(self):\n",
    "        return self.model, self.year_of_make"
   ]
  },
  {
   "cell_type": "code",
   "execution_count": 4,
   "id": "aa3fd009-dbd4-42bb-b4c7-d3db4bcd3f35",
   "metadata": {},
   "outputs": [],
   "source": [
    "tata=car(\"safari\",2021)"
   ]
  },
  {
   "cell_type": "markdown",
   "id": "14e6ad5b-a4e3-45c6-a568-5d3e007401a0",
   "metadata": {},
   "source": [
    "# Here tata is an object which will contain attributes model and year of make"
   ]
  },
  {
   "cell_type": "code",
   "execution_count": 5,
   "id": "d0104cca-8e7f-4ae7-847f-5e05b049610e",
   "metadata": {},
   "outputs": [
    {
     "data": {
      "text/plain": [
       "('safari', 2021)"
      ]
     },
     "execution_count": 5,
     "metadata": {},
     "output_type": "execute_result"
    }
   ],
   "source": [
    "tata.car_details()"
   ]
  },
  {
   "cell_type": "markdown",
   "id": "84fc81a6-44a2-412b-9cbb-8a2741d7612a",
   "metadata": {},
   "source": [
    "# Q2"
   ]
  },
  {
   "cell_type": "markdown",
   "id": "870fc6f6-8f94-4790-ac58-5f70663973f9",
   "metadata": {},
   "source": [
    "# The four pillars of OOPs is:-\n",
    "# 1) Polymorphism\n",
    "# 2)Encapsulation\n",
    "# 3)Inheritance\n",
    "# 4)Abstraction"
   ]
  },
  {
   "cell_type": "markdown",
   "id": "6c0f7096-84ed-403c-8ecc-5d699709b0a8",
   "metadata": {},
   "source": [
    "# Q3"
   ]
  },
  {
   "cell_type": "markdown",
   "id": "ccd9bef2-0cf3-4b86-baec-84c1ce914e3a",
   "metadata": {},
   "source": [
    "# __init__() function is a type of a constructor and is used to initialise a particular class such that when its object is created its members are initialised by the programmer. These members can be accessed and changed at any point of time by the developer. Example given:-"
   ]
  },
  {
   "cell_type": "code",
   "execution_count": 8,
   "id": "04cfc7e7-fe63-4bb2-96e9-1393fac80bcb",
   "metadata": {},
   "outputs": [],
   "source": [
    "class pwskills:\n",
    "    def __init__(self,phone_number,email_id,student_id):\n",
    "        self.phone_number=phone_number\n",
    "        self.email_id=email_id\n",
    "        self.student_id=student_id\n",
    "    def return_details(self):\n",
    "        return self.phone_number,self.email_id,self.student_id"
   ]
  },
  {
   "cell_type": "code",
   "execution_count": 10,
   "id": "75023c95-d661-4c1d-92ca-5022fdbe20eb",
   "metadata": {},
   "outputs": [],
   "source": [
    "vishal=pwskills(1234567890,\"vishal@gmail.com\",564)"
   ]
  },
  {
   "cell_type": "code",
   "execution_count": 12,
   "id": "6b19720d-97ae-4e38-bb9c-262e653476b6",
   "metadata": {},
   "outputs": [
    {
     "data": {
      "text/plain": [
       "1234567890"
      ]
     },
     "execution_count": 12,
     "metadata": {},
     "output_type": "execute_result"
    }
   ],
   "source": [
    "vishal.phone_number"
   ]
  },
  {
   "cell_type": "markdown",
   "id": "df8dc1fc-7612-4db3-87b0-d9aae6af6654",
   "metadata": {},
   "source": [
    "# Q4"
   ]
  },
  {
   "cell_type": "markdown",
   "id": "113c2b0a-df56-412b-81d3-0d0e07f2bd22",
   "metadata": {},
   "source": [
    "# self is used in classes to make a reference of its members so that the class knows that the user is trying to access its member and not some other member.For example in the above code of Q3, the functions init() and return_details() both take one of the argument as \"self\" such that the class knows that these functions are its member functions."
   ]
  },
  {
   "cell_type": "markdown",
   "id": "9d96eee6-9454-44b2-80d8-e139f48d8161",
   "metadata": {},
   "source": [
    "# Q5"
   ]
  },
  {
   "cell_type": "markdown",
   "id": "78529a8f-dab1-425d-9156-4b1e1a35879d",
   "metadata": {},
   "source": [
    "# There are 5 types of inheritance:-\n",
    "# 1)Single\n",
    "# 2)Multiple\n",
    "# 3)Multi level\n",
    "# 4)Hierarchical\n",
    "# 5)Hybrid"
   ]
  },
  {
   "cell_type": "code",
   "execution_count": 32,
   "id": "f12f8e94-e43b-4c96-89b3-d6e3d4c3944d",
   "metadata": {},
   "outputs": [
    {
     "name": "stdout",
     "output_type": "stream",
     "text": [
      "This is my parent class\n"
     ]
    }
   ],
   "source": [
    "# single inheritance\n",
    "class test:\n",
    "    def func(self):\n",
    "        print(\"This is my parent class\")\n",
    "        \n",
    "class child(test):\n",
    "    pass \n",
    "obj=child()\n",
    "obj.func()"
   ]
  },
  {
   "cell_type": "code",
   "execution_count": 33,
   "id": "0be96eb7-bb93-4bf2-8953-403d67e52b43",
   "metadata": {},
   "outputs": [
    {
     "name": "stdout",
     "output_type": "stream",
     "text": [
      "This is a method of class 1\n",
      "This is a method of class 2\n"
     ]
    }
   ],
   "source": [
    "# Multi level Inheritance\n",
    "class class1:\n",
    "    def meth1(self):\n",
    "        print(\"This is a method of class 1\")\n",
    "class class2(class1):\n",
    "    def meth2(self):\n",
    "        print(\"This is a method of class 2\")\n",
    "class class3(class2):\n",
    "    pass\n",
    "obj2=class3()\n",
    "obj2.meth1()\n",
    "obj2.meth2()"
   ]
  },
  {
   "cell_type": "code",
   "execution_count": 36,
   "id": "4e281930-9683-417f-8f4a-b1ee340ae847",
   "metadata": {},
   "outputs": [
    {
     "data": {
      "text/plain": [
       "'this is class5'"
      ]
     },
     "execution_count": 36,
     "metadata": {},
     "output_type": "execute_result"
    }
   ],
   "source": [
    "# Multiple inheritance\n",
    "class class4:\n",
    "    def meth4(self):\n",
    "        return \"this is class4\"\n",
    "class class5:\n",
    "    def meth5(self):\n",
    "        return \"this is class5\"\n",
    "class class6(class4,class5):\n",
    "    pass\n",
    "obj1=class6()\n",
    "obj1.meth5()\n"
   ]
  },
  {
   "cell_type": "code",
   "execution_count": 37,
   "id": "a96e7f85-0c40-4a77-82ec-1be39da59bc6",
   "metadata": {},
   "outputs": [
    {
     "data": {
      "text/plain": [
       "'this is class4'"
      ]
     },
     "execution_count": 37,
     "metadata": {},
     "output_type": "execute_result"
    }
   ],
   "source": [
    "obj1.meth4()"
   ]
  },
  {
   "cell_type": "code",
   "execution_count": 4,
   "id": "7259188c-cf88-4949-93d9-b6e7dd926dc3",
   "metadata": {},
   "outputs": [
    {
     "name": "stdout",
     "output_type": "stream",
     "text": [
      "you are in parent class\n",
      "you are in parent class\n"
     ]
    }
   ],
   "source": [
    "# Hierarchical inheritance\n",
    "class parent:\n",
    "    def fun1(self):\n",
    "        print(\"you are in parent class\")\n",
    "class child1(parent):\n",
    "    def fun2(self):\n",
    "        print(\"you are in child1 class\")\n",
    "class child2(parent):\n",
    "    def fun3(self):\n",
    "        print(\"you are in child2 class\")\n",
    "child1_obj=child1()\n",
    "child2_obj=child2()\n",
    "child2_obj.fun1()\n",
    "child1_obj.fun1()"
   ]
  },
  {
   "cell_type": "markdown",
   "id": "8d388d0b-c31f-4d62-9e31-f1bf32848437",
   "metadata": {},
   "source": [
    "# In hierarchical inheritance we can access parent class from both child classes"
   ]
  },
  {
   "cell_type": "code",
   "execution_count": 9,
   "id": "7a408f93-a6d5-4451-a62d-0526c5a6c4dd",
   "metadata": {},
   "outputs": [
    {
     "name": "stdout",
     "output_type": "stream",
     "text": [
      "you are in class D\n",
      "you are in classC\n",
      "you are in class A\n"
     ]
    }
   ],
   "source": [
    "# hybrid\n",
    "class A:\n",
    "    def fun1(self):\n",
    "        print(\"you are in class A\")\n",
    "class B(A):\n",
    "    def fun2(self):\n",
    "        print(\"you are in class B\")\n",
    "class C(A):\n",
    "    def fun3(self):\n",
    "        print(\"you are in classC\")\n",
    "class D(C,A):\n",
    "    def fun4(self):\n",
    "        print(\"you are in class D\")\n",
    "obj=D()\n",
    "obj.fun4()\n",
    "obj.fun3()\n",
    "obj.fun1()"
   ]
  },
  {
   "cell_type": "markdown",
   "id": "98b5ecf5-3355-47ef-8bea-16950c765335",
   "metadata": {},
   "source": [
    "# In hybrid different type of inheritance can take place at a time"
   ]
  },
  {
   "cell_type": "code",
   "execution_count": null,
   "id": "03e7dcb9-38e9-42ec-99c9-3fa956a1fd6e",
   "metadata": {},
   "outputs": [],
   "source": []
  }
 ],
 "metadata": {
  "kernelspec": {
   "display_name": "Python 3 (ipykernel)",
   "language": "python",
   "name": "python3"
  },
  "language_info": {
   "codemirror_mode": {
    "name": "ipython",
    "version": 3
   },
   "file_extension": ".py",
   "mimetype": "text/x-python",
   "name": "python",
   "nbconvert_exporter": "python",
   "pygments_lexer": "ipython3",
   "version": "3.10.8"
  }
 },
 "nbformat": 4,
 "nbformat_minor": 5
}
