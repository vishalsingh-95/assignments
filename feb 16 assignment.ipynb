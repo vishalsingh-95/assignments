{
 "cells": [
  {
   "cell_type": "markdown",
   "id": "e6ec94da-2740-41fa-b6bf-f130ceff09bc",
   "metadata": {},
   "source": [
    "# Q1"
   ]
  },
  {
   "cell_type": "markdown",
   "id": "118b590c-7bc2-44ba-8c11-8f711f6df228",
   "metadata": {},
   "source": [
    "# A database is an organized collection of data that is stored and accessed electronically. It is designed to efficiently manage, store, retrieve, and manipulate large amounts of information. Databases are widely used in various applications and industries to handle structured and unstructured data.\n",
    "\n",
    "# SQL (Structured Query Language):\n",
    "SQL databases are based on a relational model and use a structured schema to define the tables, columns, and relationships between them. \n",
    "SQL databases use SQL as the standard language for managing the data. Examples of SQL databases include MySQL, Oracle Database, and Microsoft SQL Server.\n",
    "\n",
    "# NoSQL (Not only SQL):\n",
    "NoSQL databases, on the other hand, provide a more flexible and scalable approach for managing data. They are designed to handle large volumes of unstructured and semi-structured data, such as JSON documents, key-value pairs, or graph data.\n",
    "NoSQL databases support various query languages, and some popular examples include MongoDB, Cassandra, and Redis."
   ]
  },
  {
   "cell_type": "markdown",
   "id": "2bd052d0-9807-40a6-96db-498e5ed35890",
   "metadata": {},
   "source": [
    "# Q2"
   ]
  },
  {
   "cell_type": "markdown",
   "id": "63a54901-1177-4522-997a-3d81a9b6346f",
   "metadata": {},
   "source": [
    "# DDL stands for Data Definition Language. It is a subset of SQL (Structured Query Language) used to define and manage the structure of a database. DDL statements are used to create, modify, or delete database objects such as tables, indexes, and constraints."
   ]
  },
  {
   "cell_type": "markdown",
   "id": "035cd6a0-91f2-478c-9651-a55e5f77739c",
   "metadata": {},
   "source": [
    "# 1) CREATE: \n",
    "The CREATE statement is used to create new database objects, such as tables, views, indexes, or procedures. It specifies the name of the object and defines its structure and properties"
   ]
  },
  {
   "cell_type": "markdown",
   "id": "1450c9c4-f67c-4407-a513-cff2cf241a11",
   "metadata": {},
   "source": [
    "# Example\n",
    "CREATE TABLE Students (\n",
    "  id INT,\n",
    "  name VARCHAR(50),\n",
    "  email VARCHAR(100)\n",
    ");\n"
   ]
  },
  {
   "cell_type": "markdown",
   "id": "3c2ebf2e-0f0c-4394-a4d6-4955cd4528eb",
   "metadata": {},
   "source": [
    "# 2) DROP: \n",
    "The DROP statement is used to delete an existing database object. It removes the object and its associated data from the database."
   ]
  },
  {
   "cell_type": "markdown",
   "id": "f093924d-d570-4c33-b287-a9fc47dc3fbb",
   "metadata": {},
   "source": [
    "# Example\n",
    "DROP TABLE Students;"
   ]
  },
  {
   "cell_type": "markdown",
   "id": "533036b0-c784-46cb-b17f-ac88152a5880",
   "metadata": {},
   "source": [
    "# 3) ALTER: \n",
    "The ALTER statement is used to modify the structure of an existing database object. It allows you to add, modify, or delete columns, constraints, or indexes. "
   ]
  },
  {
   "cell_type": "markdown",
   "id": "b4b7b648-409b-4fdc-b5b1-2185789210a7",
   "metadata": {},
   "source": [
    "# Example\n",
    "ALTER TABLE Students      \n",
    "ADD COLUMN percentage INT;"
   ]
  },
  {
   "cell_type": "markdown",
   "id": "2b1ec462-b10a-4871-b62b-9a33c38a5270",
   "metadata": {},
   "source": [
    "# 4) TRUNCATE: \n",
    "The TRUNCATE statement is used to remove all data from a table, while keeping its structure intact. Unlike the DROP statement, TRUNCATE preserves the table structure and can be used to quickly delete large amounts of data."
   ]
  },
  {
   "cell_type": "markdown",
   "id": "81c7a773-3151-4c7d-b535-5033289802fd",
   "metadata": {},
   "source": [
    "# Example\n",
    "TRUNCATE TABLE Students;"
   ]
  },
  {
   "cell_type": "markdown",
   "id": "f742bba8-cfda-4087-a754-205ac5ed5e97",
   "metadata": {},
   "source": [
    "# Q3"
   ]
  },
  {
   "cell_type": "markdown",
   "id": "d91ab71e-b400-42b9-bbf3-113602fd8ce1",
   "metadata": {},
   "source": [
    "# DML stands for Data Manipulation Language. It is a subset of SQL (Structured Query Language) used to manipulate or modify data within a database. DML statements are used to insert, update, and delete data in database tables."
   ]
  },
  {
   "cell_type": "markdown",
   "id": "854f8581-5452-423a-9d7c-e49da2c22df7",
   "metadata": {},
   "source": [
    "# 1) INSERT:\n",
    "The INSERT statement is used to add new records into a table. It specifies the table name and the values to be inserted into the corresponding columns"
   ]
  },
  {
   "cell_type": "markdown",
   "id": "c5a1bc61-dc70-448c-94c3-a945c2268bbd",
   "metadata": {},
   "source": [
    "# Example\n",
    "INSERT INTO Students(id,name,email)                 \n",
    "VALUES (1,'vishal','vishal@gmail.com')"
   ]
  },
  {
   "cell_type": "markdown",
   "id": "d31e134b-2982-4683-8023-a8c114ed421d",
   "metadata": {},
   "source": [
    "# 2) UPDATE:\n",
    "The UPDATE statement is used to modify existing records in a table. It allows you to update the values of one or more columns based on certain conditions."
   ]
  },
  {
   "cell_type": "markdown",
   "id": "dfa9c0bf-45fd-44cb-811a-1726e2b7bed1",
   "metadata": {},
   "source": [
    "# Example\n",
    "UPDATE Students   \n",
    "SET email='vishalsingh@gmail.com'    \n",
    "WHERE id=1;"
   ]
  },
  {
   "cell_type": "markdown",
   "id": "0c4a1aa8-1be9-4e21-aee5-8e9e3b286a52",
   "metadata": {},
   "source": [
    "# 3) DELETE:\n",
    "The DELETE statement is used to remove one or more records from a table based on specified conditions. It permanently deletes the specified rows from the table."
   ]
  },
  {
   "cell_type": "markdown",
   "id": "9fa31b13-329e-49a0-a51a-d19e7f3d90aa",
   "metadata": {},
   "source": [
    "# Example\n",
    "DELETE FROM Students   \n",
    "WHERE id=1;"
   ]
  },
  {
   "cell_type": "markdown",
   "id": "19d448ee-8055-4998-b2da-2c4173070173",
   "metadata": {},
   "source": [
    "# Q4"
   ]
  },
  {
   "cell_type": "markdown",
   "id": "56fc9aef-635b-4414-98ab-207e12649e56",
   "metadata": {},
   "source": [
    "# DQL stands for Data Query Language. It is a subset of SQL (Structured Query Language) used to retrieve and query data from a database. DQL is primarily focused on selecting and retrieving data based on specified criteria."
   ]
  },
  {
   "cell_type": "markdown",
   "id": "08911b27-0f17-41a6-9345-aca581c23c28",
   "metadata": {},
   "source": [
    "# SELECT:\n",
    "The SELECT statement is used to retrieve data from a database table or multiple tables. It specifies the columns to be retrieved and can also include filtering and sorting criteria. "
   ]
  },
  {
   "cell_type": "markdown",
   "id": "0c3e9047-4e83-4e8a-a802-e455b433a053",
   "metadata": {},
   "source": [
    "# Example\n",
    "SELECT column1, column2, ...  \n",
    "FROM table_name   \n",
    "WHERE condition;\n"
   ]
  },
  {
   "cell_type": "markdown",
   "id": "a79c0fc3-05d3-407f-8360-5db0e4243c48",
   "metadata": {},
   "source": [
    "# If we don't write the WHERE condition then all the data will be selected from those particular columns "
   ]
  },
  {
   "cell_type": "markdown",
   "id": "869fe845-6d42-4e05-9671-e8e9ec0e8024",
   "metadata": {},
   "source": [
    "# Q5"
   ]
  },
  {
   "cell_type": "markdown",
   "id": "08cf2f68-33e2-4f98-b436-3655b4bdae09",
   "metadata": {},
   "source": [
    "# Primary Key:\n",
    "A primary key is a column or a set of columns in a database table that uniquely identifies each record in the table. It provides a way to uniquely identify and differentiate one record from another.    \n",
    "Primary key must be unique and the data in primary key must not be NULL."
   ]
  },
  {
   "cell_type": "markdown",
   "id": "c81bca26-b8f4-46c4-837a-f4afadbace41",
   "metadata": {},
   "source": [
    "# Foreign Key:\n",
    "A foreign key is a column or a set of columns in a database table that refers to the primary key of another table. It establishes a relationship between two tables, known as a parent-child relationship. The foreign key in the child table references the primary key of the parent table. "
   ]
  },
  {
   "cell_type": "markdown",
   "id": "fb9d1d3a-4fbd-41d4-9c8f-6fcca0d00832",
   "metadata": {},
   "source": [
    "# Q6"
   ]
  },
  {
   "cell_type": "raw",
   "id": "81b52520-8d02-48b2-80a6-f2c8affe9fc2",
   "metadata": {},
   "source": [
    "import mysql.connector\n",
    "mydb = mysql.connector.connect(\n",
    "  host=\"localhost\",\n",
    "  user=\"abc\",\n",
    "  password=\"password\"\n",
    ")\n",
    "mycursor = mydb.cursor()\n",
    "mycursor.execute(\"CREATE DATABASE if not exists test\")\n",
    "mydb.close()"
   ]
  },
  {
   "cell_type": "markdown",
   "id": "784b809d-1bce-44e8-8bc9-3f8e0a68a197",
   "metadata": {},
   "source": [
    "# This is the code to connect mysql to python and create a database named as \"test\""
   ]
  },
  {
   "cell_type": "markdown",
   "id": "1929d01a-03a0-42ba-b3d4-b951967be8f3",
   "metadata": {},
   "source": [
    "# 1) Cursor():\n",
    "The cursor() method is used to create a cursor object, which allows you to execute SQL statements and retrieve data from the database. A cursor acts as a pointer or handle to the result set returned by a query."
   ]
  },
  {
   "cell_type": "markdown",
   "id": "7c702a3c-ae3c-4c7e-8095-9beec11f1f31",
   "metadata": {},
   "source": [
    "# 2) execute():\n",
    "The execute() method is used to execute SQL statements or database commands through a cursor object. It takes an SQL query or command as a parameter and executes it within the connected database."
   ]
  },
  {
   "cell_type": "markdown",
   "id": "6a5cfa3f-8f73-4a6a-b89e-01a8b080833d",
   "metadata": {},
   "source": [
    "# Q7"
   ]
  },
  {
   "cell_type": "markdown",
   "id": "6031eb84-19dc-4be6-af49-e53dde66a91e",
   "metadata": {},
   "source": [
    "# The order of execution of SQL clauses in an SQL query are as follows:\n",
    "1) SELECT: The SELECT clause is the first clause to be executed in an SQL query. It specifies the columns to be retrieved from the table(s) and any expressions or calculations to be performed.\n",
    "2) FROM: The FROM clause comes after the SELECT clause. It specifies the table(s) from which the data will be retrieved.\n",
    "3) WHERE: The WHERE clause is executed after the FROM clause. It filters the data based on specified conditions or criteria. Rows that meet the conditions specified in the WHERE clause are included in the result set.\n",
    "4) GROUP BY: The GROUP BY clause is executed after the WHERE clause. It is used to group rows based on one or more columns. This clause is typically used in combination with aggregate functions like COUNT, SUM, AVG, etc.\n",
    "5) HAVING: The HAVING clause is executed after the GROUP BY clause. It filters the grouped data based on specified conditions. It is similar to the WHERE clause but operates on the grouped data.\n",
    "6) ORDER BY: The ORDER BY clause is executed after the HAVING clause. It sorts the result set based on one or more columns.\n",
    "7) LIMIT/OFFSET: The LIMIT and OFFSET clauses are executed after the ORDER BY clause. They are used to restrict the number of rows returned by the query and to specify the starting point of the result set."
   ]
  },
  {
   "cell_type": "code",
   "execution_count": null,
   "id": "8179fd98-6374-4ce3-91d1-cc9ab942af38",
   "metadata": {},
   "outputs": [],
   "source": []
  }
 ],
 "metadata": {
  "kernelspec": {
   "display_name": "Python 3 (ipykernel)",
   "language": "python",
   "name": "python3"
  },
  "language_info": {
   "codemirror_mode": {
    "name": "ipython",
    "version": 3
   },
   "file_extension": ".py",
   "mimetype": "text/x-python",
   "name": "python",
   "nbconvert_exporter": "python",
   "pygments_lexer": "ipython3",
   "version": "3.10.8"
  }
 },
 "nbformat": 4,
 "nbformat_minor": 5
}
