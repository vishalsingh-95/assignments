{
 "cells": [
  {
   "cell_type": "markdown",
   "id": "4fc33fca-b650-4dc7-895a-46080c78e2d6",
   "metadata": {},
   "source": [
    "# Q1"
   ]
  },
  {
   "cell_type": "markdown",
   "id": "3b308c15-0c2f-4de2-96eb-dc54ffbeffdd",
   "metadata": {},
   "source": [
    "# Probability Mass Function (PMF):\n",
    "The PMF is used to describe the probability distribution of a discrete random variable. It gives the probability of each possible outcome of the random variable. The PMF is defined for each value of the random variable and ranges from 0 to 1. The sum of the probabilities for all possible outcomes is equal to 1.\n",
    "\n",
    "# For example:\n",
    "If we take a fair dice and find the probability of occurrence of each number we will find that probability is equal to 1/6 for all its random variables x(1,2,3,4,5,6)=1/6. Now when we plot this taking values of x on the x axis and the probability on the y axis we get the probability mass function."
   ]
  },
  {
   "cell_type": "markdown",
   "id": "3206c53a-9e4a-4258-b8a9-6003fbb27308",
   "metadata": {},
   "source": [
    "# Probability Density Function (PDF):\n",
    "The PDF is used to describe the probability distribution of a continuous random variable. It represents the relative likelihood of different values occurring within a given range. Unlike the PMF, the PDF does not give the probability of a specific outcome but rather the probability density at a particular value.\n",
    "# For example:\n",
    "Consider a continuous random variable X that represents the height of adults in a population. The PDF for this scenario might be a normal distribution (bell curve) with a mean of 170 cm and a standard deviation of 10 cm."
   ]
  },
  {
   "cell_type": "markdown",
   "id": "63573a98-37d0-4dd8-a9fa-ba4cd0f893c0",
   "metadata": {},
   "source": [
    "# Q2"
   ]
  },
  {
   "cell_type": "markdown",
   "id": "e1e045a3-38c8-4c23-93d6-0a5012bc4add",
   "metadata": {},
   "source": [
    "# The Cumulative Density Function (CDF) is a mathematical function that describes the cumulative probability distribution of a random variable. It gives the probability that the random variable takes on a value less than or equal to a given value.\n",
    "\n",
    "# The CDF is defined for both discrete and continuous random variables. For a discrete random variable, the CDF is the sum of the probabilities of all values less than or equal to the given value. For a continuous random variable, the CDF is obtained by integrating the PDF from negative infinity to the given value.\n",
    "\n",
    "# Let's consider a fair six-sided die. The random variable X represents the outcome of a single roll of the die. The CDF for this scenario would be:\n",
    "\n",
    "CDF(X ≤ 1) = P(X = 1) = 1/6  \n",
    "CDF(X ≤ 2) = P(X = 1) + P(X = 2) = 1/6 + 1/6 = 1/3  \n",
    "CDF(X ≤ 3) = P(X = 1) + P(X = 2) + P(X = 3) = 1/6 + 1/6 + 1/6 = 1/2  \n",
    "CDF(X ≤ 4) = P(X = 1) + P(X = 2) + P(X = 3) + P(X = 4) = 1/6 + 1/6 + 1/6 + 1/6 = 2/3  \n",
    "CDF(X ≤ 5) = P(X = 1) + P(X = 2) + P(X = 3) + P(X = 4) + P(X = 5) = 1/6 + 1/6 + 1/6 + 1/6 + 1/6 = 5/6  \n",
    "CDF(X ≤ 6) = P(X = 1) + P(X = 2) + P(X = 3) + P(X = 4) + P(X = 5) + P(X = 6) = 1/6 + 1/6 + 1/6 + 1/6 + 1/6 + 1/6 = 1\n",
    "\n",
    "# In this example, the CDF tells us the probability that the outcome of a roll of the die is less than or equal to a given value. For instance, CDF(X ≤ 3) represents the probability that the outcome is 3 or less, which is 1/2.\n"
   ]
  },
  {
   "cell_type": "markdown",
   "id": "2735f99d-b776-4397-9b57-d302a38a1c8a",
   "metadata": {},
   "source": [
    "# The CDF is used for several purposes:\n",
    "\n",
    "Probability calculation: The CDF allows us to calculate the probability of a random variable falling within a particular range. By subtracting the CDF at a lower value from the CDF at a higher value, we can find the probability between those two values.\n",
    "\n",
    "Quantile determination: The CDF helps in finding the quantiles of a distribution. Given a probability, the CDF can be inverted to determine the value at which that probability is reached or exceeded. This is useful in determining percentiles or confidence intervals.\n",
    "\n",
    "Statistical analysis: The CDF provides a comprehensive summary of the distribution of a random variable. It allows us to assess properties such as median, mean, variance, skewness, and kurtosis."
   ]
  },
  {
   "cell_type": "markdown",
   "id": "512bc254-217c-41c8-8dc8-ba34a00fda98",
   "metadata": {},
   "source": [
    "# Q3"
   ]
  },
  {
   "cell_type": "markdown",
   "id": "315aebbd-9101-4856-86a5-a7e9f42a1687",
   "metadata": {},
   "source": [
    "# some examples of situations where the normal distribution might be used as a model:\n",
    "\n",
    "# 1)Heights and weights\n",
    "# 2)Iq scores\n",
    "# 3)Errors in measurement\n",
    "# 4) Financial markets\n",
    "# 5) Natural phenomena\n",
    "\n",
    "# The parameters of the normal distribution, namely the mean (μ) and standard deviation (σ), play a crucial role in determining the shape of the distribution:\n",
    "\n",
    "Mean (μ): The mean represents the central tendency of the distribution. It determines the location of the peak of the distribution, which is also the point of symmetry. Shifting the mean to the right or left changes the position of the peak accordingly.\n",
    "\n",
    "Standard deviation (σ): The standard deviation measures the dispersion or spread of the distribution. A smaller standard deviation indicates that the data points are clustered closely around the mean, resulting in a narrower and taller distribution. Conversely, a larger standard deviation leads to a wider and flatter distribution with more dispersed data points."
   ]
  },
  {
   "cell_type": "markdown",
   "id": "a22ca9c8-c4d5-4d63-9157-264e1e8e71dd",
   "metadata": {},
   "source": [
    "# Q4"
   ]
  },
  {
   "cell_type": "markdown",
   "id": "5b4beb81-d9af-48c4-a7ba-22edcce06c97",
   "metadata": {},
   "source": [
    "# The normal distribution curve is one of the most important curve in statistics because almost every data which have sufficient amount of entries tend to follow a normal distribution curve.\n",
    "\n",
    "# Real-life examples of situations where the normal distribution is commonly observed include:\n",
    "\n",
    "a) Heights of adults: In a population, the heights of adults often follow a roughly normal distribution, with most people clustered around the average height.\n",
    "\n",
    "b) IQ scores: Intelligence quotient (IQ) scores are often standardized to have a normal distribution, where the mean is set at 100 and the standard deviation at 15.\n",
    "\n",
    "c) Test scores: In educational assessments or standardized tests, the distribution of scores often approximates a normal distribution, assuming the test is well-designed and the test-takers are representative of the population.\n",
    "\n",
    "d) Measurement errors: Errors in scientific measurements, such as instrument inaccuracies or human errors, are often assumed to be normally distributed. This assumption helps in understanding the uncertainty and variability in the measured values.\n",
    "\n",
    "e) Response times: Human response times in various tasks, such as reaction times or decision-making, often exhibit a normal distribution, with most responses clustered around the average response time."
   ]
  },
  {
   "cell_type": "markdown",
   "id": "021cfd21-b2d8-4bc6-b955-15ab4d9a4c25",
   "metadata": {},
   "source": [
    "# Q5"
   ]
  },
  {
   "cell_type": "markdown",
   "id": "feab08cd-d312-481c-b932-c6e3ae85e993",
   "metadata": {},
   "source": [
    "# The Bernoulli distribution is a discrete probability distribution that models a random experiment with two possible outcomes, typically referred to as \"success\" and \"failure.\" It is named after the Swiss mathematician Jacob Bernoulli.\n",
    "\n",
    "The Bernoulli distribution is characterized by a single parameter, p, which represents the probability of success. The probability mass function (PMF) of the Bernoulli distribution is as follows:\n",
    "\n",
    "P(X = 1) = p (probability of success)\n",
    "P(X = 0) = 1 - p (probability of failure)\n",
    "\n",
    "Here, X is a random variable that takes the value 1 with probability p (success) and the value 0 with probability 1-p (failure).\n",
    "\n",
    "# For example:-\n",
    "Let's consider a random experiment of flipping a fair coin. We can model this experiment using a Bernoulli distribution, where \"heads\" can be considered a success (1) and \"tails\" a failure (0). If the probability of getting heads is p = 0.5, then the Bernoulli distribution for this experiment can be represented as:\n",
    "\n",
    "P(X = 1) = 0.5 (probability of getting heads)\n",
    "P(X = 0) = 0.5 (probability of getting tails)\n",
    "The Bernoulli distribution allows us to model simple binary events with known probabilities of success and failure.\n",
    "\n",
    "# The Binomial distribution is an extension of the Bernoulli distribution. It represents the cumulative result of multiple independent Bernoulli trials. If X follows a Binomial distribution with parameters n and p, then X represents the number of successes in n trials, each with a probability of success p."
   ]
  },
  {
   "cell_type": "markdown",
   "id": "19c9653f-8839-4e48-8881-ff482742b12f",
   "metadata": {},
   "source": [
    "# Q6"
   ]
  },
  {
   "cell_type": "markdown",
   "id": "e827b4ac-8e94-4bcd-bb00-1a271711694a",
   "metadata": {},
   "source": [
    "# if the mean of the data is μ=50 and standard deviation is σ=10 then z score at xi=60 will be \n",
    "#                                       Z=(xi-μ)/σ\n",
    "#                                       Z=(60-50)/10\n",
    "#                                       Z=1\n",
    "# Therefore we need to find the probability of P(Z>=1)\n",
    "# From Z table P(Z<=1)=0.8413\n",
    "# Therefore P(Z>=1)= 1-P(Z<=1)=1-0.8413=0.1587"
   ]
  },
  {
   "cell_type": "markdown",
   "id": "1f6ca9a0-a08a-4865-a2d2-19f72b3decfe",
   "metadata": {},
   "source": [
    "# Q7"
   ]
  },
  {
   "cell_type": "markdown",
   "id": "53cc0587-4c8a-48ee-a9a3-9742070e82ad",
   "metadata": {},
   "source": [
    "# Uniform distribution is a type of distribution where the probability of the event happening is always constant over a certain period (a,b) and the probability is equal to 1/(b-a) for continuous function and is equal to 1/(b-a+1) in case of discrete function and the probability is equal to zero outside this interval.\n",
    "\n",
    "# For example lets perform an experiment of rolling a die the random variable is the outcome of rolling a die and it ranges from 1 to 6. Therefore the probability mass function will take the value of          1/(6-1+1)=1/6 fo all values from 1 to 6 and the probability is zero elsewhere."
   ]
  },
  {
   "cell_type": "markdown",
   "id": "308482c4-0f9f-41e7-8a52-3a9ba8380eb2",
   "metadata": {},
   "source": [
    "# Q8"
   ]
  },
  {
   "cell_type": "markdown",
   "id": "a34348e2-1ede-4683-87ee-4c7601dd44bc",
   "metadata": {},
   "source": [
    "# The z-score, also known as the standard score, is a statistical measure that indicates how many standard deviations a data point or observation is away from the mean of a distribution. It is calculated by subtracting the mean from the value and dividing the result by the standard deviation.\n",
    "\n",
    "The formula for calculating the z-score of a data point, x, in a distribution with mean μ and standard deviation σ, is:\n",
    "\n",
    "# Z = (x - μ) / σ\n",
    "\n",
    "# Its importance lies in its ability to transform data into a common scale, making it easier to understand and interpret. The z-score not only provides information about the relative position of a data point within a distribution but also enables the calculation of probabilities and determination of percentiles. By using the z-score, outliers or extreme values can be detected, aiding in data quality assessment. Moreover, the z-score is a fundamental component in hypothesis testing, allowing for statistical conclusions to be drawn."
   ]
  },
  {
   "cell_type": "markdown",
   "id": "78bee19e-f27f-4379-bd50-10a2e52d8c1c",
   "metadata": {},
   "source": [
    "# Q9"
   ]
  },
  {
   "cell_type": "markdown",
   "id": "4f0c1eb5-da8b-4ff7-8f69-1a3c38e05f4a",
   "metadata": {},
   "source": [
    "# The central limit theorem states that the sampling distribution of the mean will always be normally distributed as long as the sample size is large enough, regardless of the shape of the original distribution."
   ]
  },
  {
   "cell_type": "markdown",
   "id": "82eb65d6-cff3-4769-8e9c-72a50e6ef24f",
   "metadata": {},
   "source": [
    "# The Central Limit Theorem (CLT) holds immense significance in statistics and data analysis. It provides a powerful tool for understanding the behavior of sums or averages of independent random variables, regardless of the underlying distribution. The CLT allows us to approximate these sums or averages with a normal distribution, which is well-studied and has convenient mathematical properties. This approximation enables us to make meaningful inferences, construct confidence intervals, and perform hypothesis tests."
   ]
  },
  {
   "cell_type": "markdown",
   "id": "de4d7861-d72f-4188-b7ec-4a1456c81c44",
   "metadata": {},
   "source": [
    "# Q10"
   ]
  },
  {
   "cell_type": "markdown",
   "id": "126ba02d-fa32-4e66-b49f-de658c4baabd",
   "metadata": {},
   "source": [
    "# The Central Limit Theorem (CLT) relies on several key assumptions for its validity. These assumptions are as follows:\n",
    "\n",
    "# 1)Independence:\n",
    "The random variables being summed or averaged should be independent of each other. This means that the outcome of one variable does not affect the outcome of another.\n",
    "\n",
    "# 2)Finite Variance: \n",
    "The random variables should have a finite variance. In other words, the spread or variability of each individual variable should not be infinite.\n",
    "\n",
    "# 3)Sample Size: \n",
    "The sample size should be sufficiently large. While there is no fixed threshold, a commonly suggested guideline is that the sample size should be greater than or equal to 30. However, in some cases, the CLT may still hold reasonably well for smaller sample sizes, depending on the specific distribution.\n",
    "\n"
   ]
  },
  {
   "cell_type": "code",
   "execution_count": null,
   "id": "7977a5e1-10ec-457d-9b60-d692a27084ac",
   "metadata": {},
   "outputs": [],
   "source": []
  }
 ],
 "metadata": {
  "kernelspec": {
   "display_name": "Python 3 (ipykernel)",
   "language": "python",
   "name": "python3"
  },
  "language_info": {
   "codemirror_mode": {
    "name": "ipython",
    "version": 3
   },
   "file_extension": ".py",
   "mimetype": "text/x-python",
   "name": "python",
   "nbconvert_exporter": "python",
   "pygments_lexer": "ipython3",
   "version": "3.10.8"
  }
 },
 "nbformat": 4,
 "nbformat_minor": 5
}
