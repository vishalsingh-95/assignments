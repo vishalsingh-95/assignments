{
 "cells": [
  {
   "cell_type": "code",
   "execution_count": 1,
   "id": "4455c271-0cac-486e-90fa-3fe5e9ed9dcd",
   "metadata": {},
   "outputs": [],
   "source": [
    "import pandas as pd"
   ]
  },
  {
   "cell_type": "markdown",
   "id": "c3c22561-e1f0-4c1d-a7c8-b5b3e295e6e7",
   "metadata": {},
   "source": [
    "# Q1"
   ]
  },
  {
   "cell_type": "code",
   "execution_count": 5,
   "id": "cb90bb4a-8a86-45ed-b9e7-8c32467c7e31",
   "metadata": {},
   "outputs": [],
   "source": [
    "s=pd.Series([4,8,15,16,23,42])"
   ]
  },
  {
   "cell_type": "code",
   "execution_count": 6,
   "id": "54db7379-d0c0-4b88-817a-5dae7a80ca20",
   "metadata": {},
   "outputs": [
    {
     "data": {
      "text/plain": [
       "0     4\n",
       "1     8\n",
       "2    15\n",
       "3    16\n",
       "4    23\n",
       "5    42\n",
       "dtype: int64"
      ]
     },
     "execution_count": 6,
     "metadata": {},
     "output_type": "execute_result"
    }
   ],
   "source": [
    "s"
   ]
  },
  {
   "cell_type": "markdown",
   "id": "f7e16f62-d985-41ca-b917-bd6ab1ea529f",
   "metadata": {},
   "source": [
    "# Q2"
   ]
  },
  {
   "cell_type": "code",
   "execution_count": 9,
   "id": "cc3dcf8f-2743-4654-bb2a-15fc85d21edb",
   "metadata": {},
   "outputs": [
    {
     "data": {
      "text/plain": [
       "0     1\n",
       "1     2\n",
       "2     3\n",
       "3     4\n",
       "4     5\n",
       "5     6\n",
       "6     7\n",
       "7     8\n",
       "8     9\n",
       "9    10\n",
       "dtype: int64"
      ]
     },
     "execution_count": 9,
     "metadata": {},
     "output_type": "execute_result"
    }
   ],
   "source": [
    "x=[1,2,3,4,5,6,7,8,9,10]\n",
    "s1=pd.Series(x)\n",
    "s1"
   ]
  },
  {
   "cell_type": "markdown",
   "id": "7e2cf1b6-bcc2-458d-a577-15e409585642",
   "metadata": {},
   "source": [
    "# Q3"
   ]
  },
  {
   "cell_type": "code",
   "execution_count": 8,
   "id": "604a4bc4-c01c-4984-bdc8-386142a96f5a",
   "metadata": {},
   "outputs": [
    {
     "data": {
      "text/html": [
       "<div>\n",
       "<style scoped>\n",
       "    .dataframe tbody tr th:only-of-type {\n",
       "        vertical-align: middle;\n",
       "    }\n",
       "\n",
       "    .dataframe tbody tr th {\n",
       "        vertical-align: top;\n",
       "    }\n",
       "\n",
       "    .dataframe thead th {\n",
       "        text-align: right;\n",
       "    }\n",
       "</style>\n",
       "<table border=\"1\" class=\"dataframe\">\n",
       "  <thead>\n",
       "    <tr style=\"text-align: right;\">\n",
       "      <th></th>\n",
       "      <th>Name</th>\n",
       "      <th>Age</th>\n",
       "      <th>Gender</th>\n",
       "    </tr>\n",
       "  </thead>\n",
       "  <tbody>\n",
       "    <tr>\n",
       "      <th>0</th>\n",
       "      <td>Alice</td>\n",
       "      <td>25</td>\n",
       "      <td>female</td>\n",
       "    </tr>\n",
       "    <tr>\n",
       "      <th>1</th>\n",
       "      <td>Bob</td>\n",
       "      <td>30</td>\n",
       "      <td>male</td>\n",
       "    </tr>\n",
       "    <tr>\n",
       "      <th>2</th>\n",
       "      <td>Claire</td>\n",
       "      <td>27</td>\n",
       "      <td>female</td>\n",
       "    </tr>\n",
       "  </tbody>\n",
       "</table>\n",
       "</div>"
      ],
      "text/plain": [
       "     Name  Age  Gender\n",
       "0   Alice   25  female\n",
       "1     Bob   30    male\n",
       "2  Claire   27  female"
      ]
     },
     "execution_count": 8,
     "metadata": {},
     "output_type": "execute_result"
    }
   ],
   "source": [
    "d={'Name':['Alice','Bob','Claire'],\n",
    "   'Age':[25,30,27],\n",
    "   'Gender':['female','male','female']\n",
    "}\n",
    "df=pd.DataFrame(d)\n",
    "df\n"
   ]
  },
  {
   "cell_type": "markdown",
   "id": "8baa759b-694e-47a6-9370-f7684bc5e742",
   "metadata": {},
   "source": [
    "# Q4"
   ]
  },
  {
   "cell_type": "markdown",
   "id": "aac56a6b-4ca0-4e91-8255-02532663d977",
   "metadata": {},
   "source": [
    "# In pandas, a DataFrame is a two-dimensional data structure that represents tabular data. It is similar to a table in a relational database or a spreadsheet with rows and columns. Dataframes is designed to handle and manipulate structured data effectively."
   ]
  },
  {
   "cell_type": "code",
   "execution_count": 10,
   "id": "eda22f3c-b771-4dc4-88e7-5fabf27403e7",
   "metadata": {},
   "outputs": [
    {
     "data": {
      "text/html": [
       "<div>\n",
       "<style scoped>\n",
       "    .dataframe tbody tr th:only-of-type {\n",
       "        vertical-align: middle;\n",
       "    }\n",
       "\n",
       "    .dataframe tbody tr th {\n",
       "        vertical-align: top;\n",
       "    }\n",
       "\n",
       "    .dataframe thead th {\n",
       "        text-align: right;\n",
       "    }\n",
       "</style>\n",
       "<table border=\"1\" class=\"dataframe\">\n",
       "  <thead>\n",
       "    <tr style=\"text-align: right;\">\n",
       "      <th></th>\n",
       "      <th>Name</th>\n",
       "      <th>Age</th>\n",
       "      <th>Gender</th>\n",
       "    </tr>\n",
       "  </thead>\n",
       "  <tbody>\n",
       "    <tr>\n",
       "      <th>0</th>\n",
       "      <td>Alice</td>\n",
       "      <td>25</td>\n",
       "      <td>female</td>\n",
       "    </tr>\n",
       "    <tr>\n",
       "      <th>1</th>\n",
       "      <td>Bob</td>\n",
       "      <td>30</td>\n",
       "      <td>male</td>\n",
       "    </tr>\n",
       "    <tr>\n",
       "      <th>2</th>\n",
       "      <td>Claire</td>\n",
       "      <td>27</td>\n",
       "      <td>female</td>\n",
       "    </tr>\n",
       "  </tbody>\n",
       "</table>\n",
       "</div>"
      ],
      "text/plain": [
       "     Name  Age  Gender\n",
       "0   Alice   25  female\n",
       "1     Bob   30    male\n",
       "2  Claire   27  female"
      ]
     },
     "execution_count": 10,
     "metadata": {},
     "output_type": "execute_result"
    }
   ],
   "source": [
    "# Example\n",
    "d={'Name':['Alice','Bob','Claire'],\n",
    "   'Age':[25,30,27],\n",
    "   'Gender':['female','male','female']\n",
    "}\n",
    "df=pd.DataFrame(d)\n",
    "df"
   ]
  },
  {
   "cell_type": "markdown",
   "id": "b69cc7d9-ae87-4074-97d8-31b1e3e481e5",
   "metadata": {},
   "source": [
    "# A pandas Series is a one-dimensional labeled array that can hold any data type. It can be thought of as a single column from a DataFrame. A Series contains a sequence of values and a corresponding sequence of index labels that uniquely identify each element."
   ]
  },
  {
   "cell_type": "code",
   "execution_count": 11,
   "id": "876970f9-ad90-41b9-8249-370abab83012",
   "metadata": {},
   "outputs": [
    {
     "data": {
      "text/plain": [
       "0     1\n",
       "1     2\n",
       "2     3\n",
       "3     4\n",
       "4     5\n",
       "5     6\n",
       "6     7\n",
       "7     8\n",
       "8     9\n",
       "9    10\n",
       "dtype: int64"
      ]
     },
     "execution_count": 11,
     "metadata": {},
     "output_type": "execute_result"
    }
   ],
   "source": [
    "# Example\n",
    "x=[1,2,3,4,5,6,7,8,9,10]\n",
    "s1=pd.Series(x)\n",
    "s1"
   ]
  },
  {
   "cell_type": "markdown",
   "id": "956d6ea0-e941-4c89-87eb-5804dc24dcc1",
   "metadata": {},
   "source": [
    "# Q5"
   ]
  },
  {
   "cell_type": "markdown",
   "id": "9c3cf579-ca95-4a54-8f54-55b3e6f6cdbd",
   "metadata": {},
   "source": [
    "# some common functions which we use in data manipulation in pandas are:-\n",
    "df.head()  \n",
    "df.tail()   \n",
    "type(df['column_name'])  \n",
    "df.describe()  \n",
    "df.info()  \n",
    "df.shape()  \n",
    "df.sort_values()  \n",
    "df.dtypes  \n",
    "etc"
   ]
  },
  {
   "cell_type": "markdown",
   "id": "29530d56-5ccc-4d7a-a469-ff8e6e42674e",
   "metadata": {},
   "source": [
    "# df.head() is used to find the top 5 data of the dataframe. By default it returns top 5 data but we can give any value in the argument.\n",
    "# df.shape() returns the dimension of the dataframe"
   ]
  },
  {
   "cell_type": "markdown",
   "id": "df4e52f8-e701-4900-bf0c-4939e487a0ce",
   "metadata": {},
   "source": [
    "# Q6"
   ]
  },
  {
   "cell_type": "markdown",
   "id": "a4e55cfe-3834-4e8f-a96a-633542c63636",
   "metadata": {},
   "source": [
    "# DataFrame objects in pandas are mutable, meaning they can be modified after creation.\n",
    "\n",
    "# Series objects, on the other hand, are immutable in pandas. Once a Series is created, its values cannot be changed individually.\n",
    "\n",
    "# Panel data structure in pandas was also mutable but nowadays, panel is depracated and is not continued in the newer version of python"
   ]
  },
  {
   "cell_type": "markdown",
   "id": "01a67003-4e76-4f9e-8ab2-1f018d1bc532",
   "metadata": {},
   "source": [
    "# Q7"
   ]
  },
  {
   "cell_type": "code",
   "execution_count": 16,
   "id": "7ed530e2-81f2-467c-9604-cab29c355f53",
   "metadata": {},
   "outputs": [
    {
     "data": {
      "text/html": [
       "<div>\n",
       "<style scoped>\n",
       "    .dataframe tbody tr th:only-of-type {\n",
       "        vertical-align: middle;\n",
       "    }\n",
       "\n",
       "    .dataframe tbody tr th {\n",
       "        vertical-align: top;\n",
       "    }\n",
       "\n",
       "    .dataframe thead th {\n",
       "        text-align: right;\n",
       "    }\n",
       "</style>\n",
       "<table border=\"1\" class=\"dataframe\">\n",
       "  <thead>\n",
       "    <tr style=\"text-align: right;\">\n",
       "      <th></th>\n",
       "      <th>Name</th>\n",
       "      <th>Age</th>\n",
       "      <th>Gender</th>\n",
       "    </tr>\n",
       "  </thead>\n",
       "  <tbody>\n",
       "    <tr>\n",
       "      <th>0</th>\n",
       "      <td>Alice</td>\n",
       "      <td>25</td>\n",
       "      <td>Female</td>\n",
       "    </tr>\n",
       "    <tr>\n",
       "      <th>1</th>\n",
       "      <td>Bob</td>\n",
       "      <td>30</td>\n",
       "      <td>Male</td>\n",
       "    </tr>\n",
       "    <tr>\n",
       "      <th>2</th>\n",
       "      <td>Claire</td>\n",
       "      <td>27</td>\n",
       "      <td>Female</td>\n",
       "    </tr>\n",
       "  </tbody>\n",
       "</table>\n",
       "</div>"
      ],
      "text/plain": [
       "     Name  Age  Gender\n",
       "0   Alice   25  Female\n",
       "1     Bob   30    Male\n",
       "2  Claire   27  Female"
      ]
     },
     "execution_count": 16,
     "metadata": {},
     "output_type": "execute_result"
    }
   ],
   "source": [
    "name_series=pd.Series(['Alice','Bob','Claire'],name='Name')\n",
    "age_series=pd.Series([25,30,27],name='Age')\n",
    "gender_series=pd.Series(['Female','Male','Female'],name='Gender')\n",
    "df2=pd.concat([name_series,age_series,gender_series],axis=1)\n",
    "df2"
   ]
  },
  {
   "cell_type": "markdown",
   "id": "34530fb3-755c-4f1d-bdcf-3097cf6ca3a7",
   "metadata": {},
   "source": [
    "# Each series was a 1 dimensional data set and we use concat() function to concatenate the series to form a regular dataframe, here we have passed the axis as 1 so that the concatenation happens column wise, if we would have given the axis to be 0, then the concatenation would have been row wise."
   ]
  },
  {
   "cell_type": "code",
   "execution_count": null,
   "id": "1375a21c-eb27-493a-b036-9d7afd39dd19",
   "metadata": {},
   "outputs": [],
   "source": []
  }
 ],
 "metadata": {
  "kernelspec": {
   "display_name": "Python 3 (ipykernel)",
   "language": "python",
   "name": "python3"
  },
  "language_info": {
   "codemirror_mode": {
    "name": "ipython",
    "version": 3
   },
   "file_extension": ".py",
   "mimetype": "text/x-python",
   "name": "python",
   "nbconvert_exporter": "python",
   "pygments_lexer": "ipython3",
   "version": "3.10.8"
  }
 },
 "nbformat": 4,
 "nbformat_minor": 5
}
