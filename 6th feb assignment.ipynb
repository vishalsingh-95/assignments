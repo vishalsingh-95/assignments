{
 "cells": [
  {
   "cell_type": "markdown",
   "id": "8890d6a7-32fe-4614-a807-1753321c4a98",
   "metadata": {},
   "source": [
    "# Q1"
   ]
  },
  {
   "cell_type": "code",
   "execution_count": 38,
   "id": "ed2eca21-e89c-4515-8df1-c7667399d5a3",
   "metadata": {},
   "outputs": [],
   "source": [
    "def product_of_list(l):\n",
    "    l2=[]\n",
    "    for i in l:\n",
    "        if type(i) in (list,tuple,set):\n",
    "            l2.extend(i)\n",
    "        elif type(i)==dict:\n",
    "            for j in i.keys():\n",
    "                if type(j) in (int,float):\n",
    "                    l2.append(j)\n",
    "            for j in i.values():\n",
    "                if type(j) in (list,tuple,set):\n",
    "                    l2.extend(j)\n",
    "        else:\n",
    "            l2.append(i)\n",
    "    l3=[]\n",
    "    for i in l2:\n",
    "        if type(i) in (int,float):\n",
    "            l3.append(i)\n",
    "    from functools import reduce\n",
    "    return reduce(lambda x,y:x*y,l3)\n",
    "\n"
   ]
  },
  {
   "cell_type": "code",
   "execution_count": 40,
   "id": "2dbb4b4f-cdcf-4ddb-9c36-04062e308b10",
   "metadata": {},
   "outputs": [
    {
     "data": {
      "text/plain": [
       "121609171734914278789230624768000"
      ]
     },
     "execution_count": 40,
     "metadata": {},
     "output_type": "execute_result"
    }
   ],
   "source": [
    "# Main function\n",
    "list1 = [1,2,3,4, [44,55,66, True], False, (34,56,78,89,34), {1,2,3,3,2,1}, {1:34, \"key2\": [55, 67, 78, 89], 4: (45,\n",
    "22, 61, 34)}, [56, 'data science'], 'Machine Learning']\n",
    "\n",
    "product=product_of_list(list1)\n",
    "product"
   ]
  },
  {
   "cell_type": "markdown",
   "id": "e7ed5387-fc9e-43df-b4a5-f1dfde251669",
   "metadata": {},
   "source": [
    "# Q2"
   ]
  },
  {
   "cell_type": "code",
   "execution_count": null,
   "id": "eaebc72b-df58-4cca-bf7b-41b1a9ca85b1",
   "metadata": {},
   "outputs": [],
   "source": [
    "message = ['a','b','c','d','e','f','g','h','i','j','k','l','m','n','o','p','q','r','s','t','u','v','w','x','y','z']\n",
    "encrypted_message = message[::-1]\n",
    "input_message = input(\"Write the message for encryption:\")\n",
    "s = input_message.lower()\n",
    "result=''\n",
    "for char in s:\n",
    "    if char == \" \":\n",
    "        result+= \"$\"\n",
    "    else:\n",
    "        encrypted_char=char\n",
    "        for j in range(26):\n",
    "            if char == message[j]:\n",
    "                encrypted_char= encrypted_message[j]\n",
    "                break\n",
    "        \n",
    "        result+=encrypted_char\n",
    "\n",
    "print(result)\n"
   ]
  },
  {
   "cell_type": "code",
   "execution_count": null,
   "id": "67da6beb-a17f-4bf3-911e-b591e306f505",
   "metadata": {},
   "outputs": [],
   "source": [
    "encrypted_message"
   ]
  },
  {
   "cell_type": "code",
   "execution_count": null,
   "id": "3b310322-6753-44ed-a075-8b82d5664d82",
   "metadata": {},
   "outputs": [],
   "source": []
  }
 ],
 "metadata": {
  "kernelspec": {
   "display_name": "Python 3 (ipykernel)",
   "language": "python",
   "name": "python3"
  },
  "language_info": {
   "codemirror_mode": {
    "name": "ipython",
    "version": 3
   },
   "file_extension": ".py",
   "mimetype": "text/x-python",
   "name": "python",
   "nbconvert_exporter": "python",
   "pygments_lexer": "ipython3",
   "version": "3.10.8"
  }
 },
 "nbformat": 4,
 "nbformat_minor": 5
}
