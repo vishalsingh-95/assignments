{
 "cells": [
  {
   "cell_type": "markdown",
   "id": "d7d6d1cc-aa32-42bd-8ad8-9a8575090d2f",
   "metadata": {},
   "source": [
    "# Q1"
   ]
  },
  {
   "cell_type": "markdown",
   "id": "d18d25ba-54e2-4cf8-95e4-c1f569c747b8",
   "metadata": {},
   "source": [
    "# Abstraction in object-oriented programming (OOP) refers to the process of hiding complex implementation details while presenting a simplified interface to the user. Abstraction allows programmers to focus on the essential features of an object, without worrying about the details of how those features are implemented."
   ]
  },
  {
   "cell_type": "code",
   "execution_count": 1,
   "id": "fad22386-93fc-409d-b555-274b117e88ca",
   "metadata": {},
   "outputs": [],
   "source": [
    "# Example\n",
    "import abc\n",
    "class pwskills:\n",
    "    @abc.abstractmethod\n",
    "    def student_details(self):\n",
    "        pass\n",
    "    @abc.abstractmethod\n",
    "    def student_assignment(self):\n",
    "        pass\n",
    "class student_details(pwskills):\n",
    "    def student_details(self):\n",
    "        return \"this is 1st students detail\"\n",
    "    def student_assignment(self):\n",
    "        return \"This is assignment for 1st student\"\n",
    "class data_science_masters(pwskills):\n",
    "    def student_details(self):\n",
    "        return \"this is 2nd students detail\"\n",
    "    def student_assignment(self):\n",
    "        return \"This is assignment for 2nd student\"\n",
    "  "
   ]
  },
  {
   "cell_type": "markdown",
   "id": "3422fd13-5bbd-4ba0-a167-2e344931233a",
   "metadata": {},
   "source": [
    "# here we have made an abstract class \"pwskills\" in which we have 2 abstract methods, student_details and student_assignment\n",
    "now we have 2 more classes, student_details and data_science_masters which inherit the abstract class \"pwskills\" now the definition of both abstract class is been given inside these classes separately. Whichever classes' object we create, we need to call these method by that object and that classes method will be executed."
   ]
  },
  {
   "cell_type": "code",
   "execution_count": 3,
   "id": "09e53447-8738-4483-818a-7d78e74d2b75",
   "metadata": {},
   "outputs": [
    {
     "data": {
      "text/plain": [
       "'this is 1st students detail'"
      ]
     },
     "execution_count": 3,
     "metadata": {},
     "output_type": "execute_result"
    }
   ],
   "source": [
    "dsm=data_science_masters()\n",
    "sd=student_details()\n",
    "sd.student_details()"
   ]
  },
  {
   "cell_type": "code",
   "execution_count": 4,
   "id": "f1c5c42f-8235-4c2e-ad45-b5ee91b534f7",
   "metadata": {},
   "outputs": [
    {
     "data": {
      "text/plain": [
       "'this is 2nd students detail'"
      ]
     },
     "execution_count": 4,
     "metadata": {},
     "output_type": "execute_result"
    }
   ],
   "source": [
    "dsm.student_details()"
   ]
  },
  {
   "cell_type": "markdown",
   "id": "62d5973c-4c26-41e8-a14f-0a3bbb404cfe",
   "metadata": {},
   "source": [
    "# here we have made the object for both classes and called the same function from both objects, but the different definitions are executed"
   ]
  },
  {
   "cell_type": "markdown",
   "id": "a7a29674-6e38-426f-947b-1a3981e5b110",
   "metadata": {},
   "source": [
    "# Q2"
   ]
  },
  {
   "cell_type": "markdown",
   "id": "b98ee511-98ce-4db5-a78e-d158fea56751",
   "metadata": {},
   "source": [
    "# Abstraction is the process of hiding the complexity of an object and showing only the essential features to the user. It allows the user to interact with an object in a simplified way, without worrying about the implementation details. Abstraction is achieved through the use of abstract classes, interfaces, and other similar mechanisms.\n",
    "\n",
    "# Encapsulation, on the other hand, is the process of hiding the internal details of an object from the outside world. It is a way to protect the data and behavior of an object from unauthorized access or modification. Encapsulation is achieved by defining the data and methods of an object as private or protected and providing public methods to access and modify the data."
   ]
  },
  {
   "cell_type": "code",
   "execution_count": 5,
   "id": "8d14a5ff-34f3-41e9-9651-12e59d6926fe",
   "metadata": {},
   "outputs": [],
   "source": [
    "# example\n",
    "class bank_account:\n",
    "    def __init__(self,balance):\n",
    "        self.__balance=balance\n",
    "    def deposit(self,amount):\n",
    "        self.__balance=self.__balance+amount\n",
    "    def withdrawl(self,amount):\n",
    "        if self.__balance>=amount:\n",
    "            self.__balance=self.__balance-amount\n",
    "            return True\n",
    "        else:\n",
    "            return False\n",
    "    def get_balance(self):\n",
    "        return self.__balance"
   ]
  },
  {
   "cell_type": "code",
   "execution_count": 6,
   "id": "1d5884b2-a5d3-4238-9d5a-77dd3d30e855",
   "metadata": {},
   "outputs": [],
   "source": [
    "vishal=bank_account(1000)"
   ]
  },
  {
   "cell_type": "code",
   "execution_count": 7,
   "id": "9128f9f4-3b07-4053-a35f-ece833444015",
   "metadata": {},
   "outputs": [],
   "source": [
    "vishal.deposit(5000)"
   ]
  },
  {
   "cell_type": "code",
   "execution_count": 8,
   "id": "d0d3bb4e-4aff-41ad-adf8-32d0c88ef635",
   "metadata": {},
   "outputs": [
    {
     "data": {
      "text/plain": [
       "6000"
      ]
     },
     "execution_count": 8,
     "metadata": {},
     "output_type": "execute_result"
    }
   ],
   "source": [
    "vishal.get_balance()"
   ]
  },
  {
   "cell_type": "markdown",
   "id": "ecc2ec64-504a-4db1-b5c8-4eecf98f578f",
   "metadata": {},
   "source": [
    "# here the person can not access the balance directly but has to use the function get_balance to see the balance."
   ]
  },
  {
   "cell_type": "markdown",
   "id": "8a8f485c-fa7b-47e4-b2d3-9f3a46b961c8",
   "metadata": {},
   "source": [
    "# we have encapsulated the data and behavior of the bank_account class by making the balance attribute private using the double underscore __ prefix. This prevents external code from accessing or modifying this attribute directly, and instead provides public methods like get_balance() to access and modify the data.\n",
    "# On the other hand, abstraction is achieved by hiding the implementation details of the BankAccount class from external code. For example, we could define an abstract class Account that defines the interface for all types of accounts, and then create concrete subclasses like SavingsAccount, CurrentAccount, etc. that implement the details specific to each account type.\n"
   ]
  },
  {
   "cell_type": "markdown",
   "id": "cf780414-1e6c-4940-9fde-b2e9680d4a11",
   "metadata": {},
   "source": [
    "# Q3"
   ]
  },
  {
   "cell_type": "markdown",
   "id": "69ac875b-dcec-4f28-9483-f758d6c7af2f",
   "metadata": {},
   "source": [
    "# In Python, the abc module stands for \"Abstract Base Classes\". It provides a way to define abstract classes and abstract methods, which are classes and methods that have no implementation but are meant to be overridden by subclasses. The abc module is used to implement the concept of \"interface\" or \"contract\" in Python.\n",
    "#  Abstract methods are defined using the @abstractmethod decorator and have no implementation. They serve as placeholders for methods that must be implemented by subclasses.\n",
    "# The abc module provides the ABC class, which can be used as a base class for defining abstract base classes. Subclasses of ABC can be used to define abstract methods using the @abstractmethod decorator."
   ]
  },
  {
   "cell_type": "markdown",
   "id": "28606f04-97c7-46c3-be21-04f7d8f7383b",
   "metadata": {},
   "source": [
    "# Q4"
   ]
  },
  {
   "cell_type": "markdown",
   "id": "59031cb3-20ec-4489-b913-74cb894382c1",
   "metadata": {},
   "source": [
    "# Data abstraction is achieved in object-oriented programming through the use of encapsulation, which is one of the fundamental principles of object-oriented programming. \n",
    "# To achieve data abstraction in Python, we can define a class with private data attributes and public methods that manipulate those attributes. The private data attributes can only be accessed and modified by the public methods, thus hiding the internal details of the object from the outside world. This allows us to create a simple and clean interface for interacting with the object, and protects the internal details from unwanted modification."
   ]
  },
  {
   "cell_type": "markdown",
   "id": "6f490317-6bb9-495e-ae2b-f55abe723370",
   "metadata": {},
   "source": [
    "# Q5"
   ]
  },
  {
   "cell_type": "markdown",
   "id": "67b81a39-117f-48ce-b22f-b5a788ee973b",
   "metadata": {},
   "source": [
    "# No, we cannot create an instance of an abstract class in Python.\n",
    "\n",
    "# An abstract class is a class that contains one or more abstract methods, which are methods that have no implementation and are meant to be overridden by subclasses. An abstract class cannot be instantiated on its own, but must be subclassed and its abstract methods must be implemented in the subclass."
   ]
  },
  {
   "cell_type": "code",
   "execution_count": null,
   "id": "062d22cb-fa05-4b79-9ac7-1f7b54ab6c82",
   "metadata": {},
   "outputs": [],
   "source": []
  }
 ],
 "metadata": {
  "kernelspec": {
   "display_name": "Python 3 (ipykernel)",
   "language": "python",
   "name": "python3"
  },
  "language_info": {
   "codemirror_mode": {
    "name": "ipython",
    "version": 3
   },
   "file_extension": ".py",
   "mimetype": "text/x-python",
   "name": "python",
   "nbconvert_exporter": "python",
   "pygments_lexer": "ipython3",
   "version": "3.10.8"
  }
 },
 "nbformat": 4,
 "nbformat_minor": 5
}
