{
 "cells": [
  {
   "cell_type": "markdown",
   "id": "d074f5d1-512b-419e-9c47-64436dd5cd2b",
   "metadata": {},
   "source": [
    "#Q1"
   ]
  },
  {
   "cell_type": "code",
   "execution_count": 3,
   "id": "1aeca090-49bf-4c8c-88f6-3067158e4409",
   "metadata": {},
   "outputs": [
    {
     "name": "stdin",
     "output_type": "stream",
     "text": [
      "enter your percentage: 87\n"
     ]
    },
    {
     "name": "stdout",
     "output_type": "stream",
     "text": [
      "Your grade is 'B'\n"
     ]
    }
   ],
   "source": [
    "marks=float(input(\"enter your percentage:\"))\n",
    "if marks>90:\n",
    "    print(\"Your grade is 'A'\")\n",
    "elif marks<=90 and marks>80:\n",
    "    print(\"Your grade is 'B'\")\n",
    "elif marks<=80 and marks>60:\n",
    "    print(\"Your grade is 'C'\")\n",
    "else:\n",
    "    print(\"Your grade is 'D'\")"
   ]
  },
  {
   "cell_type": "markdown",
   "id": "51cc167a-6365-4cf2-980e-b51811dfd79a",
   "metadata": {},
   "source": [
    "#Q2"
   ]
  },
  {
   "cell_type": "code",
   "execution_count": 4,
   "id": "88d112ad-bc28-4162-876a-69d0f4a4ca1e",
   "metadata": {},
   "outputs": [
    {
     "name": "stdin",
     "output_type": "stream",
     "text": [
      "enter the cost of your bike: 125000\n"
     ]
    },
    {
     "name": "stdout",
     "output_type": "stream",
     "text": [
      "the tax is 15%\n"
     ]
    }
   ],
   "source": [
    "cost=int(input(\"enter the cost of your bike:\"))\n",
    "if cost<=50000:\n",
    "    print(\"The tax is 5%\")\n",
    "elif cost>50000 and cost<=100000:\n",
    "    print(\"The tax is 10%\")\n",
    "else:\n",
    "    print(\"the tax is 15%\")"
   ]
  },
  {
   "cell_type": "markdown",
   "id": "b403d129-4790-4101-9bae-b54b9dc90891",
   "metadata": {},
   "source": [
    "#Q3"
   ]
  },
  {
   "cell_type": "code",
   "execution_count": 3,
   "id": "2ecb30d0-2492-4e52-8d68-2b8dff8155fa",
   "metadata": {},
   "outputs": [
    {
     "name": "stdin",
     "output_type": "stream",
     "text": [
      "Enter the city: Delhi\n"
     ]
    },
    {
     "name": "stdout",
     "output_type": "stream",
     "text": [
      "Red fort\n"
     ]
    }
   ],
   "source": [
    "d={\"Delhi\":\"Red fort\",\"Agra\":\"Taj Mahal\",\"Jaipur\":\"Jal Mahal\"}\n",
    "city=input(\"Enter the city:\")\n",
    "print(d[city])"
   ]
  },
  {
   "cell_type": "markdown",
   "id": "98ee662a-2dd8-46a1-9225-f37e7b31d5b4",
   "metadata": {},
   "source": [
    "#Q4"
   ]
  },
  {
   "cell_type": "code",
   "execution_count": 8,
   "id": "e426c440-cd17-4fcf-aed1-a4054ed96d8d",
   "metadata": {},
   "outputs": [
    {
     "name": "stdin",
     "output_type": "stream",
     "text": [
      "Enter the number: 99\n"
     ]
    },
    {
     "name": "stdout",
     "output_type": "stream",
     "text": [
      "number of times the number can be divided by 3 before it gets less than or equal to 10 is: 2\n"
     ]
    }
   ],
   "source": [
    "n=int(input(\"Enter the number:\"))\n",
    "count=0\n",
    "while n>=10:\n",
    "    count+=1\n",
    "    n=n/3\n",
    "print(\"number of times the number can be divided by 3 before it gets less than or equal to 10 is:\",count-1)"
   ]
  },
  {
   "cell_type": "markdown",
   "id": "7cc7e5d3-e138-4821-b46a-e5f1a7a9f122",
   "metadata": {},
   "source": [
    "#Q5"
   ]
  },
  {
   "cell_type": "markdown",
   "id": "429f1a45-9560-4ff9-ac8f-8eae10de66de",
   "metadata": {},
   "source": [
    "#while loop is used where we dont know when the loop is going to terminate or in other words when we dont know \n",
    "#how many times we need to iterate on some piece of code. The perfect example is the example in 4 we dont know \n",
    "#how many times the number will be divided by 3 before it gets below 10 so we can not use a \"for\" loop here."
   ]
  },
  {
   "cell_type": "markdown",
   "id": "be8be507-02bc-4dfa-90c0-0d12bae8d46c",
   "metadata": {},
   "source": [
    "#Q6"
   ]
  },
  {
   "cell_type": "code",
   "execution_count": 15,
   "id": "a5ed8389-dd68-4567-b7ff-dcfb33900705",
   "metadata": {},
   "outputs": [
    {
     "name": "stdin",
     "output_type": "stream",
     "text": [
      "Enter the number of rows: 5\n",
      "Enter the number of columns: 7\n"
     ]
    },
    {
     "name": "stdout",
     "output_type": "stream",
     "text": [
      "*******\n",
      "*******\n",
      "*******\n",
      "*******\n",
      "*******\n"
     ]
    }
   ],
   "source": [
    "n=int(input(\"Enter the number of rows:\"))\n",
    "m=int(input(\"Enter the number of columns:\"))\n",
    "for i in range(n):\n",
    "    for j in range(m):\n",
    "        print(\"*\",end=\"\")\n",
    "    print(\"\\r\")"
   ]
  },
  {
   "cell_type": "code",
   "execution_count": 16,
   "id": "4bcf40f1-be26-40b9-ab4f-2c5f54ef5004",
   "metadata": {},
   "outputs": [
    {
     "name": "stdin",
     "output_type": "stream",
     "text": [
      "Enter the number of rows: 6\n"
     ]
    },
    {
     "name": "stdout",
     "output_type": "stream",
     "text": [
      "*\n",
      "**\n",
      "***\n",
      "****\n",
      "*****\n",
      "******\n"
     ]
    }
   ],
   "source": [
    "n=int(input(\"Enter the number of rows:\"))\n",
    "for i in range(n):\n",
    "    for j in range(i+1):\n",
    "        print(\"*\",end=\"\")\n",
    "    print(\"\\r\")"
   ]
  },
  {
   "cell_type": "code",
   "execution_count": 22,
   "id": "49b0b601-5043-4c7c-82e0-f49070633853",
   "metadata": {},
   "outputs": [
    {
     "name": "stdin",
     "output_type": "stream",
     "text": [
      "Enter the number of rows: 5\n",
      "Enter the number of columns: 6\n"
     ]
    },
    {
     "name": "stdout",
     "output_type": "stream",
     "text": [
      "******\n",
      "*    *\n",
      "*    *\n",
      "*    *\n",
      "******\n"
     ]
    }
   ],
   "source": [
    "n=int(input(\"Enter the number of rows:\"))\n",
    "m=int(input(\"Enter the number of columns:\"))\n",
    "for i in range(1,n+1):\n",
    "    for j in range(1,m+1):\n",
    "        if i==1 or i==n or j==1 or j==m:\n",
    "            print(\"*\",end=\"\")\n",
    "        else:\n",
    "            print(\" \",end=\"\")\n",
    "    print(\"\\r\")"
   ]
  },
  {
   "cell_type": "markdown",
   "id": "0d29aaf6-1a24-4650-aa69-8db5a815c86d",
   "metadata": {},
   "source": [
    "#Q7 and Q8(Since both questions are same)"
   ]
  },
  {
   "cell_type": "code",
   "execution_count": 23,
   "id": "e1279e84-7f1d-441b-a0b4-7c5d3db4c2f9",
   "metadata": {},
   "outputs": [
    {
     "name": "stdout",
     "output_type": "stream",
     "text": [
      "10\n",
      "9\n",
      "8\n",
      "7\n",
      "6\n",
      "5\n",
      "4\n",
      "3\n",
      "2\n",
      "1\n"
     ]
    }
   ],
   "source": [
    "n=10\n",
    "while n>0:\n",
    "    print(n)\n",
    "    n=n-1"
   ]
  },
  {
   "cell_type": "code",
   "execution_count": null,
   "id": "dfafc8eb-e8f5-4584-bcca-d42ae8803b82",
   "metadata": {},
   "outputs": [],
   "source": []
  }
 ],
 "metadata": {
  "kernelspec": {
   "display_name": "Python 3 (ipykernel)",
   "language": "python",
   "name": "python3"
  },
  "language_info": {
   "codemirror_mode": {
    "name": "ipython",
    "version": 3
   },
   "file_extension": ".py",
   "mimetype": "text/x-python",
   "name": "python",
   "nbconvert_exporter": "python",
   "pygments_lexer": "ipython3",
   "version": "3.10.8"
  }
 },
 "nbformat": 4,
 "nbformat_minor": 5
}
