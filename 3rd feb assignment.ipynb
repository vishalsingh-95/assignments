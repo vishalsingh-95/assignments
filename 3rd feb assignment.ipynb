{
 "cells": [
  {
   "cell_type": "markdown",
   "id": "f4aea656-8eb4-4914-a488-96b7712eb5af",
   "metadata": {},
   "source": [
    "# Q1"
   ]
  },
  {
   "cell_type": "markdown",
   "id": "7bcc31e7-d762-46f1-8bbd-44a3d154c5af",
   "metadata": {},
   "source": [
    "# the keyword \"def\" is used to write a function"
   ]
  },
  {
   "cell_type": "code",
   "execution_count": 7,
   "id": "3ef6d313-6e68-4280-aca3-0f3aa566d63e",
   "metadata": {},
   "outputs": [],
   "source": [
    "def odd_numbers():\n",
    "    l1=[]\n",
    "    for i in range(1,26):\n",
    "        if i%2==1:\n",
    "            l1.append(i)\n",
    "    return l1"
   ]
  },
  {
   "cell_type": "code",
   "execution_count": 8,
   "id": "37bcefc1-5dd6-4e20-a4d7-6e3a810dbd06",
   "metadata": {},
   "outputs": [
    {
     "data": {
      "text/plain": [
       "[1, 3, 5, 7, 9, 11, 13, 15, 17, 19, 21, 23, 25]"
      ]
     },
     "execution_count": 8,
     "metadata": {},
     "output_type": "execute_result"
    }
   ],
   "source": [
    "odd_numbers()"
   ]
  },
  {
   "cell_type": "markdown",
   "id": "6ffe5683-99bb-409d-b20b-acdececee164",
   "metadata": {},
   "source": [
    "# Q2"
   ]
  },
  {
   "cell_type": "markdown",
   "id": "4dce39c9-bd62-4cef-a932-47f5283d32eb",
   "metadata": {},
   "source": [
    "# *args is used to pass variable number of non keyword arguments in a given function, for example we have to add a certain numbers but everytime our number of arguments change then we use args, for ex:-"
   ]
  },
  {
   "cell_type": "code",
   "execution_count": 1,
   "id": "bd8da8c3-44f6-4a7b-9ba3-e7304664310d",
   "metadata": {},
   "outputs": [
    {
     "name": "stdout",
     "output_type": "stream",
     "text": [
      "5\n",
      "10\n",
      "17\n",
      "26\n"
     ]
    }
   ],
   "source": [
    "def add(*args):\n",
    "    total = 0\n",
    "    for num in args:\n",
    "        total += num\n",
    "    return total\n",
    "\n",
    "\n",
    "print(add(2, 3))\n",
    "print(add(2, 3, 5))\n",
    "print(add(2, 3, 5, 7))\n",
    "print(add(2, 3, 5, 7, 9))"
   ]
  },
  {
   "cell_type": "markdown",
   "id": "e2b956d5-6025-4276-8833-fcb776f9957f",
   "metadata": {},
   "source": [
    "# *kwargs is used to give a variable number of keywords arguments. Here we give a key value pair in the argument and the function returns a dictionary to us. For ex:-"
   ]
  },
  {
   "cell_type": "code",
   "execution_count": 2,
   "id": "64447967-be4f-4112-a5d2-1e9498983543",
   "metadata": {},
   "outputs": [
    {
     "name": "stdout",
     "output_type": "stream",
     "text": [
      "20\n",
      "30\n",
      "12\n"
     ]
    }
   ],
   "source": [
    "def total_fruits(**fruits):\n",
    "    total = 0\n",
    "    for amount in fruits.values():\n",
    "        total += amount\n",
    "    return total\n",
    "\n",
    "\n",
    "print(total_fruits(banana=5, mango=7, apple=8))\n",
    "print(total_fruits(banana=5, mango=7, apple=8, oranges=10))\n",
    "print(total_fruits(banana=5, mango=7))"
   ]
  },
  {
   "cell_type": "markdown",
   "id": "ae4ee26f-a8ec-4d9b-98ca-458648789bb3",
   "metadata": {},
   "source": [
    "# Q3"
   ]
  },
  {
   "cell_type": "markdown",
   "id": "1fd0770c-6148-41f9-8174-e5019bfb0b17",
   "metadata": {},
   "source": [
    "# An iterator is an object that allows you to iterate over collections of data, such as lists, tuples, dictionaries, and sets. The method used to initialise the iteration object is iter() and method used to iterate is next() "
   ]
  },
  {
   "cell_type": "code",
   "execution_count": 7,
   "id": "ae97498e-ac4c-487d-b727-021780cc5e37",
   "metadata": {},
   "outputs": [
    {
     "name": "stdout",
     "output_type": "stream",
     "text": [
      "2\n",
      "4\n",
      "6\n",
      "8\n",
      "10\n"
     ]
    }
   ],
   "source": [
    "l=[2,4,6,8,10,12,14,16,18,20]\n",
    "l1=iter(l)\n",
    "for i in range(1,6):\n",
    "    print(next(l1))"
   ]
  },
  {
   "cell_type": "markdown",
   "id": "ac4e92cc-a799-4fe7-a191-60fec652261e",
   "metadata": {},
   "source": [
    "# Q4"
   ]
  },
  {
   "cell_type": "markdown",
   "id": "efe290f8-9d65-48c0-bd58-6654b277e0b2",
   "metadata": {},
   "source": [
    "# A Python generator function allows you to declare a function that behaves like an iterator, providing a faster and easier way to create iterators.\n",
    "# As we know that meaning of yield is \"to produce\", similarly here yield is used to produce data 1 by one as the need of the programmer."
   ]
  },
  {
   "cell_type": "markdown",
   "id": "877a8649-1a99-4133-9c35-6c8e6b365d8d",
   "metadata": {},
   "source": [
    "#EXAMPLE OF GENERATOR FUNCTION:-"
   ]
  },
  {
   "cell_type": "code",
   "execution_count": 9,
   "id": "1e897eef-4a38-4763-a800-e79b6558f4ed",
   "metadata": {},
   "outputs": [
    {
     "name": "stdout",
     "output_type": "stream",
     "text": [
      "2\n",
      "4\n",
      "6\n",
      "8\n",
      "10\n",
      "12\n",
      "14\n",
      "16\n",
      "18\n",
      "20\n"
     ]
    }
   ],
   "source": [
    "def test_even(n):\n",
    "    a=2\n",
    "    for i in range(n):\n",
    "        yield a\n",
    "        a=a+2\n",
    "for i in test_even(10):\n",
    "    print(i)"
   ]
  },
  {
   "cell_type": "markdown",
   "id": "f26b3f54-11df-4cc9-9962-abdf08269b3b",
   "metadata": {},
   "source": [
    "# Q5"
   ]
  },
  {
   "cell_type": "code",
   "execution_count": 2,
   "id": "064ad1f4-b3cb-479e-acdb-29792f6308d6",
   "metadata": {},
   "outputs": [
    {
     "name": "stdout",
     "output_type": "stream",
     "text": [
      "2\n",
      "3\n",
      "5\n",
      "7\n",
      "11\n",
      "13\n",
      "17\n",
      "19\n",
      "23\n",
      "29\n",
      "31\n",
      "37\n",
      "41\n",
      "43\n",
      "47\n",
      "53\n",
      "59\n",
      "61\n",
      "67\n",
      "71\n"
     ]
    }
   ],
   "source": [
    "from math import sqrt\n",
    "def is_prime(n):\n",
    "    if (n <= 1):\n",
    "        return False\n",
    "    if (n == 2):\n",
    "        return True\n",
    "    if (n % 2 == 0):\n",
    "        return False\n",
    "\n",
    "    i = 3\n",
    "    while i <= sqrt(n):\n",
    "        if n % i == 0:\n",
    "            return False\n",
    "        i = i + 2\n",
    "\n",
    "    return True\n",
    "\n",
    "def prime_generator():\n",
    "    n=1\n",
    "    while n<=1000:\n",
    "        n=n+1\n",
    "        if is_prime(n):\n",
    "            yield(n)\n",
    "\n",
    "gen=prime_generator()\n",
    "for i in range(1,21):\n",
    "    print(next(gen))"
   ]
  },
  {
   "cell_type": "markdown",
   "id": "7fc3c07d-3a2a-4681-9d1a-ad395105c7cf",
   "metadata": {},
   "source": [
    "# Q6"
   ]
  },
  {
   "cell_type": "code",
   "execution_count": null,
   "id": "cf53acfe-8482-40dc-bc33-eed58d15ac1d",
   "metadata": {},
   "outputs": [
    {
     "name": "stdout",
     "output_type": "stream",
     "text": [
      "0\n",
      "1\n",
      "1\n",
      "2\n",
      "3\n",
      "5\n",
      "8\n",
      "13\n",
      "21\n",
      "34\n"
     ]
    }
   ],
   "source": [
    "def test_fib1():\n",
    "    a,b=0,1\n",
    "    while True:\n",
    "        yield a\n",
    "        a,b=b,a+b\n",
    "\n",
    "fib=test_fib1()\n",
    "\n",
    "for i in range(10):\n",
    "    print(next(fib))"
   ]
  },
  {
   "cell_type": "markdown",
   "id": "89834ef5-dfae-4aa6-b864-71c23ed95c6c",
   "metadata": {},
   "source": [
    "# Q7"
   ]
  },
  {
   "cell_type": "code",
   "execution_count": 4,
   "id": "5f9593a0-a6a5-4eaf-8f40-cfa67fee8fc4",
   "metadata": {},
   "outputs": [
    {
     "data": {
      "text/plain": [
       "['p', 'w', 's', 'k', 'i', 'l', 'l', 's']"
      ]
     },
     "execution_count": 4,
     "metadata": {},
     "output_type": "execute_result"
    }
   ],
   "source": [
    "s=\"pwskills\"\n",
    "list(i for i in s)"
   ]
  },
  {
   "cell_type": "markdown",
   "id": "a2304c94-1f59-489f-b291-31457e286a7a",
   "metadata": {},
   "source": [
    "# Q8"
   ]
  },
  {
   "cell_type": "code",
   "execution_count": 14,
   "id": "86160caa-2b55-4866-a454-2b766652a51e",
   "metadata": {},
   "outputs": [],
   "source": [
    "def check_pallindrome(m):\n",
    "    n=m\n",
    "    reverse=0\n",
    "    while n>0:\n",
    "        last=n%10\n",
    "        reverse=reverse*10+last\n",
    "        n=int(n/10)\n",
    "    if reverse==m:\n",
    "        return \"number is a palindrome\"\n",
    "    else:\n",
    "        return \"Number is not a pallindrome\"\n"
   ]
  },
  {
   "cell_type": "code",
   "execution_count": 18,
   "id": "912752fe-74c8-46f7-9b74-5a8515802476",
   "metadata": {},
   "outputs": [
    {
     "name": "stdin",
     "output_type": "stream",
     "text": [
      "Enter a number 1234321\n"
     ]
    },
    {
     "data": {
      "text/plain": [
       "'number is a palindrome'"
      ]
     },
     "execution_count": 18,
     "metadata": {},
     "output_type": "execute_result"
    }
   ],
   "source": [
    "check_pallindrome(int(input(\"Enter a number\")))"
   ]
  },
  {
   "cell_type": "markdown",
   "id": "1de161c5-bd0c-403c-a102-0ba2dd2a0f2f",
   "metadata": {},
   "source": [
    "# Q9"
   ]
  },
  {
   "cell_type": "code",
   "execution_count": 19,
   "id": "dfc89767-49e1-4ac9-805a-c2ca69c4ad9d",
   "metadata": {},
   "outputs": [],
   "source": [
    "l=list(i for i in range(1,101))"
   ]
  },
  {
   "cell_type": "code",
   "execution_count": 26,
   "id": "0749b0c5-2a76-4ba9-8914-bc01430f2b46",
   "metadata": {},
   "outputs": [],
   "source": [
    "l1=list(i for i in l if i%2==1)"
   ]
  },
  {
   "cell_type": "code",
   "execution_count": 27,
   "id": "4dbcdf92-9427-4fe7-a9a1-e7f5805543bf",
   "metadata": {},
   "outputs": [
    {
     "data": {
      "text/plain": [
       "[1,\n",
       " 3,\n",
       " 5,\n",
       " 7,\n",
       " 9,\n",
       " 11,\n",
       " 13,\n",
       " 15,\n",
       " 17,\n",
       " 19,\n",
       " 21,\n",
       " 23,\n",
       " 25,\n",
       " 27,\n",
       " 29,\n",
       " 31,\n",
       " 33,\n",
       " 35,\n",
       " 37,\n",
       " 39,\n",
       " 41,\n",
       " 43,\n",
       " 45,\n",
       " 47,\n",
       " 49,\n",
       " 51,\n",
       " 53,\n",
       " 55,\n",
       " 57,\n",
       " 59,\n",
       " 61,\n",
       " 63,\n",
       " 65,\n",
       " 67,\n",
       " 69,\n",
       " 71,\n",
       " 73,\n",
       " 75,\n",
       " 77,\n",
       " 79,\n",
       " 81,\n",
       " 83,\n",
       " 85,\n",
       " 87,\n",
       " 89,\n",
       " 91,\n",
       " 93,\n",
       " 95,\n",
       " 97,\n",
       " 99]"
      ]
     },
     "execution_count": 27,
     "metadata": {},
     "output_type": "execute_result"
    }
   ],
   "source": [
    "l1"
   ]
  },
  {
   "cell_type": "code",
   "execution_count": null,
   "id": "77c9d461-5c11-4f92-8cba-47d3163b1ab3",
   "metadata": {},
   "outputs": [],
   "source": []
  }
 ],
 "metadata": {
  "kernelspec": {
   "display_name": "Python 3 (ipykernel)",
   "language": "python",
   "name": "python3"
  },
  "language_info": {
   "codemirror_mode": {
    "name": "ipython",
    "version": 3
   },
   "file_extension": ".py",
   "mimetype": "text/x-python",
   "name": "python",
   "nbconvert_exporter": "python",
   "pygments_lexer": "ipython3",
   "version": "3.10.8"
  }
 },
 "nbformat": 4,
 "nbformat_minor": 5
}
